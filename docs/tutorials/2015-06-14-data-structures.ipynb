{
 "cells": [
  {
   "cell_type": "markdown",
   "metadata": {},
   "source": [
    "# Data structures\n",
    "\n",
    "**Author(s)**: Jukka Aho\n",
    "\n",
    "**Abstract**: Description of basis data structures. In this notebook the concepts of `Increment`, `TimeStep`, `Field`, `FieldSet`, `SpatialBasis`, `TemporalBasis` are intoduced. With combining these atomic structures one is able to form finite elements and interpolate it's fields in time and spatial domain.\n",
    "\n",
    "- `Increment` is the most atomic structure. It's a vector-like object with 1 dimension. Each element in `Increment` can be scalar, vector or tensor (2 or 4 order). It's easy to extend `Increment` to have other data types too.\n",
    "- `TimeStep` is container for increments in certain time $t$.\n",
    "- `Field` is container for timesteps for a single field.\n",
    "- `FieldSet` is container for all fields.\n",
    "\n",
    "## Revision history\n",
    "\n",
    "### 2015-06-14\n",
    "- Initial version.\n",
    "\n",
    "### 2015-09-25\n",
    "- Complete rewrite. The main ideas proposed in earlier version didn't work.\n",
    "\n",
    "### 2015-10-29\n",
    "- Third iteration."
   ]
  },
  {
   "cell_type": "markdown",
   "metadata": {},
   "source": [
    "### Data fields on elements\n",
    "\n",
    "Typical element structure so far:\n",
    "\n",
    "    type MyElement <: Element\n",
    "        connectivity :: Array{Int, 1}  # describes how dofs of this element is connected to another elements in global level\n",
    "        basis :: Basis  # describes how to interpolate fields\n",
    "        fields :: ???\n",
    "    end\n",
    "\n",
    "- Fields must be interpolable, in space $\\mathbb{C}^n \\times \\mathbb{R}$, i.e. $f(\\boldsymbol{\\xi}, t) = \\sum_i \\phi_i(\\boldsymbol{\\xi}) f_i(t) = \\sum_i \\phi_i(\\boldsymbol{\\xi}) \\sum_j \\varphi_j(t) f_{ij}$, where $f_{ij}$ is scalar, tensor or vector defined in element area $e$ by some basis functions $\\phi(\\boldsymbol{\\xi})$ and $\\varphi(t)$. Parameter $t$ is normally considered as \"time\" and $\\xi$ is dimensionless coordinate. Parameter $t$ has not necessarily to be time, it could be for example angle $\\alpha \\in [-2\\pi, 2\\pi]$ or similar.\n",
    "- We store mainly three fields, scalar field, vector field, tensor field. Field may or may not be dependent from parameters $\\xi$ or $t$.\n",
    "- $t$ is discretized to several steps $\\{t_0, t_1, \\ldots, t_n\\}$. Each discrete time $t_i$ may contain several iterations until convergence. We want to save and get access to all of this data if needed.\n",
    "- So in practice we have a set of fields $f(\\boldsymbol{\\xi})$ over time domain $t$. Typically some fields, like Geometry, is introduced only in time $t_0$. Some other fields, like boundary load, may be \"active\" only on some time $\\hat{t} \\subset t$. Some care must be taken of how to extrapolate field variables.\n",
    "- In the simplest case (simple nonlinear quasistatic analysis), we have for instance $t \\in [0, 1]$ where boundary conditions are set in $t_0$ and load is set in $t_1$. We may use adaptive strategies to shorten time if convergence issues araises."
   ]
  },
  {
   "cell_type": "markdown",
   "metadata": {},
   "source": [
    "Here's the strategy in short: each non-linear iteration is `Increment`, what is a vector-like object containing data. Elements of `Increment` can be scalars, vectors or tensors. `Increment` belongs to `TimeStep`. `TimeStep` contains one or more increments. Then we have `Field` which contains all timesteps. And finally we have `FieldSet` which contains all fields.\n",
    "\n",
    "    FieldSet -> Field -> TimeStep -> Increment -> data\n",
    "\n",
    "for example,\n",
    "\n",
    "    FieldSet -> Field -> TimeStep -> Increment -> data\n",
    "    FieldSet -> \"temperature\" -> 0.0 -> 1 -> [1,2,3,4]\n",
    "                                        2 -> [2,3,4,5]\n",
    "    FieldSet -> \"temperature\" -> 1.0 -> 1 -> [3,4,5,6]\n",
    "                                        2 -> [5,6,7,8]\n",
    "\n",
    "and so on."
   ]
  },
  {
   "cell_type": "markdown",
   "metadata": {},
   "source": [
    "### Creating discrete fields\n",
    "\n",
    "Here we create a `FieldSet` containing one field `temperature` which contains two `TimeStep`s, two `Increment`s in both of them."
   ]
  },
  {
   "cell_type": "code",
   "execution_count": 1,
   "metadata": {
    "collapsed": false
   },
   "outputs": [
    {
     "data": {
      "text/plain": [
       "Dict{ASCIIString,JuliaFEM.AbstractField} with 1 entry:\n",
       "  \"temperature\" => JuliaFEM.DefaultDiscreteField(JuliaFEM.TimeStep[JuliaFEM.Inc…"
      ]
     },
     "execution_count": 1,
     "metadata": {},
     "output_type": "execute_result"
    }
   ],
   "source": [
    "using JuliaFEM: Increment, TimeStep, Field, FieldSet\n",
    "\n",
    "fs = FieldSet()\n",
    "i1 = Increment([1, 2, 3])\n",
    "i2 = Increment([2, 3, 4])\n",
    "t1 = TimeStep(1.0, Increment[i1, i2])\n",
    "i3 = Increment([2, 3, 4])\n",
    "i4 = Increment([3, 4, 5])\n",
    "t2 = TimeStep(2.0, Increment[i3, i4])\n",
    "f1 = Field(TimeStep[t1, t2])\n",
    "fs[\"temperature\"] = f1\n",
    "fs"
   ]
  },
  {
   "cell_type": "markdown",
   "metadata": {},
   "source": [
    "Accessing last increment of last timestep of temperature can be done in the following way:"
   ]
  },
  {
   "cell_type": "code",
   "execution_count": 2,
   "metadata": {
    "collapsed": false
   },
   "outputs": [
    {
     "data": {
      "text/plain": [
       "([3,4,5],JuliaFEM.Increment{Int64})"
      ]
     },
     "execution_count": 2,
     "metadata": {},
     "output_type": "execute_result"
    }
   ],
   "source": [
    "increment = fs[\"temperature\"][end][end]\n",
    "increment, typeof(increment)"
   ]
  },
  {
   "cell_type": "markdown",
   "metadata": {},
   "source": [
    "Because the model is deep and quite heavy to type some \"shortcuts\" are provided, but keep in mind that everything is there in place. Here's the shortened version:"
   ]
  },
  {
   "cell_type": "code",
   "execution_count": 3,
   "metadata": {
    "collapsed": false
   },
   "outputs": [
    {
     "data": {
      "text/plain": [
       "([1,2,3,4],[1,2,3,4])"
      ]
     },
     "execution_count": 3,
     "metadata": {},
     "output_type": "execute_result"
    }
   ],
   "source": [
    "fs = FieldSet()  # create empty fieldset\n",
    "fs[\"temperature\"] = [1, 2, 3, 4]  # create temperature field with time t=0\n",
    "first(fs[\"temperature\"]), last(fs[\"temperature\"])  # pick first and last timestep of temperature"
   ]
  },
  {
   "cell_type": "markdown",
   "metadata": {},
   "source": [
    "This way we can easily (discrete) create scalar, vector and tensor fields."
   ]
  },
  {
   "cell_type": "code",
   "execution_count": 4,
   "metadata": {
    "collapsed": false
   },
   "outputs": [
    {
     "data": {
      "text/plain": [
       "Dict{ASCIIString,JuliaFEM.AbstractField} with 5 entries:\n",
       "  \"fourth order tensor fi… => JuliaFEM.DefaultDiscreteField(JuliaFEM.TimeStep[J…\n",
       "  \"constant scalar field\"  => JuliaFEM.DefaultDiscreteField(JuliaFEM.TimeStep[J…\n",
       "  \"vector field\"           => JuliaFEM.DefaultDiscreteField(JuliaFEM.TimeStep[J…\n",
       "  \"scalar field\"           => JuliaFEM.DefaultDiscreteField(JuliaFEM.TimeStep[J…\n",
       "  \"second order tensor fi… => JuliaFEM.DefaultDiscreteField(JuliaFEM.TimeStep[J…"
      ]
     },
     "execution_count": 4,
     "metadata": {},
     "output_type": "execute_result"
    }
   ],
   "source": [
    "fs2 = FieldSet()\n",
    "fs2[\"constant scalar field\"] = 1\n",
    "fs2[\"scalar field\"] = [1, 2, 3, 4]\n",
    "fs2[\"vector field\"] = reshape(collect(1:8), 2, 4)\n",
    "fs2[\"second order tensor field\"] = reshape(collect(1:3*3*4), 3, 3, 4)\n",
    "fs2[\"fourth order tensor field\"] = reshape(collect(1:3*3*3*3*4), 3, 3, 3, 3, 4)\n",
    "fs2"
   ]
  },
  {
   "cell_type": "markdown",
   "metadata": {},
   "source": [
    "Or even more compactly:"
   ]
  },
  {
   "cell_type": "code",
   "execution_count": 5,
   "metadata": {
    "collapsed": false
   },
   "outputs": [
    {
     "data": {
      "text/plain": [
       "Dict{ASCIIString,JuliaFEM.AbstractField} with 3 entries:\n",
       "  \"density\"     => JuliaFEM.DefaultDiscreteField(JuliaFEM.TimeStep[JuliaFEM.Inc…\n",
       "  \"geometry\"    => JuliaFEM.DefaultDiscreteField(JuliaFEM.TimeStep[JuliaFEM.Inc…\n",
       "  \"temperature\" => JuliaFEM.DefaultDiscreteField(JuliaFEM.TimeStep[JuliaFEM.Inc…"
      ]
     },
     "execution_count": 5,
     "metadata": {},
     "output_type": "execute_result"
    }
   ],
   "source": [
    "FieldSet(\"geometry\" => [1, 2, 3, 4], \"temperature\" => [0, 0, 0, 0], \"density\" => 7850)"
   ]
  },
  {
   "cell_type": "markdown",
   "metadata": {},
   "source": [
    "By default using this \"fast typing\" fields are defined at time $t=0.0$."
   ]
  },
  {
   "cell_type": "code",
   "execution_count": 6,
   "metadata": {
    "collapsed": false
   },
   "outputs": [
    {
     "data": {
      "text/plain": [
       "0.0"
      ]
     },
     "execution_count": 6,
     "metadata": {},
     "output_type": "execute_result"
    }
   ],
   "source": [
    "fs2[\"vector field\"][end].time  # pick last timestep of field \"vector field\""
   ]
  },
  {
   "cell_type": "markdown",
   "metadata": {},
   "source": [
    "Creating new field with several time steps defined can also be done compactly. Each tuple has time and increment data."
   ]
  },
  {
   "cell_type": "code",
   "execution_count": 7,
   "metadata": {
    "collapsed": false
   },
   "outputs": [
    {
     "data": {
      "text/plain": [
       "Dict{ASCIIString,JuliaFEM.AbstractField} with 6 entries:\n",
       "  \"fourth order tensor fi… => JuliaFEM.DefaultDiscreteField(JuliaFEM.TimeStep[J…\n",
       "  \"constant scalar field\"  => JuliaFEM.DefaultDiscreteField(JuliaFEM.TimeStep[J…\n",
       "  \"vector field\"           => JuliaFEM.DefaultDiscreteField(JuliaFEM.TimeStep[J…\n",
       "  \"scalar field\"           => JuliaFEM.DefaultDiscreteField(JuliaFEM.TimeStep[J…\n",
       "  \"time series\"            => JuliaFEM.DefaultDiscreteField(JuliaFEM.TimeStep[J…\n",
       "  \"second order tensor fi… => JuliaFEM.DefaultDiscreteField(JuliaFEM.TimeStep[J…"
      ]
     },
     "execution_count": 7,
     "metadata": {},
     "output_type": "execute_result"
    }
   ],
   "source": [
    "fs2[\"time series\"] = (0.0, [1, 2, 3, 4]), (0.5, [2, 3, 4, 5]), (1.0, [1, 1, 1, 1])\n",
    "fs2[\"time series\"][end].time\n",
    "fs2"
   ]
  },
  {
   "cell_type": "markdown",
   "metadata": {},
   "source": [
    "Or even without explicitly expressing time. In that case time step size is 1 second starting from 0."
   ]
  },
  {
   "cell_type": "code",
   "execution_count": 8,
   "metadata": {
    "collapsed": false
   },
   "outputs": [
    {
     "data": {
      "text/plain": [
       "Dict{ASCIIString,JuliaFEM.AbstractField} with 7 entries:\n",
       "  \"fourth order tensor fi… => JuliaFEM.DefaultDiscreteField(JuliaFEM.TimeStep[J…\n",
       "  \"constant scalar field\"  => JuliaFEM.DefaultDiscreteField(JuliaFEM.TimeStep[J…\n",
       "  \"vector field\"           => JuliaFEM.DefaultDiscreteField(JuliaFEM.TimeStep[J…\n",
       "  \"scalar field\"           => JuliaFEM.DefaultDiscreteField(JuliaFEM.TimeStep[J…\n",
       "  \"time series\"            => JuliaFEM.DefaultDiscreteField(JuliaFEM.TimeStep[J…\n",
       "  \"time series 2\"          => JuliaFEM.DefaultDiscreteField(JuliaFEM.TimeStep[J…\n",
       "  \"second order tensor fi… => JuliaFEM.DefaultDiscreteField(JuliaFEM.TimeStep[J…"
      ]
     },
     "execution_count": 8,
     "metadata": {},
     "output_type": "execute_result"
    }
   ],
   "source": [
    "fs2[\"time series 2\"] = [1, 2, 3, 4], [2, 3, 4, 5], [1, 1, 1, 1]\n",
    "fs2"
   ]
  },
  {
   "cell_type": "markdown",
   "metadata": {},
   "source": [
    "To add another field, with different time."
   ]
  },
  {
   "cell_type": "code",
   "execution_count": 9,
   "metadata": {
    "collapsed": false
   },
   "outputs": [
    {
     "data": {
      "text/plain": [
       "2-element Array{JuliaFEM.TimeStep{T},1}:\n",
       " JuliaFEM.Increment[[1,2,3,4]]\n",
       " JuliaFEM.Increment[[2,3,4,5]]"
      ]
     },
     "execution_count": 9,
     "metadata": {},
     "output_type": "execute_result"
    }
   ],
   "source": [
    "T0 = first(fs[\"temperature\"])  # pick first timestep (or to be spesific, last increment of first timestep)\n",
    "T1 = T0 + 1  # create new increment from old one\n",
    "timestep = TimeStep(1.0, T1)  # create new timestep at t=1.0\n",
    "push!(fs[\"temperature\"], timestep)  # push to field"
   ]
  },
  {
   "cell_type": "markdown",
   "metadata": {},
   "source": [
    "Normal stuff like dot product works:"
   ]
  },
  {
   "cell_type": "code",
   "execution_count": 10,
   "metadata": {
    "collapsed": false
   },
   "outputs": [
    {
     "data": {
      "text/plain": [
       "(20,20,20)"
      ]
     },
     "execution_count": 10,
     "metadata": {},
     "output_type": "execute_result"
    }
   ],
   "source": [
    "S1 = Increment([1, 2, 3])\n",
    "S2 = Increment([2, 3, 4])\n",
    "dot(S1, S2), dot([1, 2, 3], S2), dot(S1, [2, 3, 4])"
   ]
  },
  {
   "cell_type": "code",
   "execution_count": 11,
   "metadata": {
    "collapsed": false
   },
   "outputs": [
    {
     "data": {
      "text/plain": [
       "3-element Array{Float64,1}:\n",
       " 1.5\n",
       " 2.5\n",
       " 3.5"
      ]
     },
     "execution_count": 11,
     "metadata": {},
     "output_type": "execute_result"
    }
   ],
   "source": [
    "1/2*(S1 + S2)"
   ]
  },
  {
   "cell_type": "code",
   "execution_count": 12,
   "metadata": {
    "collapsed": false
   },
   "outputs": [
    {
     "data": {
      "text/plain": [
       "3-element Array{Int64,1}:\n",
       "  5\n",
       "  8\n",
       " 11"
      ]
     },
     "execution_count": 12,
     "metadata": {},
     "output_type": "execute_result"
    }
   ],
   "source": [
    "dot([1, 2], Increment[S1, S2])"
   ]
  },
  {
   "cell_type": "markdown",
   "metadata": {},
   "source": [
    "Creating empty `Increment`:"
   ]
  },
  {
   "cell_type": "code",
   "execution_count": 13,
   "metadata": {
    "collapsed": false
   },
   "outputs": [
    {
     "data": {
      "text/plain": [
       "4-element JuliaFEM.Increment{Array{Float64,1}}:\n",
       " [0.0,0.0]\n",
       " [0.0,0.0]\n",
       " [0.0,0.0]\n",
       " [0.0,0.0]"
      ]
     },
     "execution_count": 13,
     "metadata": {},
     "output_type": "execute_result"
    }
   ],
   "source": [
    "f = zeros(Increment, 2, 4)"
   ]
  },
  {
   "cell_type": "markdown",
   "metadata": {},
   "source": [
    "Create similar increment with new data:"
   ]
  },
  {
   "cell_type": "code",
   "execution_count": 14,
   "metadata": {
    "collapsed": false
   },
   "outputs": [
    {
     "data": {
      "text/plain": [
       "4-element JuliaFEM.Increment{Array{Float64,1}}:\n",
       " [1.0,1.0]\n",
       " [1.0,1.0]\n",
       " [1.0,1.0]\n",
       " [1.0,1.0]"
      ]
     },
     "execution_count": 14,
     "metadata": {},
     "output_type": "execute_result"
    }
   ],
   "source": [
    "g = similar(f, ones(8))"
   ]
  },
  {
   "cell_type": "markdown",
   "metadata": {},
   "source": [
    "### Creating continuous and discrete fields\n",
    "\n",
    "In the last section the concept of fields was demonstrated. The `Field` is actually just a typealias for a `DefaultDiscreteField` and `DefaultDiscreteField` is subtype of `DiscreteField` which is subtype of `AbstractField`:"
   ]
  },
  {
   "cell_type": "code",
   "execution_count": 15,
   "metadata": {
    "collapsed": false
   },
   "outputs": [
    {
     "data": {
      "text/plain": [
       "true"
      ]
     },
     "execution_count": 15,
     "metadata": {},
     "output_type": "execute_result"
    }
   ],
   "source": [
    "using JuliaFEM: AbstractField, DiscreteField\n",
    "Field <: DiscreteField <: AbstractField"
   ]
  },
  {
   "cell_type": "markdown",
   "metadata": {},
   "source": [
    "There exists another type of fields too, namely `ContinuousField`s. Like the name already suggests it stores continuous time and spatial domain and it can be used to write custom fields. It needs to be callable. In this example `ContinuousField` is created which returns 1x4 dimensional array defined in $\\boldsymbol\\xi \\in [-1,1]^2, t\\in[0,1]$:"
   ]
  },
  {
   "cell_type": "code",
   "execution_count": 16,
   "metadata": {
    "collapsed": true
   },
   "outputs": [],
   "source": [
    "using JuliaFEM: FieldSet, ContinuousField"
   ]
  },
  {
   "cell_type": "code",
   "execution_count": 17,
   "metadata": {
    "collapsed": false
   },
   "outputs": [
    {
     "data": {
      "text/plain": [
       "MyFunnyField()"
      ]
     },
     "execution_count": 17,
     "metadata": {},
     "output_type": "execute_result"
    }
   ],
   "source": [
    "type MyFunnyField <: ContinuousField\n",
    "end\n",
    "function Base.call(f::MyFunnyField, xi::Vector, time::Number)\n",
    "    time/4*[(1-xi[1])*(1-xi[2]) (1+xi[1])*(1-xi[2]) (1+xi[1])*(1+xi[2]) (1-xi[1])*(1+xi[2])]\n",
    "end\n",
    "f = MyFunnyField()"
   ]
  },
  {
   "cell_type": "code",
   "execution_count": 18,
   "metadata": {
    "collapsed": false
   },
   "outputs": [
    {
     "data": {
      "text/plain": [
       "1x4 Array{Float64,2}:\n",
       " 0.25  0.25  0.25  0.25"
      ]
     },
     "execution_count": 18,
     "metadata": {},
     "output_type": "execute_result"
    }
   ],
   "source": [
    "f([0.0, 0.0], 1.0)"
   ]
  },
  {
   "cell_type": "code",
   "execution_count": 19,
   "metadata": {
    "collapsed": false
   },
   "outputs": [
    {
     "data": {
      "text/plain": [
       "Dict{ASCIIString,JuliaFEM.AbstractField} with 1 entry:\n",
       "  \"basis\" => MyFunnyField()"
      ]
     },
     "execution_count": 19,
     "metadata": {},
     "output_type": "execute_result"
    }
   ],
   "source": [
    "fs = FieldSet()\n",
    "fs[\"basis\"] = MyFunnyField()\n",
    "fs"
   ]
  },
  {
   "cell_type": "code",
   "execution_count": 20,
   "metadata": {
    "collapsed": false
   },
   "outputs": [
    {
     "data": {
      "text/plain": [
       "1x4 Array{Float64,2}:\n",
       " 0.25  0.25  0.25  0.25"
      ]
     },
     "execution_count": 20,
     "metadata": {},
     "output_type": "execute_result"
    }
   ],
   "source": [
    "fs[\"basis\"]([0.0, 0.0], 1.0)"
   ]
  },
  {
   "cell_type": "markdown",
   "metadata": {},
   "source": [
    "Naturally we can pass another fields or even fieldsets to continuous field to make fields depend from each other. Here's another example, where `ContinuousField` takes another field and operates it with some function."
   ]
  },
  {
   "cell_type": "code",
   "execution_count": 21,
   "metadata": {
    "collapsed": false
   },
   "outputs": [
    {
     "data": {
      "text/plain": [
       "call (generic function with 1246 methods)"
      ]
     },
     "execution_count": 21,
     "metadata": {},
     "output_type": "execute_result"
    }
   ],
   "source": [
    "type MyFunnyContinuousField <: ContinuousField\n",
    "    basis :: Function\n",
    "    discrete_field :: DiscreteField\n",
    "end\n",
    "function Base.call(field::MyFunnyContinuousField, xi::Vector, time::Number=1.0)\n",
    "    data = last(field.discrete_field) # get the last timestep last increment\n",
    "    basis = field.basis(xi) # evaluate basis at point ξ.\n",
    "    sum([basis[i]*data[i] for i=1:length(data)]) # sum results\n",
    "end"
   ]
  },
  {
   "cell_type": "markdown",
   "metadata": {},
   "source": [
    "Now we create two fields, one is discrete and another is continuous which takes discrete field as parametes"
   ]
  },
  {
   "cell_type": "code",
   "execution_count": 22,
   "metadata": {
    "collapsed": false
   },
   "outputs": [
    {
     "data": {
      "text/plain": [
       "MyFunnyContinuousField(basis,JuliaFEM.DefaultDiscreteField(JuliaFEM.TimeStep[JuliaFEM.Increment[[1,2,3,4]]]))"
      ]
     },
     "execution_count": 22,
     "metadata": {},
     "output_type": "execute_result"
    }
   ],
   "source": [
    "fs = FieldSet()\n",
    "fs[\"discrete field\"] = [1, 2, 3, 4]\n",
    "basis(xi) = 1/4*[\n",
    "    (1-xi[1])*(1-xi[2]),\n",
    "    (1+xi[1])*(1-xi[2]),\n",
    "    (1+xi[1])*(1+xi[2]),\n",
    "    (1-xi[1])*(1+xi[2])]\n",
    "fs[\"continuous field\"] = MyFunnyContinuousField(basis, fs[\"discrete field\"])"
   ]
  },
  {
   "cell_type": "markdown",
   "metadata": {},
   "source": [
    "Results:"
   ]
  },
  {
   "cell_type": "code",
   "execution_count": 23,
   "metadata": {
    "collapsed": false
   },
   "outputs": [
    {
     "data": {
      "text/plain": [
       "(2.5,[1,2,3,4])"
      ]
     },
     "execution_count": 23,
     "metadata": {},
     "output_type": "execute_result"
    }
   ],
   "source": [
    "fs[\"continuous field\"]([0.0, 0.0], 1.0), last(fs[\"discrete field\"])"
   ]
  },
  {
   "cell_type": "markdown",
   "metadata": {},
   "source": [
    "Add another discrete field:"
   ]
  },
  {
   "cell_type": "code",
   "execution_count": 24,
   "metadata": {
    "collapsed": false
   },
   "outputs": [
    {
     "data": {
      "text/plain": [
       "Dict{ASCIIString,JuliaFEM.AbstractField} with 2 entries:\n",
       "  \"continuous field\" => MyFunnyContinuousField(basis,JuliaFEM.DefaultDiscreteFi…\n",
       "  \"discrete field\"   => JuliaFEM.DefaultDiscreteField(JuliaFEM.TimeStep[JuliaFE…"
      ]
     },
     "execution_count": 24,
     "metadata": {},
     "output_type": "execute_result"
    }
   ],
   "source": [
    "T0 = last(fs[\"discrete field\"])\n",
    "push!(fs[\"discrete field\"], TimeStep(1.0, T0 + 1.0))  # push to field\n",
    "fs"
   ]
  },
  {
   "cell_type": "markdown",
   "metadata": {},
   "source": [
    "Updated results, notice how the value of continuous field changes according to the update of discrete field."
   ]
  },
  {
   "cell_type": "code",
   "execution_count": 25,
   "metadata": {
    "collapsed": false
   },
   "outputs": [
    {
     "data": {
      "text/plain": [
       "(3.5,[2,3,4,5])"
      ]
     },
     "execution_count": 25,
     "metadata": {},
     "output_type": "execute_result"
    }
   ],
   "source": [
    "fs[\"continuous field\"]([0.0, 0.0], 1.0), last(fs[\"discrete field\"])"
   ]
  },
  {
   "cell_type": "markdown",
   "metadata": {},
   "source": [
    "What we did is that we actually interpolated discrete field using continuous functions. We evaluated discrete field using bilinear basis at midpoint of \"element\":"
   ]
  },
  {
   "cell_type": "code",
   "execution_count": 26,
   "metadata": {
    "collapsed": false
   },
   "outputs": [
    {
     "data": {
      "text/plain": [
       "(2.5,3.5)"
      ]
     },
     "execution_count": 26,
     "metadata": {},
     "output_type": "execute_result"
    }
   ],
   "source": [
    "1/4*(1+2+3+4), 1/4*(2+3+4+5)"
   ]
  },
  {
   "cell_type": "markdown",
   "metadata": {},
   "source": [
    "From continuous field we can also go back to discrete fields, if needed. Here we evaluate continuous field in four discrete points, let's call them to Gauss quadrature points."
   ]
  },
  {
   "cell_type": "code",
   "execution_count": 27,
   "metadata": {
    "collapsed": false
   },
   "outputs": [
    {
     "data": {
      "text/plain": [
       "getindex (generic function with 126 methods)"
      ]
     },
     "execution_count": 27,
     "metadata": {},
     "output_type": "execute_result"
    }
   ],
   "source": [
    "using JuliaFEM: DiscreteField\n",
    "type MyFunnyDiscreteField <: DiscreteField\n",
    "    discrete_points :: Vector\n",
    "    continuous_field :: ContinuousField\n",
    "end\n",
    "Base.length(field::MyFunnyDiscreteField) = length(field.discrete_points)\n",
    "Base.endof(field::MyFunnyDiscreteField) = endof(field.discrete_points)\n",
    "Base.last(field::MyFunnyDiscreteField) = Float64[field[i] for i=1:length(field)]\n",
    "function Base.getindex(field::MyFunnyDiscreteField, idx::Int64)\n",
    "    field.continuous_field(field.discrete_points[idx])\n",
    "end"
   ]
  },
  {
   "cell_type": "code",
   "execution_count": 28,
   "metadata": {
    "collapsed": false
   },
   "outputs": [
    {
     "data": {
      "text/plain": [
       "4-element Array{Float64,1}:\n",
       " 2.75598\n",
       " 3.08932\n",
       " 3.91068\n",
       " 4.24402"
      ]
     },
     "execution_count": 28,
     "metadata": {},
     "output_type": "execute_result"
    }
   ],
   "source": [
    "discrete_points = 1.0/sqrt(3.0)*Vector[[-1, -1], [1, -1], [1, 1], [-1, 1]]\n",
    "fs[\"discrete field 2\"] = MyFunnyDiscreteField(discrete_points, fs[\"continuous field\"])\n",
    "last(fs[\"discrete field 2\"])"
   ]
  },
  {
   "cell_type": "markdown",
   "metadata": {},
   "source": [
    "Basically summing the above values together we have just done numerical integration over element area.  By using these two simple concepts we are able to construct very interesting results.\n",
    "\n",
    "## Interpolation\n",
    "\n",
    "In earlier the concepts of `DiscreteField` and `ContinuousField` were introduced, so that now we can define discrete set of values and continuous functions. It has also been shown how fields can depend from each other such a way that we interpolate continuous field from discrete field and vice versa. \n",
    "\n",
    "This motivates us to create continuous fields which are interpolated from discrete values with some proper basis. By thinking this way interpolation is nothing more than just an application of the earlier results already shown. \n",
    "\n",
    "Interpolation of fields works of course both in time and spatial dimension. Here's a simple example showing the main concept:"
   ]
  },
  {
   "cell_type": "code",
   "execution_count": 29,
   "metadata": {
    "collapsed": false
   },
   "outputs": [],
   "source": [
    "using JuliaFEM: TemporalBasis, SpatialBasis"
   ]
  },
  {
   "cell_type": "code",
   "execution_count": 30,
   "metadata": {
    "collapsed": false
   },
   "outputs": [
    {
     "data": {
      "text/plain": [
       "2-element Array{Float64,1}:\n",
       " 0.8\n",
       " 0.2"
      ]
     },
     "execution_count": 30,
     "metadata": {},
     "output_type": "execute_result"
    }
   ],
   "source": [
    "# first unanonymous function is the actual basis and second one is derivative with respect to time\n",
    "temporalbasis = TemporalBasis((t) -> [1-t, t], (t) -> [-1, 1])\n",
    "\n",
    "basis(xi) = 1/4*[(1-xi[1])*(1-xi[2])   (1+xi[1])*(1-xi[2])   (1+xi[1])*(1+xi[2])   (1-xi[1])*(1+xi[2])]\n",
    "dbasis(xi) = 1/4*[\n",
    "    -(1-xi[2])    (1-xi[2])   (1+xi[2])  -(1+xi[2])\n",
    "    -(1-xi[1])   -(1+xi[1])   (1+xi[1])   (1-xi[1])]\n",
    "spatialbasis = SpatialBasis(basis, dbasis)\n",
    "\n",
    "temporalbasis(0.2)"
   ]
  },
  {
   "cell_type": "code",
   "execution_count": 31,
   "metadata": {
    "collapsed": false
   },
   "outputs": [
    {
     "data": {
      "text/plain": [
       "1x4 Array{Float64,2}:\n",
       " 0.25  0.25  0.25  0.25"
      ]
     },
     "execution_count": 31,
     "metadata": {},
     "output_type": "execute_result"
    }
   ],
   "source": [
    "spatialbasis([0.0, 0.0])"
   ]
  },
  {
   "cell_type": "markdown",
   "metadata": {},
   "source": [
    "### Interpolation in time domain\n",
    "\n",
    "To interpolate in time domain, call `DefaultDiscreteField` with `TemporalBasis` and time. Result is a `Increment` interpolated to that time. Here we interpolate the position of particle moving $x = \\frac{1}{2}t^2$ at time $t=1.0$."
   ]
  },
  {
   "cell_type": "code",
   "execution_count": 32,
   "metadata": {
    "collapsed": false
   },
   "outputs": [
    {
     "data": {
      "text/plain": [
       "([0.0,0.5,1.0,1.5,2.0],[0.0,0.125,0.5,1.125,2.0])"
      ]
     },
     "execution_count": 32,
     "metadata": {},
     "output_type": "execute_result"
    }
   ],
   "source": [
    "fs = FieldSet()\n",
    "t = collect(linspace(0, 2, 5))\n",
    "x = 1/2*t.^2\n",
    "t, x"
   ]
  },
  {
   "cell_type": "code",
   "execution_count": 33,
   "metadata": {
    "collapsed": false
   },
   "outputs": [
    {
     "data": {
      "text/plain": [
       "((0.0,0.0),(0.5,0.125),(1.0,0.5),(1.5,1.125),(2.0,2.0))"
      ]
     },
     "execution_count": 33,
     "metadata": {},
     "output_type": "execute_result"
    }
   ],
   "source": [
    "x2 = tuple(collect(zip(t, x))...)"
   ]
  },
  {
   "cell_type": "code",
   "execution_count": 34,
   "metadata": {
    "collapsed": false
   },
   "outputs": [
    {
     "data": {
      "text/plain": [
       "1-element Array{Float64,1}:\n",
       " 0.5"
      ]
     },
     "execution_count": 34,
     "metadata": {},
     "output_type": "execute_result"
    }
   ],
   "source": [
    "fs[\"particle position\"] = x2\n",
    "temporalbasis = TemporalBasis((t) -> [1-t, t], (t) -> [-1, 1])\n",
    "call(fs[\"particle position\"], temporalbasis, 1.0)"
   ]
  },
  {
   "cell_type": "markdown",
   "metadata": {},
   "source": [
    "It's also possible to take time derivatives. To do so, call `Field` with `TemporalBasis`, time, and additional argument `Val{:derivative}`. Again, same example:"
   ]
  },
  {
   "cell_type": "markdown",
   "metadata": {},
   "source": [
    "### Interpolation in spatial domain"
   ]
  },
  {
   "cell_type": "markdown",
   "metadata": {},
   "source": [
    "To interpolate in spatial domain, call `Increment` with `SpatialBasis` and coordinate $\\boldsymbol\\xi$. Increments to interpolate are the latest ones in each time step. Result depends from the content of the field. If it is scalar field, result will be scalar, if it's vector the result will be vector and so on.\n",
    "\n",
    "Let's have a $\\left[0,1\\right]\\times\\left[0,1\\right] \\in \\mathbb{R}^2$ domain and $u_5 = 0.25$ displacement in upper right corner pointint to the $x_1$ direction. We seek for a center point of this at time $t=1.0$."
   ]
  },
  {
   "cell_type": "code",
   "execution_count": 35,
   "metadata": {
    "collapsed": false
   },
   "outputs": [
    {
     "data": {
      "text/plain": [
       "Dict{ASCIIString,JuliaFEM.AbstractField} with 2 entries:\n",
       "  \"geometry\"     => JuliaFEM.DefaultDiscreteField(JuliaFEM.TimeStep[JuliaFEM.In…\n",
       "  \"displacement\" => JuliaFEM.DefaultDiscreteField(JuliaFEM.TimeStep[JuliaFEM.In…"
      ]
     },
     "execution_count": 35,
     "metadata": {},
     "output_type": "execute_result"
    }
   ],
   "source": [
    "fs = FieldSet()\n",
    "fs[\"geometry\"] = Vector{Float64}[[0.0,0.0], [1.0,0.0], [1.0,1.0], [0.0,1.0]]\n",
    "fs[\"displacement\"] = (0.0, zeros(2, 4)), (1.0, Vector[[0.0, 0.0], [0.0, 0.0], [0.25, 0.0], [0.0, 0.0]])\n",
    "fs"
   ]
  },
  {
   "cell_type": "code",
   "execution_count": 36,
   "metadata": {
    "collapsed": false
   },
   "outputs": [
    {
     "data": {
      "text/plain": [
       "2-element Array{Float64,1}:\n",
       " 0.5625\n",
       " 0.5   "
      ]
     },
     "execution_count": 36,
     "metadata": {},
     "output_type": "execute_result"
    }
   ],
   "source": [
    "X = call(last(fs[\"geometry\"]), spatialbasis, [0.0, 0.0])\n",
    "u = call(last(fs[\"displacement\"]), spatialbasis, [0.0, 0.0])\n",
    "x = X+u\n",
    "x"
   ]
  },
  {
   "cell_type": "markdown",
   "metadata": {},
   "source": [
    "It's also possible to take gradient of field. To calculate gradient, call `Increment` with `SpatialBasis` and coordinate $\\boldsymbol\\xi$. Also, give another `Increment` to calculate Jacobian, typically geometry, \n",
    "and add additional argument `Val{:gradient}'."
   ]
  },
  {
   "cell_type": "code",
   "execution_count": 37,
   "metadata": {
    "collapsed": false
   },
   "outputs": [
    {
     "data": {
      "text/plain": [
       "2x2 Array{Float64,2}:\n",
       " 0.125  0.125\n",
       " 0.0    0.0  "
      ]
     },
     "execution_count": 37,
     "metadata": {},
     "output_type": "execute_result"
    }
   ],
   "source": [
    "gradu = call(last(fs[\"displacement\"]), spatialbasis, [0.0, 0.0], last(fs[\"geometry\"]), Val{:gradient})"
   ]
  },
  {
   "cell_type": "markdown",
   "metadata": {},
   "source": [
    "Now we have:\n",
    "- `FieldSet` which defines discrete values in time and space\n",
    "- Interpolants `TemporalBasis` and `SpatialBasis` which defines how discrete fields values are interpolated to get continuous fields.\n",
    "\n",
    "Let's plug these in one new composite type and call it to *Finite Element*:"
   ]
  },
  {
   "cell_type": "code",
   "execution_count": 38,
   "metadata": {
    "collapsed": false
   },
   "outputs": [
    {
     "data": {
      "text/plain": [
       "FiniteElement"
      ]
     },
     "execution_count": 38,
     "metadata": {},
     "output_type": "execute_result"
    }
   ],
   "source": [
    "abstract AbstractElement\n",
    "\n",
    "type FiniteElement <: AbstractElement\n",
    "    connectivity :: Array{Int, 1}\n",
    "    basis :: SpatialBasis\n",
    "    time :: TemporalBasis\n",
    "    fields :: Dict{ASCIIString, FieldSet}\n",
    "end\n",
    "\n",
    "function FiniteElement(connectivity)\n",
    "    f(t) = [1-t, t]\n",
    "    df(t) = [-1, 1]\n",
    "    temporal_basis = TemporalBasis(f, df)\n",
    "\n",
    "    h(xi) = 1/4*[(1-xi[1])*(1-xi[2])   (1+xi[1])*(1-xi[2])   (1+xi[1])*(1+xi[2])   (1-xi[1])*(1+xi[2])]\n",
    "    dh(xi) = 1/4*[\n",
    "        -(1-xi[2])    (1-xi[2])   (1+xi[2])  -(1+xi[2])\n",
    "        -(1-xi[1])   -(1+xi[1])   (1+xi[1])   (1-xi[1])]\n",
    "    spatial_basis = SpatialBasis(h, dh)\n",
    "\n",
    "    return FiniteElement(connectivity, spatial_basis, temporal_basis, Dict())\n",
    "end"
   ]
  },
  {
   "cell_type": "code",
   "execution_count": 39,
   "metadata": {
    "collapsed": false
   },
   "outputs": [
    {
     "ename": "LoadError",
     "evalue": "LoadError: MethodError: `setindex!` has no method matching setindex!(::FiniteElement, ::Array{Array{Float64,1},1}, ::ASCIIString)\nwhile loading In[39], in expression starting on line 2",
     "output_type": "error",
     "traceback": [
      "LoadError: MethodError: `setindex!` has no method matching setindex!(::FiniteElement, ::Array{Array{Float64,1},1}, ::ASCIIString)\nwhile loading In[39], in expression starting on line 2",
      ""
     ]
    }
   ],
   "source": [
    "fe = FiniteElement([1, 2, 3, 4])\n",
    "fe[\"geometry\"] = Vector{Float64}[[0.0,0.0], [1.0,0.0], [1.0,1.0], [0.0,1.0]]\n",
    "fe[\"displacement\"] = (0.0, zeros(2, 4)), (1.0, Vector[[0.0, 0.0], [0.0, 0.0], [0.25, 0.0], [0.0, 0.0]])\n",
    "\n",
    "basis = get_basis(fe)\n",
    "basis(\"geometry\", [0.0, 0.0])\n",
    "\n",
    "dbasis = grad(basis)\n",
    "dbasis(\"displacement\", [0.0, 0.0], 0.5)\n",
    "dbasis(\"displacement\", [0.0, 0.0], 1.0)\n",
    "\n",
    "u = fe[\"displacement\"]\n",
    "strain = 1/2(grad(u) + grad(u)')\n",
    "strain_rate = diff(strain)\n",
    "strain_rate([0.0, 0.0], 1.0)"
   ]
  }
 ],
 "metadata": {
  "kernelspec": {
   "display_name": "Julia 0.4.0",
   "language": "julia",
   "name": "julia-0.4"
  },
  "language_info": {
   "file_extension": ".jl",
   "mimetype": "application/julia",
   "name": "julia",
   "version": "0.4.0"
  }
 },
 "nbformat": 4,
 "nbformat_minor": 0
}
