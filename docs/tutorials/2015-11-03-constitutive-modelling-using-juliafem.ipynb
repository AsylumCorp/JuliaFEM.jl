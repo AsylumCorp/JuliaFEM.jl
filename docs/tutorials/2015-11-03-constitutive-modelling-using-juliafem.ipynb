{
 "cells": [
  {
   "cell_type": "markdown",
   "metadata": {},
   "source": [
    "# Constitutive modelling using JuliaFEM\n",
    "\n",
    "Author(s): Jukka Aho\n",
    "\n",
    "**Abstract**: This is reproduction of the results from notebook [*Ideal plastic Von Mises material*](https://github.com/JuliaFEM/JuliaFEM.jl/blob/master/notebooks/2015-09-24-Ideal%20plastic%20Von%20Mises%20material.ipynb) made by Olli Väinölä. Small strain theory is used, see https://en.wikipedia.org/wiki/Flow_plasticity_theory. The purpose of this notebook is to show how one can easily design and simulate material models using JuliaFEM."
   ]
  },
  {
   "cell_type": "code",
   "execution_count": 1,
   "metadata": {
    "collapsed": false
   },
   "outputs": [],
   "source": [
    "using JuliaFEM: IntegrationPoint, Field, FieldSet, TimeStep, Increment\n",
    "using ForwardDiff\n",
    "using PyPlot"
   ]
  },
  {
   "cell_type": "markdown",
   "metadata": {},
   "source": [
    "The atomic structure here is `IntegrationPoint`. It has identical `Field`-structure like elements and can store multidimensional variables which can be time-dependent also. That way one can easily store, for example, measured strain and easily run material simulation for measured data."
   ]
  },
  {
   "cell_type": "code",
   "execution_count": 2,
   "metadata": {
    "collapsed": false
   },
   "outputs": [
    {
     "data": {
      "text/plain": [
       "JuliaFEM.DefaultDiscreteField([JuliaFEM.TimeStep(0.0,JuliaFEM.Increment[[0.0]])])"
      ]
     },
     "execution_count": 2,
     "metadata": {},
     "output_type": "execute_result"
    }
   ],
   "source": [
    "ip = IntegrationPoint([0.0, 0.0], 1.0)\n",
    "\n",
    "ip.fields[\"total strain\"] = Field()\n",
    "ip.fields[\"plastic strain\"] = Field()\n",
    "ip.fields[\"plastic potential\"] = Field()\n",
    "ip.fields[\"elastic strain\"] = Field()\n",
    "ip.fields[\"effective plastic strain\"] = Field()\n",
    "ip.fields[\"stress\"] = Field()\n",
    "ip.fields[\"young\"] = Field(200.0e9)\n",
    "ip.fields[\"poisson\"] = Field(0.3)\n",
    "ip.fields[\"yield stress\"] = Field(200.0e6)\n",
    "ip.fields[\"plastic rate parameter\"] = Field(0.0) # material parameter"
   ]
  },
  {
   "cell_type": "markdown",
   "metadata": {},
   "source": [
    "Accessing parameters is done just like with `FieldSet`s in general:"
   ]
  },
  {
   "cell_type": "code",
   "execution_count": 3,
   "metadata": {
    "collapsed": false
   },
   "outputs": [
    {
     "name": "stderr",
     "output_type": "stream",
     "text": [
      "INFO: [2.0e11]\n",
      "INFO: [2.0e8]\n"
     ]
    }
   ],
   "source": [
    "info(last(ip.fields[\"young\"]))\n",
    "info(last(ip.fields[\"yield stress\"]))"
   ]
  },
  {
   "cell_type": "markdown",
   "metadata": {},
   "source": [
    "Our material model is"
   ]
  },
  {
   "cell_type": "code",
   "execution_count": 118,
   "metadata": {
    "collapsed": false
   },
   "outputs": [
    {
     "data": {
      "text/plain": [
       "calculate_stress! (generic function with 1 method)"
      ]
     },
     "execution_count": 118,
     "metadata": {},
     "output_type": "execute_result"
    }
   ],
   "source": [
    "\"\"\" Ideal plastic material model. \"\"\"\n",
    "function calculate_stress!(ip::IntegrationPoint, strain::Matrix, time::Number)\n",
    "\n",
    "    dim = size(strain, 1)\n",
    "    \n",
    "    poisson = last(ip.fields[\"poisson\"])[1]\n",
    "    young = last(ip.fields[\"young\"])[1]\n",
    "    mu = young/(2*(1+poisson))\n",
    "    lambda = young*poisson/((1+poisson)*(1-2*poisson))\n",
    "    if dim == 2\n",
    "        lambda = 2*lambda*mu/(lambda + 2*mu)  # <- correction for 2d\n",
    "    end\n",
    "\n",
    "    # yield function\n",
    "    function f(stress)\n",
    "        # https://en.wikipedia.org/wiki/Yield_surface\n",
    "        # https://en.wikipedia.org/wiki/Von_Mises_yield_criterion\n",
    "        #s = stress - 1/dim*trace(stress)*I  # deviatoric stress tensor\n",
    "        #J2 = 1/2*trace(s*s')\n",
    "        #stress_v = sqrt(3/2*trace(s*s')) # equivalent tensile stress\n",
    "        stress_y = last(ip.fields[\"yield stress\"])[1]\n",
    "        #k = stress_y/sqrt(2)\n",
    "        #return J2 - k^2\n",
    "        s1 = stress[1,1]\n",
    "        s2 = stress[2,2]\n",
    "        s12 = stress[1,2]\n",
    "        stress_v = sqrt(s1^2 - s1*s2 + s2^2 + 3*s12^2)\n",
    "        #s1, s2 = eigvals(stress)\n",
    "        #stress_v = sqrt(s1^2 + s2^2 - s1*s2)\n",
    "        return stress_v - stress_y\n",
    "    end\n",
    "\n",
    "    stress_trial = lambda*trace(strain)*I + 2*mu*strain\n",
    "\n",
    "    if f(stress_trial) <= 0.0\n",
    "        info(\"time=$time: no yield\")\n",
    "        push!(ip.fields[\"stress\"], TimeStep(time, Increment(Matrix[stress_trial])))\n",
    "        push!(ip.fields[\"total strain\"], TimeStep(time, Increment(Matrix[strain])))\n",
    "        return true\n",
    "    else\n",
    "        info(\"time=$time: yield, f(stress_trial) = $(f(stress_trial))\")\n",
    "        dt = time - ip.fields[\"total strain\"][end].time\n",
    "\n",
    "        # associated flow rule, plastic potential ψ(σ) = f\n",
    "        psi = f\n",
    "\n",
    "        \"\"\" Calculate equations\n",
    "\n",
    "            dσ - C (dϵₜ - dγ*dΨ/dσ) = 0\n",
    "                         σₑ(σ) - σy = 0\n",
    "\n",
    "            dϵₜ = total strain\n",
    "            dϵₑ = elastic strain\n",
    "            dϵₚ = plastic strain\n",
    "        \n",
    "            dϵₜ = dϵₑ + dϵₚ\n",
    "            => dϵₑ = dϵₜ - dϵₚ = dϵₜ - dγ*dψ/dσ\n",
    "            dσ = λ⋅tr(dϵₑ)I + 2μ⋅dϵₑ\n",
    "            => dσ - λ⋅tr(dϵₑ)I - 2μ⋅dϵₑ = 0\n",
    "        \"\"\"\n",
    "        function residual(params::Vector)\n",
    "            dstress = reshape(params[1:prod(size(strain))], size(strain))\n",
    "            gamma = params[end]\n",
    "\n",
    "            strain_prev = last(ip.fields[\"total strain\"])[1]\n",
    "            stress_prev = last(ip.fields[\"stress\"])[1]\n",
    "\n",
    "            dstrain_total = 1/dt*(strain - strain_prev)\n",
    "            #dstress = 1/dt*(stress - stress_prev)\n",
    "            #dstress = 1/dt*(stress_trial - stress)\n",
    "            stress_tot = stress_prev + dstress\n",
    "            # derivative of plastic potential ψ(σ) w.r.t 2nd order tensor σ(ϵ)\n",
    "            # https://en.wikipedia.org/wiki/Tensor_derivative_%28continuum_mechanics%29\n",
    "            # \"Derivatives of scalar valued functions of second-order tensors\"\n",
    "            dpsi_dstress = derivative(psi, stress_tot)\n",
    "            dstrain_plastic = gamma*dpsi_dstress\n",
    "            dstrain_elastic = dstrain_total - dstrain_plastic\n",
    "            dstress_elastic = lambda*trace(dstrain_elastic)*I + 2*mu*dstrain_elastic\n",
    "\n",
    "            stress_delta = dstress - dstress_elastic\n",
    "            return [vec(stress_delta); psi(stress_tot)]\n",
    "        end\n",
    "\n",
    "        \n",
    "        # solve equations using Newton iterations. Jacobian is calcualated\n",
    "        # using automatic differentiation as usual.\n",
    "        stress_prev = last(ip.fields[\"stress\"])[1]\n",
    "        #initial_stress = last(ip.fields[\"stress\"])[1]\n",
    "        #initial_gamma = last(ip.fields[\"plastic rate parameter\"])[1]\n",
    "        initial_gamma = 0.0\n",
    "        params = [vec(stress_prev); initial_gamma]\n",
    "        #info(\"initial params = $params\")\n",
    "        dparams = zeros(5)\n",
    "        l = [1, 4, 3, 5]\n",
    "        #l = [1, 2, 3, 4, 5]\n",
    "        for i=1:20\n",
    "            A = ForwardDiff.jacobian(residual, params)[l,l]\n",
    "            b = -residual(params)[l]\n",
    "            dparams = A \\ b\n",
    "            params[l] += dparams\n",
    "            solution_norm = norm(dparams)\n",
    "            if solution_norm < 1.0e-7\n",
    "                info(\"norm = $solution_norm\")\n",
    "                break\n",
    "            end\n",
    "        end\n",
    "        params[2] = params[3]\n",
    "        #info(\"params = $params\")\n",
    "        dstress = reshape(params[1:prod(size(strain))], size(strain))\n",
    "        stress = stress_prev + dstress\n",
    "        #info(\"f(stress) = $(f(stress)), dstress = $(vec(dstress))\")\n",
    "        push!(ip.fields[\"stress\"], TimeStep(time, Increment(Matrix[stress])))\n",
    "        push!(ip.fields[\"total strain\"], TimeStep(time, Increment(Matrix[strain])))\n",
    "        #push!(ip.fields[\"plastic rate parameter\"], TimeStep(time, Increment(params[end])))\n",
    "    end\n",
    "\n",
    "end    ### END OF CONSTITUTIVE MODEL"
   ]
  },
  {
   "cell_type": "markdown",
   "metadata": {},
   "source": [
    "Small \"simulator\" to study the behavior of material model in `IntegrationPoint`"
   ]
  },
  {
   "cell_type": "code",
   "execution_count": 119,
   "metadata": {
    "collapsed": false
   },
   "outputs": [
    {
     "name": "stderr",
     "output_type": "stream",
     "text": [
      "INFO: time=1.0: no yield\n",
      "INFO: time=2.0: no yield\n",
      "INFO: time=3.0: no yield\n",
      "INFO: time=4.0: no yield\n",
      "INFO: time=5.0: no yield\n",
      "INFO: time=6.0: no yield\n",
      "INFO: time=7.0: no yield\n",
      "INFO: time=8.0: no yield\n",
      "INFO: time=9.0: no yield\n",
      "INFO: time=10.0: no yield\n",
      "INFO: time=11.0: no yield\n",
      "INFO: time=12.0: no yield\n",
      "INFO: time=13.0: no yield\n",
      "INFO: time=14.0: no yield\n",
      "INFO: time=15.0: no yield\n",
      "INFO: time=16.0: no yield\n",
      "INFO: time=17.0: no yield\n",
      "INFO: time=18.0: no yield\n",
      "INFO: time=19.0: no yield\n",
      "INFO: time=20.0: no yield\n",
      "INFO: time=21.0: no yield\n",
      "INFO: time=22.0: no yield\n",
      "INFO: time=23.0: no yield\n",
      "INFO: time=24.0: yield, f(stress_trial) = 5.438631395957261e6\n",
      "INFO: norm = 6.327290296460759e-10\n",
      "INFO: time=25.0: yield, f(stress_trial) = 1.4370745804477155e7\n",
      "INFO: norm = 2.5368436951508793e-10\n",
      "INFO: time=26.0: yield, f(stress_trial) = 2.330286021299705e7\n",
      "INFO: norm = 2.1402519744192276e-10\n",
      "INFO: time=27.0: yield, f(stress_trial) = 3.2234974621516943e7\n",
      "INFO: norm = 9.421226040685514e-10\n",
      "INFO: time=28.0: yield, f(stress_trial) = 4.116708903003678e7\n",
      "INFO: norm = 2.5732227717057695e-8\n",
      "INFO: time=29.0: yield, f(stress_trial) = 5.009920343855673e7\n",
      "INFO: norm = 2.5811234708594938e-8\n",
      "INFO: time=30.0: yield, f(stress_trial) = 5.9031317847076595e7\n",
      "INFO: norm = 2.572690677593919e-8\n",
      "INFO: time=31.0: yield, f(stress_trial) = 6.796343225559643e7\n",
      "INFO: norm = 1.6939240257439999e-9\n",
      "INFO: time=32.0: yield, f(stress_trial) = 7.689554666411638e7\n",
      "INFO: norm = 2.6531859781938224e-8\n",
      "INFO: time=33.0: yield, f(stress_trial) = 8.582766107263625e7\n",
      "INFO: norm = 2.6549753353863674e-8\n",
      "INFO: time=34.0: yield, f(stress_trial) = 9.475977548115605e7\n",
      "INFO: norm = 2.6269774232540882e-8\n",
      "INFO: time=35.0: yield, f(stress_trial) = 1.0369188988967597e8\n",
      "INFO: norm = 3.943829269565131e-10\n",
      "INFO: time=36.0: yield, f(stress_trial) = 1.126240042981959e8\n",
      "INFO: norm = 2.672625454866766e-8\n",
      "INFO: time=37.0: yield, f(stress_trial) = 1.215561187067157e8\n",
      "INFO: norm = 2.6724023527734252e-8\n",
      "INFO: time=38.0: yield, f(stress_trial) = 1.3048823311523557e8\n",
      "INFO: norm = 4.0424078932575624e-10\n",
      "INFO: time=39.0: yield, f(stress_trial) = 1.394203475237555e8\n",
      "INFO: norm = 2.7378636631817178e-8\n",
      "INFO: time=40.0: yield, f(stress_trial) = 1.483524619322754e8\n",
      "INFO: norm = 1.634965889399672e-10\n",
      "INFO: time=41.0: yield, f(stress_trial) = 1.5728457634079528e8\n",
      "INFO: norm = 2.757582543090421e-8\n",
      "INFO: time=42.0: yield, f(stress_trial) = 1.6621669074931514e8\n",
      "INFO: norm = 2.7149985332652483e-8\n",
      "INFO: time=43.0: yield, f(stress_trial) = 1.75148805157835e8\n",
      "INFO: norm = 2.7222211807288396e-8\n",
      "INFO: time=44.0: yield, f(stress_trial) = 1.8408091956635493e8\n",
      "INFO: norm = 2.7731830203746644e-8\n",
      "INFO: time=45.0: yield, f(stress_trial) = 1.9301303397487473e8\n",
      "INFO: norm = 2.7741353645150486e-8\n",
      "INFO: time=46.0: yield, f(stress_trial) = 2.0194514838339472e8\n",
      "INFO: norm = 2.7680252846576977e-8\n",
      "INFO: time=47.0: yield, f(stress_trial) = 2.1087726279191452e8\n",
      "INFO: norm = 2.7789819953233903e-8\n",
      "INFO: time=48.0: yield, f(stress_trial) = 2.1980937720043445e8\n",
      "INFO: norm = 2.7842679685856577e-8\n",
      "INFO: time=49.0: yield, f(stress_trial) = 2.287414916089543e8\n",
      "INFO: norm = 2.7835836044051844e-8\n",
      "INFO: time=50.0: yield, f(stress_trial) = 2.3767360601747423e8\n",
      "INFO: norm = 2.8328177662423844e-8\n"
     ]
    }
   ],
   "source": [
    "function run(steps=50)\n",
    "\n",
    "    # initialization\n",
    "    ip = IntegrationPoint([0.0, 0.0], 1.0)\n",
    "    ip.fields[\"total strain\"] = Field()\n",
    "    ip.fields[\"plastic strain\"] = Field()\n",
    "    ip.fields[\"plastic potential\"] = Field()\n",
    "    ip.fields[\"elastic strain\"] = Field()\n",
    "    ip.fields[\"effective plastic strain\"] = Field()\n",
    "    ip.fields[\"stress\"] = Field()\n",
    "    ip.fields[\"young\"] = Field(200.0e9)\n",
    "    ip.fields[\"poisson\"] = Field(0.3)\n",
    "    ip.fields[\"yield stress\"] = Field(200.0e6)\n",
    "    ip.fields[\"plastic rate parameter\"] = Field() # material parameter\n",
    "\n",
    "    # run\n",
    "    for (time, strain_11) in enumerate(linspace(0, 200e-5, steps))\n",
    "        # set up strain etc.\n",
    "        time = Float64(time)\n",
    "        poisson = last(ip.fields[\"poisson\"])[1]\n",
    "        strain = zeros(2, 2)\n",
    "        strain[1, 1] = strain_11\n",
    "        strain[2, 2] = -poisson*strain_11\n",
    "        #strain[2, 2] = strain_11\n",
    "        strain[1, 2] = 1/3*strain_11\n",
    "        strain[2, 1] = 1/3*strain_11\n",
    "\n",
    "        # calculate stress\n",
    "        calculate_stress!(ip, strain, time)\n",
    "    end\n",
    "\n",
    "    return ip\n",
    "end\n",
    "\n",
    "ip = run();"
   ]
  },
  {
   "cell_type": "markdown",
   "metadata": {},
   "source": [
    "Visualize results:"
   ]
  },
  {
   "cell_type": "code",
   "execution_count": 120,
   "metadata": {
    "collapsed": false
   },
   "outputs": [
    {
     "data": {
      "image/png": "[encoded data removed]",
      "text/plain": [
       "PyPlot.Figure(PyObject <matplotlib.figure.Figure object at 0x7ff7c4450b10>)"
      ]
     },
     "metadata": {},
     "output_type": "display_data"
    },
    {
     "data": {
      "text/plain": [
       "(0,250)"
      ]
     },
     "execution_count": 120,
     "metadata": {},
     "output_type": "execute_result"
    }
   ],
   "source": [
    "steps = length(ip.fields[\"total strain\"])\n",
    "eps11 = Float64[]\n",
    "sig11 = Float64[]\n",
    "principals = Vector{Float64}[]\n",
    "for i=1:steps\n",
    "    # extract from integration points -- too complicated\n",
    "    # field -> timestep -> increment -> (vector of tensors, take first) -> (first component)\n",
    "    strain = ip.fields[\"total strain\"][i][end][1]*1.0e6\n",
    "    stress = ip.fields[\"stress\"][i][end][1]*1.0e-6\n",
    "    push!(eps11, strain[1,1])\n",
    "    push!(sig11, stress[1,1])\n",
    "    push!(principals, sort(eigvals(stress)))\n",
    "end\n",
    "\n",
    "#PyPlot.figure(figsize=(7, 5))\n",
    "PyPlot.plot(eps11, sig11, \"-k.\")\n",
    "PyPlot.title(\"Stress-Strain curve\")\n",
    "PyPlot.xlabel(\"Strain [ustr]\")\n",
    "PyPlot.ylabel(\"Stress [MPa]\")\n",
    "PyPlot.ylim([0, 250])"
   ]
  },
  {
   "cell_type": "code",
   "execution_count": 121,
   "metadata": {
    "collapsed": false
   },
   "outputs": [
    {
     "data": {
      "image/png": "[encoded data removed]",
      "text/plain": [
       "PyPlot.Figure(PyObject <matplotlib.figure.Figure object at 0x7ff7c5124450>)"
      ]
     },
     "metadata": {},
     "output_type": "display_data"
    },
    {
     "data": {
      "text/plain": [
       "PyObject <matplotlib.text.Text object at 0x7ff7c44a5b90>"
      ]
     },
     "execution_count": 121,
     "metadata": {},
     "output_type": "execute_result"
    }
   ],
   "source": [
    "function plot_principal()\n",
    "    PyPlot.figure(figsize=(4, 4))\n",
    "    n = 100\n",
    "    s = linspace(-300, 300, n)\n",
    "    s1 = repmat(s', n, 1)\n",
    "    s2 = repmat(s, 1, n)\n",
    "    sigma = sqrt(s1.^2 + s2.^2 - s1.*s2)\n",
    "    contour(s1, s2, sigma, [200], colors=\"k\")\n",
    "    p1 = [p[1] for p in principals]\n",
    "    p2 = [p[2] for p in principals]\n",
    "    PyPlot.plot(p1, p2, \"-b.\")\n",
    "    axis(\"equal\")\n",
    "    xlabel(\"sigma 1\")\n",
    "    ylabel(\"sigma 2\")\n",
    "    title(\"principal stress plane\")\n",
    "end\n",
    "plot_principal()"
   ]
  },
  {
   "cell_type": "code",
   "execution_count": null,
   "metadata": {
    "collapsed": true
   },
   "outputs": [],
   "source": []
  }
 ],
 "metadata": {
  "kernelspec": {
   "display_name": "Julia 0.4.0",
   "language": "julia",
   "name": "julia-0.4"
  },
  "language_info": {
   "file_extension": ".jl",
   "mimetype": "application/julia",
   "name": "julia",
   "version": "0.4.0"
  }
 },
 "nbformat": 4,
 "nbformat_minor": 0
}
