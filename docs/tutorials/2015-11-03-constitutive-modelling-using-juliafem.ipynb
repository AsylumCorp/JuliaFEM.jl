{
 "cells": [
  {
   "cell_type": "markdown",
   "metadata": {},
   "source": [
    "# Constitutive modelling using JuliaFEM\n",
    "\n",
    "Author(s): Jukka Aho\n",
    "\n",
    "**Abstract**: This is reproduction of the results from notebook [*Ideal plastic Von Mises material*](https://github.com/JuliaFEM/JuliaFEM.jl/blob/master/notebooks/2015-09-24-Ideal%20plastic%20Von%20Mises%20material.ipynb) made by Olli Väinölä. Small strain theory is used, see https://en.wikipedia.org/wiki/Flow_plasticity_theory. The purpose of this notebook is to show how one can easily design and simulate material models using JuliaFEM."
   ]
  },
  {
   "cell_type": "code",
   "execution_count": 1,
   "metadata": {
    "collapsed": false
   },
   "outputs": [],
   "source": [
    "using JuliaFEM: IntegrationPoint, Field, FieldSet, TimeStep, Increment\n",
    "using ForwardDiff\n",
    "using PyPlot"
   ]
  },
  {
   "cell_type": "markdown",
   "metadata": {},
   "source": [
    "The atomic structure here is `IntegrationPoint`. It has identical `Field`-structure like elements and can store multidimensional variables which can be time-dependent also. That way one can easily store, for example, measured strain and easily run material simulation for measured data."
   ]
  },
  {
   "cell_type": "code",
   "execution_count": 2,
   "metadata": {
    "collapsed": false
   },
   "outputs": [
    {
     "data": {
      "text/plain": [
       "JuliaFEM.DefaultDiscreteField(JuliaFEM.TimeStep[])"
      ]
     },
     "execution_count": 2,
     "metadata": {},
     "output_type": "execute_result"
    }
   ],
   "source": [
    "ip = IntegrationPoint([0.0, 0.0], 1.0)\n",
    "\n",
    "ip.fields[\"total strain\"] = Field()\n",
    "ip.fields[\"plastic strain\"] = Field()\n",
    "ip.fields[\"plastic potential\"] = Field()\n",
    "ip.fields[\"elastic strain\"] = Field()\n",
    "ip.fields[\"effective plastic strain\"] = Field()\n",
    "ip.fields[\"stress\"] = Field()\n",
    "ip.fields[\"young\"] = Field(200.0e9)\n",
    "ip.fields[\"poisson\"] = Field(0.3)\n",
    "ip.fields[\"yield stress\"] = Field(200.0e6)\n",
    "ip.fields[\"plastic rate parameter\"] = Field() # material parameter"
   ]
  },
  {
   "cell_type": "markdown",
   "metadata": {},
   "source": [
    "Accessing parameters is done just like with `FieldSet`s in general:"
   ]
  },
  {
   "cell_type": "code",
   "execution_count": 3,
   "metadata": {
    "collapsed": false
   },
   "outputs": [
    {
     "name": "stderr",
     "output_type": "stream",
     "text": [
      "INFO: [2.0e11]\n",
      "INFO: [2.0e8]\n"
     ]
    }
   ],
   "source": [
    "info(last(ip.fields[\"young\"]))\n",
    "info(last(ip.fields[\"yield stress\"]))"
   ]
  },
  {
   "cell_type": "markdown",
   "metadata": {},
   "source": [
    "Our material model is"
   ]
  },
  {
   "cell_type": "code",
   "execution_count": 2,
   "metadata": {
    "collapsed": false
   },
   "outputs": [
    {
     "data": {
      "text/plain": [
       "calculate_stress! (generic function with 1 method)"
      ]
     },
     "execution_count": 2,
     "metadata": {},
     "output_type": "execute_result"
    }
   ],
   "source": [
    "\"\"\" Ideal plastic material model. \"\"\"\n",
    "function calculate_stress!(ip::IntegrationPoint, strain::Matrix, time::Number)\n",
    "\n",
    "    poisson = last(ip.fields[\"poisson\"])[1]\n",
    "    young = last(ip.fields[\"young\"])[1]\n",
    "    mu = young/(2*(1+poisson))\n",
    "    lambda = young*poisson/((1+poisson)*(1-2*poisson))\n",
    "\n",
    "    # yield function\n",
    "    function f(stress)\n",
    "        stress_dev = stress - 1/3*trace(stress)*I  # stress deviator tensor\n",
    "        stress_v = sqrt(3/2*trace(stress_dev*stress_dev')) # equivalent tensile stress\n",
    "        stress_y = last(ip.fields[\"yield stress\"])[1]\n",
    "        return stress_v - stress_y\n",
    "    end\n",
    "\n",
    "    stress_trial = lambda*trace(strain)*I + 2*mu*strain\n",
    "\n",
    "    if f(stress_trial) <= 0.0\n",
    "        info(\"time=$time: no yield\")\n",
    "        push!(ip.fields[\"stress\"], TimeStep(time, Increment(Matrix[stress_trial])))\n",
    "        push!(ip.fields[\"total strain\"], TimeStep(time, Increment(Matrix[strain])))\n",
    "        return true\n",
    "    else\n",
    "        info(\"time=$time: yield, f(stress_trial) = $(f(stress_trial))\")\n",
    "        dt = time - ip.fields[\"total strain\"][end].time\n",
    "\n",
    "        # associated flow rule, plastic potential ψ(σ) = f\n",
    "        psi = f\n",
    "\n",
    "        \"\"\" Calculate equations\n",
    "\n",
    "            dσ - C (dϵₜ - dγ*dΨ/dσ) = 0\n",
    "                         σₑ(σ) - σy = 0\n",
    "\n",
    "            dϵₜ = total strain\n",
    "            dϵₑ = elastic strain\n",
    "            dϵₚ = plastic strain\n",
    "        \n",
    "            dϵₜ = dϵₑ + dϵₚ\n",
    "            => dϵₑ = dϵₜ - dϵₚ = dϵₜ - dγ*dψ/dσ\n",
    "            dσ = λ⋅tr(dϵₑ)I + 2μ⋅dϵₑ\n",
    "            => dσ - λ⋅tr(dϵₑ)I - 2μ⋅dϵₑ = 0\n",
    "        \"\"\"\n",
    "        function residual(params::Vector)\n",
    "            stress = reshape(params[1:9], 3, 3)\n",
    "            gamma = params[end]\n",
    "\n",
    "            strain_prev = last(ip.fields[\"total strain\"])[1]\n",
    "            stress_prev = last(ip.fields[\"stress\"])[1]\n",
    "\n",
    "            dstrain_total = 1/dt*(strain - strain_prev)\n",
    "            #dstress = 1/dt*(stress - stress_prev)\n",
    "            dstress = 1/dt*(stress_trial - stress)\n",
    "            # derivative of plastic potential ψ(σ) w.r.t 2nd order tensor σ(ϵ)\n",
    "            # https://en.wikipedia.org/wiki/Tensor_derivative_%28continuum_mechanics%29\n",
    "            # \"Derivatives of scalar valued functions of second-order tensors\"\n",
    "            dpsi_dstress = derivative(psi, stress)\n",
    "            dstrain_plastic = gamma*dpsi_dstress\n",
    "            dstrain_elastic = dstrain_total - dstrain_plastic\n",
    "            dstress_elastic = lambda*trace(dstrain_elastic)*I + 2*mu*dstrain_elastic\n",
    "\n",
    "            stress_delta = dstress - dstress_elastic\n",
    "            return [vec(stress_delta); psi(stress)]\n",
    "        end\n",
    "\n",
    "        \n",
    "        # solve equations using Newton iterations. Jacobian is calcualated\n",
    "        # using automatic differentiation as usual.\n",
    "        params = [vec(stress_trial); 0.0]\n",
    "        for i=1:5\n",
    "            A = ForwardDiff.jacobian(residual, params)\n",
    "            b = -residual(params)\n",
    "            dparams = A \\ b\n",
    "            params += dparams\n",
    "            norm(dparams) < 1.0e-7 && break\n",
    "        end\n",
    "        stress = reshape(params[1:9], 3, 3)\n",
    "        push!(ip.fields[\"stress\"], TimeStep(time, Increment(Matrix[stress])))\n",
    "        push!(ip.fields[\"total strain\"], TimeStep(time, Increment(Matrix[strain])))\n",
    "    end\n",
    "\n",
    "end    ### END OF CONSTITUTIVE MODEL"
   ]
  },
  {
   "cell_type": "markdown",
   "metadata": {},
   "source": [
    "Small \"simulator\" to study the behavior of material model in `IntegrationPoint`"
   ]
  },
  {
   "cell_type": "code",
   "execution_count": 3,
   "metadata": {
    "collapsed": false
   },
   "outputs": [
    {
     "name": "stderr",
     "output_type": "stream",
     "text": [
      "INFO: time=1.0: no yield\n",
      "INFO: time=2.0: no yield\n",
      "INFO: time=3.0: yield, f(stress_trial) = 2.0e8\n"
     ]
    }
   ],
   "source": [
    "function run(steps=3)\n",
    "\n",
    "    # initialization\n",
    "    ip = IntegrationPoint([0.0, 0.0], 1.0)\n",
    "    ip.fields[\"total strain\"] = Field()\n",
    "    ip.fields[\"plastic strain\"] = Field()\n",
    "    ip.fields[\"plastic potential\"] = Field()\n",
    "    ip.fields[\"elastic strain\"] = Field()\n",
    "    ip.fields[\"effective plastic strain\"] = Field()\n",
    "    ip.fields[\"stress\"] = Field()\n",
    "    ip.fields[\"young\"] = Field(200.0e9)\n",
    "    ip.fields[\"poisson\"] = Field(0.3)\n",
    "    ip.fields[\"yield stress\"] = Field(200.0e6)\n",
    "    ip.fields[\"plastic rate parameter\"] = Field() # material parameter\n",
    "\n",
    "    # run\n",
    "    for (time, strain_11) in enumerate(linspace(0, 200e-5, steps))\n",
    "        # set up strain etc.\n",
    "        time = Float64(time)\n",
    "        poisson = last(ip.fields[\"poisson\"])[1]\n",
    "        strain = zeros(3, 3)\n",
    "        strain[1, 1] = strain_11\n",
    "        strain[2, 2] = -poisson*strain_11\n",
    "        strain[3, 3] = -poisson*strain_11\n",
    "\n",
    "        # calculate stress\n",
    "        calculate_stress!(ip, strain, time)\n",
    "    end\n",
    "\n",
    "    return ip\n",
    "end\n",
    "\n",
    "ip = run();"
   ]
  },
  {
   "cell_type": "markdown",
   "metadata": {},
   "source": [
    "Visualize results:"
   ]
  },
  {
   "cell_type": "code",
   "execution_count": 4,
   "metadata": {
    "collapsed": false
   },
   "outputs": [
    {
     "name": "stderr",
     "output_type": "stream",
     "text": [
      "INFO: [0.0 200.00000000000003 200.00000000000006]\n",
      "INFO: [0.0 1000.0 2000.0]\n"
     ]
    },
    {
     "data": {
      "image/png": "[encoded data removed]",
      "text/plain": [
       "PyPlot.Figure(PyObject <matplotlib.figure.Figure object at 0x7fd6d41ce450>)"
      ]
     },
     "metadata": {},
     "output_type": "display_data"
    }
   ],
   "source": [
    "function plot_stress_strain_curve(ip)\n",
    "    steps = length(ip.fields[\"total strain\"])\n",
    "    eps11 = zeros(steps)\n",
    "    sig11 = zeros(steps)\n",
    "    for i=1:steps\n",
    "        # extract from integration points -- too complicated\n",
    "        # field -> timestep -> increment -> (vector of tensors, take first) -> (first component)\n",
    "        eps11[i] = ip.fields[\"total strain\"][i][end][1][1,1]\n",
    "        sig11[i] = ip.fields[\"stress\"][i][end][1][1,1]\n",
    "    end\n",
    "    eps11 *= 1.0e6\n",
    "    sig11 *= 1.0e-6\n",
    "\n",
    "    PyPlot.figure(figsize=(7, 5))\n",
    "    PyPlot.plot(eps11, sig11, \"-ko\")\n",
    "    PyPlot.title(\"Stress-Strain curve\")\n",
    "    PyPlot.xlabel(\"Strain [ustr]\")\n",
    "    PyPlot.ylabel(\"Stress [MPa]\")\n",
    "    PyPlot.ylim([0, 250])\n",
    "    info(sig11')\n",
    "    info(eps11')\n",
    "end\n",
    "\n",
    "plot_stress_strain_curve(ip)"
   ]
  }
 ],
 "metadata": {
  "kernelspec": {
   "display_name": "Julia 0.4.0",
   "language": "julia",
   "name": "julia-0.4"
  },
  "language_info": {
   "file_extension": ".jl",
   "mimetype": "application/julia",
   "name": "julia",
   "version": "0.4.0"
  }
 },
 "nbformat": 4,
 "nbformat_minor": 0
}
