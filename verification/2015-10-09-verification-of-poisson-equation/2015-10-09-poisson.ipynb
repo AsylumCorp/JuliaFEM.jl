{
 "cells": [
  {
   "cell_type": "markdown",
   "metadata": {},
   "source": [
    "# First verification, heat equation\n",
    "\n",
    "Author: Jukka Aho\n",
    "\n",
    "**Abstract**: ?"
   ]
  },
  {
   "cell_type": "markdown",
   "metadata": {},
   "source": [
    "## Problem description\n"
   ]
  },
  {
   "cell_type": "markdown",
   "metadata": {},
   "source": [
    "## Theory / solution\n",
    "\n",
    "- Reference, uncertainty"
   ]
  },
  {
   "cell_type": "markdown",
   "metadata": {},
   "source": [
    "## Implementation in JuliaFEM\n",
    "\n",
    "- Mesh, boundary conditions, etc."
   ]
  },
  {
   "cell_type": "code",
   "execution_count": 1,
   "metadata": {
    "collapsed": false
   },
   "outputs": [
    {
     "name": "stderr",
     "output_type": "stream",
     "text": [
      "WARNING: Base.String is deprecated, use AbstractString instead.\n",
      "WARNING: Base.String is deprecated, use AbstractString instead.\n",
      "WARNING: Base.String is deprecated, use AbstractString instead.\n",
      "WARNING: Base.String is deprecated, use AbstractString instead.\n",
      "WARNING: Base.String is deprecated, use AbstractString instead.\n",
      "WARNING: Base.String is deprecated, use AbstractString instead.\n",
      "WARNING: Base.String is deprecated, use AbstractString instead.\n",
      "09-Oct 23:34:17:DEBUG:root:total dofs: 4\n"
     ]
    },
    {
     "name": "stdout",
     "output_type": "stream",
     "text": [
      "h = [0.5,0.5]\n",
      "f = 600.0\n",
      "Array(Float64,(8,8)) 8x8 Array{Float64,2}:\n",
      "  4.0  -1.0  -2.0       -1.0       0.0  0.0  0.0       0.0     \n",
      " -1.0   4.0  -1.0       -2.0       0.0  0.0  0.0       0.0     \n",
      " -2.0  -1.0   4.0       -1.0       0.0  0.0  0.333333  0.166667\n",
      " -1.0  -2.0  -1.0        4.0       0.0  0.0  0.166667  0.333333\n",
      "  0.0   0.0   0.0        0.0       0.0  0.0  0.0       0.0     \n",
      "  0.0   0.0   0.0        0.0       0.0  0.0  0.0       0.0     \n",
      "  0.0   0.0   0.333333   0.166667  0.0  0.0  0.0       0.0     \n",
      "  0.0   0.0   0.166667   0.333333  0.0  0.0  0.0       0.0     \n",
      "Array(Float64,(8,1)) 8x1 Array{Float64,2}:\n",
      " 150.0\n",
      " 150.0\n",
      "   0.0\n",
      "   0.0\n",
      "   0.0\n",
      "   0.0\n",
      "   0.0\n",
      "   0.0\n",
      "Residual norm: 4.9227844771419234e-14\n",
      "Array{T,1}["
     ]
    }
   ],
   "source": [
    "using JuliaFEM: Field, Quad4, Seg2, PlaneHeatProblem, DirichletProblem\n",
    "using JuliaFEM: new_fieldset!, add_field!, add_element!, SimpleSolver, add_problem!, interpolate\n",
    "using FactCheck\n",
    "\n",
    "# Define Problem 1:\n",
    "# - Field function: Laplace equation Δu=0 in Ω={u∈R²|(x,y)∈[0,1]×[0,1]}\n",
    "# - Neumann boundary on Γ₁={0<=x<=1, y=0}, ∂u/∂n=600 on Γ₁\n",
    "\n",
    "el1 = Quad4([1, 2, 3, 4])\n",
    "new_fieldset!(el1, \"geometry\")\n",
    "add_field!(el1, \"geometry\", Field(0.0, Vector[[0.0, 0.0], [1.0, 0.0], [1.0, 1.0], [0.0, 1.0]]))\n",
    "new_fieldset!(el1, \"temperature thermal conductivity\")\n",
    "add_field!(el1, \"temperature thermal conductivity\", Field(0.0, 6.0))\n",
    "\n",
    "el2 = Seg2([1, 2])\n",
    "new_fieldset!(el2, \"geometry\")\n",
    "add_field!(el2, \"geometry\", Field(0.0, Vector[[0.0, 0.0], [1.0, 0.0]]))\n",
    "\n",
    "# Boundary load, linear ramp 0 -> 600 at time 0 -> 1\n",
    "new_fieldset!(el2, \"temperature flux\")\n",
    "add_field!(el2, \"temperature flux\", Field(0.0, 0.0))\n",
    "add_field!(el2, \"temperature flux\", Field(1.0, 600.0))\n",
    "\n",
    "problem1 = PlaneHeatProblem()\n",
    "add_element!(problem1, el1)\n",
    "add_element!(problem1, el2)\n",
    "\n",
    "# Define Problem 2:\n",
    "# - Dirichlet boundary Γ₂={0<=x<=1, y=1}, u=0 on Γ₂\n",
    "\n",
    "el3 = Seg2([3, 4])\n",
    "new_fieldset!(el3, \"geometry\")\n",
    "add_field!(el3, \"geometry\", Field(0.0, Vector[[1.0, 1.0], [0.0, 1.0]]))\n",
    "\n",
    "problem2 = DirichletProblem()\n",
    "add_element!(problem2, el3)\n",
    "\n",
    "# Create a solver for a set of problems\n",
    "solver = SimpleSolver()\n",
    "add_problem!(solver, problem1)\n",
    "add_problem!(solver, problem2)\n",
    "\n",
    "# Solve problem at time t=1.0 and update fields\n",
    "call(solver, 1.0)\n",
    "\n",
    "# Postprocess.\n",
    "# Interpolate temperature field along boundary of Γ₁ at time t=1.0\n",
    "xi = linspace([-1.0], [1.0], 5)\n",
    "X = interpolate(el2, \"geometry\", xi, 1.0)\n",
    "T = interpolate(el2, \"temperature\", xi, 1.0)\n",
    "println(X)\n",
    "println(T)"
   ]
  },
  {
   "cell_type": "markdown",
   "metadata": {},
   "source": [
    "## Comparison of results"
   ]
  },
  {
   "cell_type": "markdown",
   "metadata": {
    "collapsed": true
   },
   "source": [
    "We should have T=100 in edge."
   ]
  },
  {
   "cell_type": "code",
   "execution_count": 3,
   "metadata": {
    "collapsed": false
   },
   "outputs": [
    {
     "data": {
      "text/plain": [
       "Failure :: (line:-1) :: fact was false\n",
       "  Expression: abs(T - 100) --> 1.0e-9\n",
       "    Expected: 1.0e-9\n",
       "    Occurred: [49.999999999999986,49.999999999999986,49.999999999999986,49.999999999999986,49.999999999999986]"
      ]
     },
     "execution_count": 3,
     "metadata": {},
     "output_type": "execute_result"
    }
   ],
   "source": [
    "@fact abs(T-100) --> 1.0e-9"
   ]
  }
 ],
 "metadata": {
  "kernelspec": {
   "display_name": "Julia 0.4.0-rc2",
   "language": "julia",
   "name": "julia-0.4"
  },
  "language_info": {
   "file_extension": ".jl",
   "mimetype": "application/julia",
   "name": "julia",
   "version": "0.4.0"
  }
 },
 "nbformat": 4,
 "nbformat_minor": 0
}
