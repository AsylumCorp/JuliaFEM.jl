{
 "cells": [
  {
   "cell_type": "markdown",
   "metadata": {},
   "source": [
    "# Von Mises material with nonlinear isotropic and kinematic hardening\n",
    "\n",
    "Author(s): Olli Väinölä <olli.vainola@student.oulu.fi>\n",
    "\n",
    "In this notebook is an small tutorial, how to create a Von Mises material with hardening. Equations are formulated into rate depended form. Code may or may not include some bugs.."
   ]
  },
  {
   "cell_type": "markdown",
   "metadata": {},
   "source": [
    "# Theory section\n",
    "\n",
    "### Continuum equations\n",
    "\n",
    "Stress:\n",
    "\n",
    "$\\sigma = C : \\epsilon^e$\n",
    "\n",
    "$C$ is material tensor and $\\epsilon$ total strain.\n",
    "Total strain is divided into elastic and plastic part:\n",
    "\n",
    "$\\epsilon = \\epsilon^e + \\epsilon^p$\n",
    "\n",
    "now let's define a strain rate, which is strain increment divide with time increment $dt$\n",
    "\n",
    "$\\frac{d\\epsilon}{dt} = \\dot \\epsilon =  \\dot \\epsilon^e + \\dot \\epsilon^p$\n",
    "\n",
    "Now same procedure for stress and substitute $\\dot \\epsilon^e$\n",
    "\n",
    "$\\dot \\sigma = C : \\dot \\epsilon^e =  C : (\\dot \\epsilon - \\dot \\epsilon^p )$\n",
    "\n",
    "Only thing to do is to define yield function. Now we're using Von Mises material:\n",
    "\n",
    "$f(\\sigma - X, R(\\alpha)) = \\sqrt{3J_2(\\sigma-X))} - R(\\alpha)$ = 0\n",
    "\n",
    "$f(\\sigma, \\sigma_y) = \\sqrt{3J_2(\\sigma))} - \\sigma_y$ = 0\n",
    "\n",
    "$J_2 = \\frac{1}{6}((\\sigma_{11}-\\sigma_{22})^2+(\\sigma_{22}-\\sigma_{33})^2+(\\sigma_{33}-\\sigma_{11}))^2 + (\\sigma_{12}^2 + \\sigma_{23}^2 + \\sigma_{31}^2)$ \n"
   ]
  },
  {
   "cell_type": "code",
   "execution_count": 1,
   "metadata": {
    "collapsed": false
   },
   "outputs": [],
   "source": [
    "# imports\n",
    "using PyPlot\n",
    "using ForwardDiff\n",
    "using NLsolve"
   ]
  },
  {
   "cell_type": "markdown",
   "metadata": {},
   "source": [
    "Let's create a isotropic Hooke material."
   ]
  },
  {
   "cell_type": "code",
   "execution_count": 2,
   "metadata": {
    "collapsed": false
   },
   "outputs": [
    {
     "data": {
      "text/plain": [
       "6x6 Array{Float64,2}:\n",
       " 2.69231e5  1.15385e5  1.15385e5  0.0        0.0        0.0      \n",
       " 1.15385e5  2.69231e5  1.15385e5  0.0        0.0        0.0      \n",
       " 1.15385e5  1.15385e5  2.69231e5  0.0        0.0        0.0      \n",
       " 0.0        0.0        0.0        1.53846e5  0.0        0.0      \n",
       " 0.0        0.0        0.0        0.0        1.53846e5  0.0      \n",
       " 0.0        0.0        0.0        0.0        0.0        1.53846e5"
      ]
     },
     "execution_count": 2,
     "metadata": {},
     "output_type": "execute_result"
    }
   ],
   "source": [
    "\n",
    "\n",
    "\"\"\"\n",
    "Create a isotropic Hooke material matrix C \n",
    "\n",
    "More information: # http://www.efunda.com/formulae/solid_mechanics/mat_mechanics/hooke_isotropic.cfm\n",
    "\n",
    "Parameters\n",
    "----------\n",
    "    E: Float\n",
    "        Elastic modulus\n",
    "    ν: Float\n",
    "        Poisson constant\n",
    "\n",
    "Returns\n",
    "-------\n",
    "    Array{Float64, (6,6)}\n",
    "\"\"\"\n",
    "function hookeStiffnessTensor(E, ν)\n",
    "    a = 1 - ν\n",
    "    b = 1 - 2*ν\n",
    "    c = 1 + ν\n",
    "    multiplier = E / (b * c)\n",
    "    return Float64[a ν ν 0 0 0;\n",
    "                   ν a ν 0 0 0;\n",
    "                   ν ν a 0 0 0;\n",
    "                   0 0 0 b 0 0;\n",
    "                   0 0 0 0 b 0;\n",
    "                   0 0 0 0 0 b].*multiplier\n",
    "end\n",
    "\n",
    "# Pick material values\n",
    "E = 200.0e3\n",
    "ν =  0.3\n",
    "C = hookeStiffnessTensor(E, ν)"
   ]
  },
  {
   "cell_type": "markdown",
   "metadata": {
    "collapsed": false
   },
   "source": [
    "# Defining equations for the calculation\n",
    "\n",
    "Functions are defined for strain controller simulation"
   ]
  },
  {
   "cell_type": "code",
   "execution_count": 3,
   "metadata": {
    "collapsed": false
   },
   "outputs": [
    {
     "data": {
      "text/plain": [
       "calculate_stress (generic function with 1 method)"
      ]
     },
     "execution_count": 3,
     "metadata": {},
     "output_type": "execute_result"
    }
   ],
   "source": [
    "\n",
    "\"\"\"\n",
    "Equivalent tensile stress. \n",
    "\n",
    "More info can be found from: https://en.wikipedia.org/wiki/Von_Mises_yield_criterion\n",
    "    Section: Reduced von Mises equation for different stress conditions\n",
    "\n",
    "Parameters\n",
    "----------\n",
    "    σ: Array{Float64, 6}\n",
    "        Stress in Voigt notation\n",
    "\n",
    "Returns\n",
    "-------\n",
    "    Float\n",
    "\"\"\"\n",
    "function σₑ(σ)\n",
    "    e1 = (σ[1] - σ[2])^2\n",
    "    e2 = (σ[2] - σ[3])^2\n",
    "    e3 = (σ[3] - σ[1])^2\n",
    "    e4 = σ[4]^2 \n",
    "    e5 = σ[5]^2\n",
    "    e6 = σ[6]^2\n",
    "    return sqrt((e1 + e2 + e3 + 6 * (e4 + e5 + e6)) / 2.)\n",
    "end\n",
    "\n",
    "\n",
    "\"\"\"\n",
    "Von Mises Yield criterion\n",
    "\n",
    "More info can be found from: http://csm.mech.utah.edu/content/wp-content/uploads/2011/10/9tutorialOnJ2Plasticity.pdf\n",
    "\n",
    "Parameters\n",
    "----------\n",
    "    σ: Array{Float64, 6}\n",
    "        Stress in Voigt notation\n",
    "    k: Float64\n",
    "        Material constant, Yield limit\n",
    "\n",
    "Returns\n",
    "-------\n",
    "    Float\n",
    "\"\"\"\n",
    "function vonMisesYield(σ, R)\n",
    "    σₑ(σ) - R\n",
    "end\n",
    "\n",
    "\n",
    "\"\"\"\n",
    "Function for NLsolve. Inside this function are the functions where we want to find root.\n",
    "Ψ is the yield function below. Functions defined here:\n",
    "\n",
    "    dσ - C (dϵ - dλ*dΨ/dσ) = 0\n",
    "                 σₑ(σ) - k = 0\n",
    "\n",
    "Parameters\n",
    "----------\n",
    "    params: Array{Float64, 7}\n",
    "        Array containing values from solver\n",
    "    dϵ: Array{Float64, 6}\n",
    "        Strain rate vector in Voigt notation\n",
    "    C: Array{Float64, (6, 6)}\n",
    "        Material tensor\n",
    "    k: Float\n",
    "        Material constant, yield limit\n",
    "    Δt: Float\n",
    "        time increment\n",
    "    σ_begin:Array{Float64, 6}\n",
    "        Stress vector in Voigt notation\n",
    "    p: Float\n",
    "        Accumulated plastic strain\n",
    "    X: Array{Float64, 6}\n",
    "        Kinematic hardening tensor\n",
    "    R: Function\n",
    "        Calculates isotropic hardening as a function of accumulated plastic strain\n",
    "    α:Float\n",
    "        Accumulated kinematic evolution variable\n",
    "    dα: Function\n",
    "        Calculates kinematic evolution variables rate as a function of accumulated plastic slip rate\n",
    "    fX: Function\n",
    "        Calculates the kinematic \n",
    "\n",
    "Returns\n",
    "-------\n",
    "    Array{Float64, 7}, return values for solver\n",
    "\"\"\"\n",
    "function G(params, dϵ, C, Δt, σ_begin, p, X, R, α, dα, fX)\n",
    "    \n",
    "    # Initializing parameters\n",
    "    σ = params[1:6]\n",
    "    dλ = params[end]\n",
    "\n",
    "    # Stress rate\n",
    "    dσ = (σ_begin - σ) / Δt\n",
    "    \n",
    "    # This required some hacking with ForwardDiff..\n",
    "    X_kine = [X[:]; 0.0]\n",
    "    σ_shifted = params - X_kine\n",
    "    \n",
    "    # Creating wrapper for gradient\n",
    "    yield(pars) = vonMisesYield(pars, R(p))\n",
    "    dfdσ = ForwardDiff.gradient(yield)\n",
    "    vars = dfdσ(σ_shifted)\n",
    "    dΨdσ = vars[1:6]\n",
    "    \n",
    "    # Calculating plastic strain rate\n",
    "    dϵp = dλ * dΨdσ\n",
    "    \n",
    "    # Calculating material evolution variables\n",
    "    dp = sqrt(2./3. * double_contraction(dϵp))\n",
    "    p_cum = p + dp\n",
    "    dα_ = dα(dp, dΨdσ, X)\n",
    "    α_sum = α + dα_\n",
    "    \n",
    "    # updating material parameters\n",
    "    R_ = R(p_cum)\n",
    "    X_ = fX(α_sum)\n",
    "    \n",
    "    # Calculating new stress\n",
    "    σ_kinematic = σ - X_\n",
    "\n",
    "    # Evaluating equations\n",
    "    function_1 = dσ - C * (dϵ - dϵp)\n",
    "    function_2 = vonMisesYield(σ_kinematic, R_)\n",
    "    [function_1[:]; function_2]\n",
    "end\n",
    "\n",
    "\"\"\"\n",
    "This is a fast implementation for double contraction, a=b:c, tensor operation\n",
    "\n",
    "Parameters\n",
    "----------\n",
    "    a: Array{Float64, 6}\n",
    "\n",
    "Returns\n",
    "-------\n",
    "    Float\n",
    "\"\"\"\n",
    "function double_contraction(a; b=a)\n",
    "    indexes = [1, 2, 3, 4, 5, 6, 4, 5, 6]\n",
    "    summation = 0\n",
    "    for i in indexes\n",
    "        summation += a[i]*b[i]\n",
    "    end\n",
    "    summation\n",
    "end\n",
    "\n",
    "\"\"\"\n",
    "Function which calculates the stress. Also handles if any yielding happens\n",
    "\n",
    "Parameters\n",
    "----------\n",
    "    dϵ: Array{Float64, 6}\n",
    "        Strain rate vector in Voigt notation\n",
    "    Δt: Float\n",
    "        time increment\n",
    "    σ: Array{Float64, 6}\n",
    "        Last stress vector in Voigt notation\n",
    "    C: Array{Float64, (6, 6)}\n",
    "        Material tensor\n",
    "    p: Float\n",
    "        Accumulated plastic strain\n",
    "    X: Array{Float64, 6}\n",
    "        Kinematic hardening tensor\n",
    "    R: Function\n",
    "        Calculates isotropic hardening as a function of accumulated plastic strain\n",
    "    α:Float\n",
    "        Accumulated kinematic evolution variable\n",
    "    dα: Function\n",
    "        Calculates kinematic evolution variables rate as a function of accumulated plastic slip rate\n",
    "    fX: Function\n",
    "        Calculates the kinematic \n",
    "\n",
    "Returns\n",
    "-------\n",
    "    Tuple\n",
    "        returns following parameters: p, X, α, σ. See Parameters for definitions\n",
    "\"\"\"\n",
    "function calculate_stress(dϵ, Δt, σ, C, p, X, R, α, dα, fX)\n",
    "\n",
    "    # Test stress\n",
    "    σ_tria = σ + C * dϵ * Δt\n",
    "    \n",
    "    # Calculating yield\n",
    "    yield = vonMisesYield(σ_tria - X, R(p))\n",
    "    if yield > 1\n",
    "        σ_start = copy(σ)\n",
    "        # Yielding happened\n",
    "        # Creating functions for newton: xₙ₊₁ = xₙ - df⁻¹ * f and initial values\n",
    "        initial_guess = [σ[:]; 1.0]\n",
    "        f(σ_)  = G(σ_, dϵ, C, Δt, σ_tria, p, X, R, α, dα, fX)\n",
    "        df     = ForwardDiff.jacobian(f)\n",
    "        \n",
    "        # Calculating root \n",
    "        result = nlsolve(not_in_place(f, df), initial_guess).zero\n",
    "        \n",
    "        # Extracting values\n",
    "        σ      = result[1:6]        \n",
    "        dλ     = result[end]\n",
    "\n",
    "        # Wrapper for gradient\n",
    "        yield_f(σ_) = vonMisesYield(σ_, R(p))\n",
    "        dfdσ_ = ForwardDiff.gradient(yield_f)\n",
    "        nall = dfdσ_(σ)\n",
    "        dΨdσ = nall[1:6]\n",
    "        \n",
    "        # Stress rate and plastic strain rate\n",
    "        dσ = (σ_start - σ) / Δt\n",
    "        dϵᵖ = dϵ - C \\ dσ\n",
    "        \n",
    "        # Updating material parameters\n",
    "        dp = sqrt(2/3 * double_contraction(dϵᵖ))\n",
    "        p += dp\n",
    "        dα_ = dα(dp, dΨdσ, X)\n",
    "        α += dα_\n",
    "        X = fX(α)\n",
    "    else\n",
    "        σ = σ_tria\n",
    "    end\n",
    "    return (p, X, α, σ)\n",
    "end"
   ]
  },
  {
   "cell_type": "markdown",
   "metadata": {},
   "source": [
    "# Defining strain history\n",
    "\n",
    "In the ideal plastic example, we only had tension stress. In this example we'll take it a bit further and calculate the cyclic strain"
   ]
  },
  {
   "cell_type": "code",
   "execution_count": 4,
   "metadata": {
    "collapsed": false
   },
   "outputs": [
    {
     "name": "stdout",
     "output_type": "stream",
     "text": [
      "Done\n"
     ]
    }
   ],
   "source": [
    "steps = 600\n",
    "\n",
    "ϵ_tot = zeros(Float64, (steps, 6))\n",
    "\n",
    "max_strain = 0.004\n",
    "ϵ_tot[:, 1] = max_strain * sin(linspace(0, 5*pi/2, steps))\n",
    "ϵ_tot[:, 2] = max_strain * sin(linspace(0, 5*pi/2, steps)).*-ν\n",
    "ϵ_tot[:, 3] = max_strain * sin(linspace(0, 5*pi/2, steps)).*-ν\n",
    "println(\"Done\")"
   ]
  },
  {
   "cell_type": "markdown",
   "metadata": {},
   "source": [
    "# Hardening evolution equations\n",
    "\n",
    "Followig equations are in charge of evolution of isotropic and kinematic parameters"
   ]
  },
  {
   "cell_type": "code",
   "execution_count": 5,
   "metadata": {
    "collapsed": false
   },
   "outputs": [
    {
     "data": {
      "text/plain": [
       "nonlinearKinematicHardening (generic function with 1 method)"
      ]
     },
     "execution_count": 5,
     "metadata": {},
     "output_type": "execute_result"
    }
   ],
   "source": [
    "function nonlinearIsotropicHardening(ϵp_cum, R0, Q, b)\n",
    "    return R0 + Q * (1 - exp(-b * ϵp_cum))\n",
    "end\n",
    "\n",
    "function dα_function(dϵp_cum, n, X, D, C)\n",
    "    return dϵp_cum * (n - (3*D)/(2*C) * X)\n",
    "end\n",
    "\n",
    "function nonlinearKinematicHardening(α,C)\n",
    "    return 2/3 * C * α\n",
    "end"
   ]
  },
  {
   "cell_type": "markdown",
   "metadata": {},
   "source": [
    "# Simulation\n",
    "\n",
    "Ok, we're good to go! Now we just need to define yield limit and the main loop.\n",
    "\n",
    "This simulation is not time dependent, but since it's already defined in the equations we'll give it value 1"
   ]
  },
  {
   "cell_type": "code",
   "execution_count": 6,
   "metadata": {
    "collapsed": false,
    "scrolled": false
   },
   "outputs": [
    {
     "data": {
      "image/png": "[encoded data removed]",
      "text/plain": [
       "PyPlot.Figure(PyObject <matplotlib.figure.Figure object at 0x7f66a9578690>)"
      ]
     },
     "metadata": {},
     "output_type": "display_data"
    }
   ],
   "source": [
    "ϵ_last = zeros(Float64, (6)) # Last total strain\n",
    "ϵᵖ = zeros(Float64, (6))  # Plastic strain\n",
    "σ = zeros(Float64, (6, 1)) # Stress\n",
    "Δt = 1.0 # time increment\n",
    "σy =  350.0 # Yield stress\n",
    "ss = zeros(Float64, steps) # plotting stress\n",
    "ee = zeros(Float64, steps) # plotting strain\n",
    "pp = zeros(Float64, steps) # plotting strain\n",
    "\n",
    "# Isotropic hardening\n",
    "b = 0.3    # Saturation rate: b\n",
    "Q = 15000.0 # Saturation hardening: Q\n",
    "\n",
    "# Kinematic hardening\n",
    "D = 250.0 # Saturation rate D\n",
    "Ck = 40000.0 # saturation hardening C/D\n",
    "X = zeros(Float64, (6)) # kinematic hardening tensor\n",
    "\n",
    "p = 0.0 # Accumulated plastic strain\n",
    "α = zeros(Float64, (6)) # Kinematic evolution parameter\n",
    "\n",
    "# Isotropic hardening\n",
    "R(ϵp_cum) = nonlinearIsotropicHardening(ϵp_cum, σy, Q, b)\n",
    "\n",
    "# kinematic hardening\n",
    "dα(dϵp_cum, n, X) = dα_function(dϵp_cum, n, X, D, Ck)\n",
    "fX(α) = nonlinearKinematicHardening(α,Ck)\n",
    "\n",
    "for i=1:steps\n",
    "    \n",
    "    # Plotting\n",
    "    ss[i] = σ[1]\n",
    "    ee[i] = ϵ_last[1]\n",
    "    pp[i] = R(p)\n",
    "    \n",
    "    # Actual calculation\n",
    "    dϵ = (reshape(ϵ_tot[i, :, :], (6, 1)) - ϵ_last) / Δt \n",
    "    p, X, α, σ = calculate_stress(dϵ, Δt, σ, C, p, X, R, α, dα, fX)\n",
    "    ϵ_last += dϵ * Δt\n",
    "end\n",
    "PyPlot.plot(ee, ss)\n",
    "PyPlot.title(\"Stress-Strain curve\")\n",
    "PyPlot.xlabel(\"Strain\")\n",
    "PyPlot.ylabel(\"Stress\")\n",
    "PyPlot.ylim([-500, 500])\n",
    "PyPlot.xlim([-0.005, 0.005])\n",
    "PyPlot.grid()"
   ]
  },
  {
   "cell_type": "code",
   "execution_count": null,
   "metadata": {
    "collapsed": true
   },
   "outputs": [],
   "source": []
  }
 ],
 "metadata": {
  "kernelspec": {
   "display_name": "Julia 0.5.0-dev",
   "language": "julia",
   "name": "julia-0.5"
  },
  "language_info": {
   "file_extension": ".jl",
   "mimetype": "application/julia",
   "name": "julia",
   "version": "0.5.0"
  }
 },
 "nbformat": 4,
 "nbformat_minor": 0
}
