{
 "cells": [
  {
   "cell_type": "markdown",
   "metadata": {},
   "source": [
    "# Solving elasticity problems using JuliaFEM\n",
    "\n",
    "Author(s): Jukka Aho\n",
    "\n",
    "**Abstract**: A workflow to solve typical elasticity problem. This document also tries to give some quidelines how to develop JuliaFEM."
   ]
  },
  {
   "cell_type": "markdown",
   "metadata": {},
   "source": [
    "## Bottom-up design\n",
    "\n",
    "We go piece by piece starting from something simple and going up to more complicated programming model."
   ]
  },
  {
   "cell_type": "markdown",
   "metadata": {},
   "source": [
    "*Design principle 1*: we introduce new ideas using Notebooks."
   ]
  },
  {
   "cell_type": "markdown",
   "metadata": {},
   "source": [
    "*Design principle 2*: we use ``Logging``. Forget ``println``."
   ]
  },
  {
   "cell_type": "code",
   "execution_count": 1,
   "metadata": {
    "collapsed": false
   },
   "outputs": [
    {
     "data": {
      "text/plain": [
       "Logger(root,DEBUG,Pipe(open, 0 bytes waiting),root)"
      ]
     },
     "execution_count": 1,
     "metadata": {},
     "output_type": "execute_result"
    },
    {
     "name": "stderr",
     "output_type": "stream",
     "text": [
      " in depwarn at /Applications/Julia-0.4.0-dev-539c818c4e.app/Contents/Resources/julia/lib/julia/sys.dylib\n",
      " in int32 at deprecated.jl:49\n",
      " in recv at /Users/jukka/.julia/v0.4/ZMQ/src/ZMQ.jl:617\n",
      " in recv_ipython at /Users/jukka/.julia/v0.4/IJulia/src/msg.jl:63\n",
      " in eventloop at /Users/jukka/.julia/v0.4/IJulia/src/IJulia.jl:120\n",
      " in anonymous at task.jl:365\n",
      "while loading /Users/jukka/.julia/v0.4/IJulia/src/kernel.jl, in expression starting on line 35\n",
      "WARNING: int32(x) is deprecated, use Int32(x) instead.\n",
      " in depwarn at /Applications/Julia-0.4.0-dev-539c818c4e.app/Contents/Resources/julia/lib/julia/sys.dylib\n",
      " in int32 at deprecated.jl:49\n",
      " in recv at /Users/jukka/.julia/v0.4/ZMQ/src/ZMQ.jl:617\n",
      " in recv_ipython at /Users/jukka/.julia/v0.4/IJulia/src/msg.jl:63\n",
      " in eventloop at /Users/jukka/.julia/v0.4/IJulia/src/IJulia.jl:120\n",
      " in anonymous at task.jl:365\n",
      "while loading /Users/jukka/.julia/v0.4/IJulia/src/kernel.jl, in expression starting on line 35\n"
     ]
    }
   ],
   "source": [
    "using JuliaFEM\n",
    "using Logging\n",
    "Logging.configure(level=DEBUG)"
   ]
  },
  {
   "cell_type": "markdown",
   "metadata": {},
   "source": [
    "*Design principle 3*: we write docstrings using [numpy style](https://github.com/numpy/numpy/blob/master/doc/HOWTO_DOCUMENT.rst.txt).\n",
    "\n",
    "*Design principle 4*: we don't use greek characters in code which is implemented to JuliaFEM. In notebooks they are ok.\n",
    "\n",
    "*Design principle 5*: we use 4 space indentation like in Python.\n",
    "\n",
    "Our task is: for given $\\mathbf{u}$ calculate $\\mathbf{R}(\\mathbf{u}) = \\mathbf{T}(\\mathbf{u}) - \\mathbf{F}(\\mathbf{u})$ and it's partial derivative with respect to $\\mathbf{u}$, i.e. $\\partial \\mathbf{R}(\\mathbf{u}) / \\partial \\mathbf{u}$."
   ]
  },
  {
   "cell_type": "code",
   "execution_count": 2,
   "metadata": {
    "collapsed": false
   },
   "outputs": [
    {
     "data": {
      "text/plain": [
       "jacobian (generic function with 1 method)"
      ]
     },
     "execution_count": 2,
     "metadata": {},
     "output_type": "execute_result"
    }
   ],
   "source": [
    "function Wint_integrand(el, ip)\n",
    "    xi = ip.xi\n",
    "    dbasisdX = JuliaFEM.get_dbasisdX(el, ip)\n",
    "    u = el.attributes[\"displacement\"]\n",
    "\n",
    "    # kinematics\n",
    "    gradu = u*dbasisdX\n",
    "    F = I + gradu\n",
    "    E = 1/2*(gradu' + gradu + gradu'*gradu)\n",
    "\n",
    "    # constitutive equation\n",
    "    lambda = JuliaFEM.interpolate(el, \"lambda\", xi)\n",
    "    mu = JuliaFEM.interpolate(el, \"mu\", xi)\n",
    "    S = lambda*trace(E)*I + 2*mu*E\n",
    "    P = F*S\n",
    "    T = P*dbasisdX'\n",
    "    return T\n",
    "end\n",
    "\n",
    "Wint = JuliaFEM.integrate(Wint_integrand)\n",
    "\n",
    "# calculate partial derivatives of R with respect to field \"displacement\"\n",
    "jacobian = JuliaFEM.linearize(Wint, \"displacement\")"
   ]
  },
  {
   "cell_type": "markdown",
   "metadata": {},
   "source": [
    "That was our geometrically nonlinear elasticity solver. Note how we used automatic differentiation to linearize residual vector.\n",
    "\n",
    "*Design principle 6*: we test our code. We use FactCheck for testing."
   ]
  },
  {
   "cell_type": "code",
   "execution_count": 3,
   "metadata": {
    "collapsed": true
   },
   "outputs": [],
   "source": [
    "using FactCheck"
   ]
  },
  {
   "cell_type": "code",
   "execution_count": 4,
   "metadata": {
    "collapsed": false,
    "scrolled": false
   },
   "outputs": [
    {
     "name": "stdout",
     "output_type": "stream",
     "text": [
      "test solve one element model\n"
     ]
    },
    {
     "name": "stderr",
     "output_type": "stream",
     "text": [
      "19-Aug 19:15:02:DEBUG:root:Converged in 6 iterations.\n",
      "19-Aug 19:15:02:DEBUG:root:solution vector: \n",
      " [0.0 -0.3991450609547433 -0.07228582695592461 0.0\n",
      " 0.0 -2.1779892317073504 -2.222244754401764 0.0]\n",
      "19-Aug 19:15:03:DEBUG:root:norm of u: 3.1292483947150047\n",
      "19-Aug 19:15:03:DEBUG:root:Converged in 6 iterations.\n",
      "19-Aug 19:15:03:DEBUG:root:solution vector: \n",
      " [0.0 0.7433248532717796 1.048521014723486 0.0\n",
      " 0.0 -2.085766534304891 -1.9606633242166027 0.0]\n",
      "19-Aug 19:15:03:DEBUG:root:norm of u: 3.1292483947150056\n"
     ]
    },
    {
     "name": "stdout",
     "output_type": "stream",
     "text": [
      "2 facts verified.\n"
     ]
    },
    {
     "data": {
      "text/plain": [
       "delayed_handler (generic function with 4 methods)"
      ]
     },
     "execution_count": 4,
     "metadata": {},
     "output_type": "execute_result"
    }
   ],
   "source": [
    "function get_test_element()\n",
    "    # set up one linear quadrangle element\n",
    "    basis(xi) = [\n",
    "        (1-xi[1])*(1-xi[2])/4\n",
    "        (1+xi[1])*(1-xi[2])/4\n",
    "        (1+xi[1])*(1+xi[2])/4\n",
    "        (1-xi[1])*(1+xi[2])/4]\n",
    "    dbasis(xi) = [-(1-xi[2])/4.0    -(1-xi[1])/4.0\n",
    "                   (1-xi[2])/4.0    -(1+xi[1])/4.0\n",
    "                   (1+xi[2])/4.0     (1+xi[1])/4.0\n",
    "                  -(1+xi[2])/4.0     (1-xi[1])/4.0]\n",
    "    integration_points = [\n",
    "        JuliaFEM.IntegrationPoint(1.0/sqrt(3.0)*[-1, -1], 1.0, Dict()),\n",
    "        JuliaFEM.IntegrationPoint(1.0/sqrt(3.0)*[ 1, -1], 1.0, Dict()),\n",
    "        JuliaFEM.IntegrationPoint(1.0/sqrt(3.0)*[ 1,  1], 1.0, Dict()),\n",
    "        JuliaFEM.IntegrationPoint(1.0/sqrt(3.0)*[-1,  1], 1.0, Dict())]\n",
    "    attributes = Dict()\n",
    "    element_id = 1\n",
    "    node_ids = [1, 2, 3, 4]\n",
    "    e = JuliaFEM.Element(element_id, node_ids, basis, dbasis, integration_points, attributes)\n",
    "    E = 90.0\n",
    "    nu = 0.25\n",
    "    mu = E/(2*(1+nu))\n",
    "    la = E*nu/((1+nu)*(1-2*nu))\n",
    "    la = 2*la*mu/(la + 2*mu)\n",
    "    e.attributes[\"coordinates\"] = [0.0 0.0; 10.0 0.0; 10.0 1.0; 0.0 1.0]'\n",
    "    e.attributes[\"lambda\"] = la\n",
    "    e.attributes[\"mu\"] = mu\n",
    "    e.attributes[\"displacement\"] = [0.0 0.0; 0.0 0.0; 0.0 0.0; 0.0 0.0]'\n",
    "    return e\n",
    "end\n",
    "\n",
    "facts(\"test solve one element model\") do\n",
    "\n",
    "    e = get_test_element()\n",
    "    F = [0.0 0.0; 0.0 0.0; 0.0 -2.0; 0.0 0.0]'\n",
    "\n",
    "    du = zeros(2, 4)\n",
    "\n",
    "    free_dofs = [3, 4, 5, 6]\n",
    "    for i=1:10\n",
    "        R = Wint(e)\n",
    "        K = jacobian(e)\n",
    "        du[free_dofs] = K[free_dofs, free_dofs] \\ -(R - F)[free_dofs]\n",
    "        e.attributes[\"displacement\"] += du\n",
    "        if norm(du) < 1.0e-9\n",
    "            Logging.debug(\"Converged in $i iterations.\")\n",
    "            break\n",
    "        end\n",
    "    end\n",
    "\n",
    "    # Tested against Elmer solution\n",
    "    u = e.attributes[\"displacement\"]\n",
    "    Logging.debug(\"solution vector: \\n $u\")\n",
    "    @fact u[2, 3] --> roughly(-2.222244754401764)\n",
    "    norm1 = norm(u)\n",
    "    Logging.debug(\"norm of u: $(norm(u))\")\n",
    "\n",
    "    # We rotate model a bit and make sure that norm remains same\n",
    "    phi = 30/180*pi\n",
    "    rmat = [\n",
    "        cos(phi) -sin(phi)\n",
    "        sin(phi)  cos(phi)]\n",
    "    e.attributes[\"coordinates\"] = rmat*e.attributes[\"coordinates\"]\n",
    "    F = rmat*F\n",
    "\n",
    "    e.attributes[\"displacement\"] = [0.0 0.0; 0.0 0.0; 0.0 0.0; 0.0 0.0]'\n",
    "    du = zeros(2, 4)\n",
    "    for i=1:10\n",
    "        R = Wint(e)\n",
    "        K = jacobian(e)\n",
    "        du[free_dofs] = K[free_dofs, free_dofs] \\ -(R - F)[free_dofs]\n",
    "        e.attributes[\"displacement\"] += du\n",
    "        if norm(du) < 1.0e-9\n",
    "            Logging.debug(\"Converged in $i iterations.\")\n",
    "            break\n",
    "        end\n",
    "    end\n",
    "    u = e.attributes[\"displacement\"]\n",
    "    Logging.debug(\"solution vector: \\n $u\")\n",
    "    Logging.debug(\"norm of u: $(norm(u))\")\n",
    "    @fact norm(u) --> roughly(norm1) \n",
    "end"
   ]
  },
  {
   "cell_type": "code",
   "execution_count": 5,
   "metadata": {
    "collapsed": false
   },
   "outputs": [
    {
     "data": {
      "text/plain": [
       "assemble_element! (generic function with 1 method)"
      ]
     },
     "execution_count": 5,
     "metadata": {},
     "output_type": "execute_result"
    }
   ],
   "source": [
    "function assemble_element!(ass::JuliaFEM.Assembly, el::JuliaFEM.Element)\n",
    "\n",
    "    gdofs = ass.gdofs[el.id]\n",
    "    R = Wint(el)\n",
    "    K = jacobian(el)\n",
    "    dofs = length(R)\n",
    "\n",
    "    for i=1:dofs\n",
    "        for j=1:dofs\n",
    "            push!(ass.I, gdofs[i])\n",
    "            push!(ass.J, gdofs[j])\n",
    "            push!(ass.A, K[i,j])\n",
    "        end\n",
    "        push!(ass.i, gdofs[i])\n",
    "        push!(ass.b, R[i])\n",
    "    end\n",
    "end"
   ]
  },
  {
   "cell_type": "markdown",
   "metadata": {},
   "source": [
    "Time to test again. From last test we know that correct solution is\n",
    "\n",
    "    [0.0 -0.39914506095474317 -0.07228582695592449 0.0\n",
    "     0.0 -2.1779892317073504  -2.222244754401764   0.0]\n",
    "\n",
    "This time we assemble global stiffness matrix in different order, 2 3 4 1"
   ]
  },
  {
   "cell_type": "code",
   "execution_count": 6,
   "metadata": {
    "collapsed": false
   },
   "outputs": [
    {
     "name": "stdout",
     "output_type": "stream",
     "text": [
      "one element assembly\n"
     ]
    },
    {
     "name": "stderr",
     "output_type": "stream",
     "text": [
      "19-Aug 19:15:05:DEBUG:root:Adding nodes to array\n",
      "19-Aug 19:15:05:DEBUG:root:Starting iteration 1\n",
      "19-Aug 19:15:05:DEBUG:root:Assembling\n",
      "19-Aug 19:15:05:DEBUG:root:Solution norm = 3.0900221367289986\n",
      "19-Aug 19:15:05:DEBUG:root:Starting iteration 2\n",
      "19-Aug 19:15:05:DEBUG:root:Assembling\n",
      "19-Aug 19:15:05:DEBUG:root:Solution norm = 0.3212131602153472\n",
      "19-Aug 19:15:05:DEBUG:root:Starting iteration 3\n",
      "19-Aug 19:15:05:DEBUG:root:Assembling\n",
      "19-Aug 19:15:05:DEBUG:root:Solution norm = 0.04043178193999703\n",
      "19-Aug 19:15:05:DEBUG:root:Starting iteration 4\n",
      "19-Aug 19:15:05:DEBUG:root:Assembling\n",
      "19-Aug 19:15:05:DEBUG:root:Solution norm = 0.0009291101052105739\n",
      "19-Aug 19:15:05:DEBUG:root:Starting iteration 5\n",
      "19-Aug 19:15:05:DEBUG:root:Assembling\n",
      "19-Aug 19:15:05:DEBUG:root:Solution norm = 1.5638899027804743e-7\n",
      "19-Aug 19:15:05:DEBUG:root:Starting iteration 6\n",
      "19-Aug 19:15:05:DEBUG:root:Assembling\n",
      "19-Aug 19:15:05:DEBUG:root:Solution norm = 1.0464940956129567e-14\n",
      "19-Aug 19:15:05:DEBUG:root:Converged in 6 iterations.\n",
      "19-Aug 19:15:06:DEBUG:root:Displacement of element = \n",
      "[0.0 -0.39914506095474334 -0.0722858269559246 0.0\n",
      " 0.0 -2.1779892317073504 -2.222244754401764 0.0]\n"
     ]
    },
    {
     "name": "stdout",
     "output_type": "stream",
     "text": [
      "1 fact verified.\n"
     ]
    },
    {
     "data": {
      "text/plain": [
       "delayed_handler (generic function with 4 methods)"
      ]
     },
     "execution_count": 6,
     "metadata": {},
     "output_type": "execute_result"
    }
   ],
   "source": [
    "facts(\"one element assembly\") do\n",
    "    # Create model\n",
    "    Logging.debug(\"Adding nodes to array\")\n",
    "    el = get_test_element()\n",
    "    \n",
    "    for i=1:10\n",
    "        Logging.debug(\"Starting iteration $i\")\n",
    "        ass = JuliaFEM.Assembly(Int64[], Int64[], Float64[], Int64[], Float64[], Dict{Int64,Array{Int64,1}}())\n",
    "        ass.gdofs[el.id] = [1, 2, 3, 4, 5, 6, 7, 8]\n",
    "        Logging.debug(\"Assembling\")\n",
    "        assemble_element!(ass, el)\n",
    "\n",
    "        # Boundary conditions\n",
    "        F = [0.0 0.0; 0.0 0.0; 0.0 -2.0; 0.0 0.0]'\n",
    "        F = F[:]\n",
    "        free_dofs = [3, 4, 5, 6]\n",
    "\n",
    "        # solution\n",
    "        K = sparse(ass.I, ass.J, ass.A)\n",
    "        R = full(sparsevec(ass.i, ass.b))\n",
    "        R = R - F\n",
    "        du = zeros(8)\n",
    "        du[free_dofs] = K[free_dofs, free_dofs] \\ -R[free_dofs]\n",
    "\n",
    "        Logging.debug(\"Solution norm = $(norm(du))\")\n",
    "\n",
    "        # update solution back to elements\n",
    "        eldu = du[ass.gdofs[el.id]]\n",
    "        eldu = reshape(eldu, (2, round(Int, length(eldu)/2)))\n",
    "        el.attributes[\"displacement\"] += eldu\n",
    "        if norm(du) < 1.0e-9\n",
    "            Logging.debug(\"Converged in $i iterations.\")\n",
    "            break\n",
    "        end\n",
    "    end\n",
    "    disp = el.attributes[\"displacement\"]\n",
    "    Logging.debug(\"Displacement of element = \\n$disp\")\n",
    "    @fact norm(disp) --> roughly(3.1292483947150043)\n",
    "end"
   ]
  },
  {
   "cell_type": "markdown",
   "metadata": {},
   "source": [
    "Seems to be working. But we still need to handle boundary conditions more \"cleverly\" and generalize assembly to several elements (which is not problem).\n",
    "\n",
    "First of all, essential boundary conditions are nothing more than equality constraints saying that value for some degree of freedom is fixed. Elimination is just a special case when this value equals to zero. There is couple of different strategies to handle essential boundary conditions. One option is to force them using Lagrange multipliers which can also be used to create all kind of kinematic constraints also. (For example, contact can be considered as a kinematic constraint.) Another option is to manipulate matrix such a way that constraint is satisfied.\n",
    "\n",
    "Because we are now going \"bottom-up\", we develop something extremely simple that however deals with the problem:"
   ]
  },
  {
   "cell_type": "code",
   "execution_count": 7,
   "metadata": {
    "collapsed": false
   },
   "outputs": [],
   "source": [
    "type BC\n",
    "    dofs :: Array{Int64, 1}\n",
    "    values :: Array{Float64, 1}\n",
    "end"
   ]
  },
  {
   "cell_type": "code",
   "execution_count": 8,
   "metadata": {
    "collapsed": false
   },
   "outputs": [
    {
     "data": {
      "text/plain": [
       "create_ldof2gdofmap (generic function with 1 method)"
      ]
     },
     "execution_count": 8,
     "metadata": {},
     "output_type": "execute_result"
    }
   ],
   "source": [
    "\"\"\"\n",
    "Create local dof to global dof mapping for given elements\n",
    "\"\"\"\n",
    "function create_ldof2gdofmap(elements, field)\n",
    "\n",
    "    ndofs = size(elements[1].attributes[field], 1)\n",
    "    \n",
    "    all_node_ids = Int64[]\n",
    "    for el in elements\n",
    "        for nid in el.node_ids\n",
    "            push!(all_node_ids, nid)\n",
    "        end\n",
    "    end\n",
    "    all_node_ids = unique(all_node_ids)\n",
    "\n",
    "    # Assign global dof for each node\n",
    "    pdim = 1\n",
    "    ngdofs = Dict{Int64, Array{Int64,1}}()\n",
    "    for nid in all_node_ids\n",
    "        ngdofs[nid] = collect(pdim:pdim+ndofs-1)\n",
    "        pdim += ndofs\n",
    "    end\n",
    "\n",
    "    return ngdofs\n",
    "end"
   ]
  },
  {
   "cell_type": "code",
   "execution_count": 9,
   "metadata": {
    "collapsed": false,
    "scrolled": false
   },
   "outputs": [
    {
     "name": "stdout",
     "output_type": "stream",
     "text": [
      "solve one element problem\n"
     ]
    },
    {
     "name": "stderr",
     "output_type": "stream",
     "text": [
      "19-Aug 19:15:07:DEBUG:root:Dict(4=>[7,8],2=>[3,4],3=>[5,6],1=>[1,2])\n",
      "19-Aug 19:15:07:INFO:root:solve!: dofs per node: 2\n",
      "19-Aug 19:15:07:DEBUG:root:Problem size = 8\n",
      "19-Aug 19:15:07:DEBUG:root:Starting iteration 1\n",
      "19-Aug 19:15:07:DEBUG:root:Assembling\n",
      "19-Aug 19:15:07:DEBUG:root:Adding Dirichlet boundary conditions using Lagrange multipliers\n",
      "19-Aug 19:15:07:DEBUG:root:Added 5 Lagrange multipliers to model\n",
      "19-Aug 19:15:07:DEBUG:root:Adding Neumann boundary conditions\n",
      "19-Aug 19:15:07:DEBUG:root:Solving system of equations. Total size = 12\n",
      "19-Aug 19:15:07:DEBUG:root:Solution norm du = 3.0900221367289444\n",
      "19-Aug 19:15:07:DEBUG:root:Starting iteration 2\n",
      "19-Aug 19:15:07:DEBUG:root:Assembling\n",
      "19-Aug 19:15:07:DEBUG:root:Adding Dirichlet boundary conditions using Lagrange multipliers\n",
      "19-Aug 19:15:07:DEBUG:root:Added 5 Lagrange multipliers to model\n",
      "19-Aug 19:15:07:DEBUG:root:Adding Neumann boundary conditions\n",
      "19-Aug 19:15:07:DEBUG:root:Solving system of equations. Total size = 12\n",
      "19-Aug 19:15:07:DEBUG:root:Solution norm du = 0.32121316021534796\n",
      "19-Aug 19:15:07:DEBUG:root:Starting iteration 3\n",
      "19-Aug 19:15:08:DEBUG:root:Assembling\n",
      "19-Aug 19:15:08:DEBUG:root:Adding Dirichlet boundary conditions using Lagrange multipliers\n",
      "19-Aug 19:15:08:DEBUG:root:Added 5 Lagrange multipliers to model\n",
      "19-Aug 19:15:08:DEBUG:root:Adding Neumann boundary conditions\n",
      "19-Aug 19:15:08:DEBUG:root:Solving system of equations. Total size = 12\n",
      "19-Aug 19:15:08:DEBUG:root:Solution norm du = 0.040431781940014504\n",
      "19-Aug 19:15:08:DEBUG:root:Starting iteration 4\n",
      "19-Aug 19:15:08:DEBUG:root:Assembling\n",
      "19-Aug 19:15:08:DEBUG:root:Adding Dirichlet boundary conditions using Lagrange multipliers\n",
      "19-Aug 19:15:08:DEBUG:root:Added 5 Lagrange multipliers to model\n",
      "19-Aug 19:15:08:DEBUG:root:Adding Neumann boundary conditions\n",
      "19-Aug 19:15:08:DEBUG:root:Solving system of equations. Total size = 12\n",
      "19-Aug 19:15:08:DEBUG:root:Solution norm du = 0.0009291101052065917\n",
      "19-Aug 19:15:08:DEBUG:root:Starting iteration 5\n",
      "19-Aug 19:15:08:DEBUG:root:Assembling\n",
      "19-Aug 19:15:08:DEBUG:root:Adding Dirichlet boundary conditions using Lagrange multipliers\n",
      "19-Aug 19:15:08:DEBUG:root:Added 5 Lagrange multipliers to model\n",
      "19-Aug 19:15:08:DEBUG:root:Adding Neumann boundary conditions\n",
      "19-Aug 19:15:08:DEBUG:root:Solving system of equations. Total size = 12\n",
      "19-Aug 19:15:08:DEBUG:root:Solution norm du = 1.5638899136781228e-7\n",
      "19-Aug 19:15:08:DEBUG:root:Starting iteration 6\n",
      "19-Aug 19:15:08:DEBUG:root:Assembling\n",
      "19-Aug 19:15:08:DEBUG:root:Adding Dirichlet boundary conditions using Lagrange multipliers\n",
      "19-Aug 19:15:08:DEBUG:root:Added 5 Lagrange multipliers to model\n",
      "19-Aug 19:15:08:DEBUG:root:Adding Neumann boundary conditions\n",
      "19-Aug 19:15:08:DEBUG:root:Solving system of equations. Total size = 12\n",
      "19-Aug 19:15:08:DEBUG:root:Solution norm du = 1.0913504694802626e-14\n",
      "19-Aug 19:15:08:DEBUG:root:Converged in 6 iterations.\n",
      "19-Aug 19:15:08:DEBUG:root:Displacement of element = \n",
      "[0.0 -0.39914506095474345 -0.07228582695592467 0.0\n",
      " 0.0 -2.177989231707351 -2.222244754401765 0.0]\n"
     ]
    },
    {
     "name": "stdout",
     "output_type": "stream",
     "text": [
      "1 fact verified.\n"
     ]
    },
    {
     "data": {
      "text/plain": [
       "delayed_handler (generic function with 4 methods)"
      ]
     },
     "execution_count": 9,
     "metadata": {},
     "output_type": "execute_result"
    }
   ],
   "source": [
    "function solve!(elements, dofmap, neumann_bcs, dirichlet_bcs; ndofs=2, max_iterations=10)\n",
    "\n",
    "    Logging.info(\"solve!: dofs per node: $ndofs\")\n",
    "    pdim = length(dofmap)*ndofs\n",
    "    Logging.debug(\"Problem size = $pdim\")\n",
    "\n",
    "    # Assign global dofs for elements\n",
    "    gdofs = Dict{Int64, Array{Int64,1}}()\n",
    "    for el in elements\n",
    "        gdofs[el.id] = Int64[]\n",
    "        for nid in el.node_ids\n",
    "            for ndof in dofmap[nid]\n",
    "                push!(gdofs[el.id], ndof)\n",
    "            end\n",
    "        end\n",
    "    end\n",
    "\n",
    "    ass = JuliaFEM.Assembly(Int64[], Int64[], Float64[], Int64[], Float64[], gdofs)\n",
    "\n",
    "    for iter=1:max_iterations\n",
    "        Logging.debug(\"Starting iteration $iter\")\n",
    "        ass.I = []\n",
    "        ass.J = []\n",
    "        ass.A = []\n",
    "        ass.i = []\n",
    "        ass.b = []\n",
    "        \n",
    "        Logging.debug(\"Assembling\")\n",
    "        for el in elements\n",
    "            assemble_element!(ass, el)\n",
    "        end\n",
    "\n",
    "        i = 1\n",
    "        Logging.debug(\"Adding Dirichlet boundary conditions using Lagrange multipliers\")\n",
    "        # Dirichlet boundary conditions\n",
    "        for bc in dirichlet_bcs\n",
    "            for (dof, val) in zip(bc.dofs, bc.values)\n",
    "                #Logging.debug(\"dof $dof => $val\")\n",
    "                push!(ass.I, dof)\n",
    "                push!(ass.J, pdim+i)\n",
    "                push!(ass.A, 1)\n",
    "                push!(ass.I, pdim+i)\n",
    "                push!(ass.J, dof)\n",
    "                push!(ass.A, 1)\n",
    "                push!(ass.i, pdim+i)\n",
    "                push!(ass.b, 0)\n",
    "                i += 1\n",
    "            end\n",
    "        end\n",
    "        Logging.debug(\"Added $i Lagrange multipliers to model\")\n",
    "        i -= 1\n",
    "\n",
    "        Logging.debug(\"Adding Neumann boundary conditions\")\n",
    "        F = zeros(pdim+i)\n",
    "        # Neumann boundary conditions\n",
    "        for bc in neumann_bcs\n",
    "            for (dof, val) in zip(bc.dofs, bc.values)\n",
    "                F[dof] += val\n",
    "            end\n",
    "        end\n",
    "\n",
    "        Logging.debug(\"Solving system of equations. Total size = $(pdim+i)\")\n",
    "        # solution\n",
    "        K = sparse(ass.I, ass.J, ass.A)\n",
    "        R = full(sparsevec(ass.i, ass.b))\n",
    "        R = R - F\n",
    "\n",
    "        du = K \\ -R\n",
    "\n",
    "        #du = reshape(du, 2, 6)\n",
    "        solnorm = norm(du[1:pdim])\n",
    "        #Logging.debug(\"du = $du\")\n",
    "        Logging.debug(\"Solution norm du = $solnorm\")\n",
    "\n",
    "        # update solution back to elements\n",
    "        for el in elements\n",
    "            #Logging.debug(\"update element $(el.id)\")\n",
    "            eldisp = el.attributes[\"displacement\"]\n",
    "            #Logging.debug(\"displacement before update $(el.id) : \\n$eldisp\")\n",
    "            eldu = du[ass.gdofs[el.id]]\n",
    "            eldu = reshape(eldu, (ndofs, round(Int, length(eldu)/ndofs)))\n",
    "            #Logging.debug(\"eldu for element $(el.id) \\n$eldu\")\n",
    "            el.attributes[\"displacement\"] += eldu\n",
    "            eldisp = el.attributes[\"displacement\"]\n",
    "            #Logging.debug(\"displacement after update $(el.id) : \\n$eldisp\")\n",
    "\n",
    "        end\n",
    "        if solnorm < 1.0e-9\n",
    "            Logging.debug(\"Converged in $iter iterations.\")\n",
    "            break\n",
    "        end\n",
    "    end\n",
    "\n",
    "end\n",
    "\n",
    "ENV[\"COLUMNS\"] = 160\n",
    "\n",
    "facts(\"solve one element problem\") do\n",
    "    # Create model\n",
    "    el = get_test_element()\n",
    "    elements = [el]\n",
    "    # Initialize elements ready for solution\n",
    "    for el in elements\n",
    "        eldim, elnodes = size(el.attributes[\"coordinates\"])\n",
    "        el.attributes[\"displacement\"] = zeros(2, elnodes)\n",
    "    end\n",
    "    dofmap = create_ldof2gdofmap(elements, \"displacement\")\n",
    "    Logging.debug(dofmap)\n",
    "    # Boundary conditions\n",
    "    # here we want to create nodal force for third dof, that is, node id 2, second dof\n",
    "    bc1 = BC([dofmap[3][2]], [-2.0])\n",
    "    # dirichlet bc, set dx=dy=0 on support\n",
    "    bc2 = BC([dofmap[1][1], dofmap[1][2], dofmap[4][1], dofmap[4][2]], [0.0, 0.0, 0.0, 0.0])\n",
    "    solve!(elements, dofmap, [bc1], [bc2]; max_iterations=7)\n",
    "    disp = elements[1].attributes[\"displacement\"]\n",
    "    Logging.debug(\"Displacement of element = \\n$disp\")\n",
    "    @fact norm(disp) --> roughly(3.1292483947150043)\n",
    "end\n"
   ]
  },
  {
   "cell_type": "markdown",
   "metadata": {},
   "source": [
    "## Top-down design\n",
    "\n",
    "Next we see this problem from \"other direction\", by parsing ABAQUS .inp file and making 3d simulation."
   ]
  },
  {
   "cell_type": "code",
   "execution_count": 10,
   "metadata": {
    "collapsed": false
   },
   "outputs": [
    {
     "name": "stderr",
     "output_type": "stream",
     "text": [
      "19-Aug 19:15:14:INFO:root:Registered handlers: Any[\"ELEMENT\",\"NODE\",\"NSET\"]\n",
      "19-Aug 19:15:14:DEBUG:root:Found NODE section\n",
      "19-Aug 19:15:14:DEBUG:root:Found ELEMENT section\n",
      "WARNING: integer(s::AbstractString) is deprecated, use parse(Int,s) instead.\n",
      " in depwarn at /Applications/Julia-0.4.0-dev-539c818c4e.app/Contents/Resources/julia/lib/julia/sys.dylib\n",
      " in integer at deprecated.jl:49\n",
      " in map at abstractarray.jl:1251\n",
      " in parse_element_section at /Users/jukka/.julia/v0.4/JuliaFEM/src/abaqus_reader.jl:60\n",
      " in process_section at /Users/jukka/.julia/v0.4/JuliaFEM/src/abaqus_reader.jl:109\n",
      " in parse_abaqus at /Users/jukka/.julia/v0.4/JuliaFEM/src/abaqus_reader.jl:118\n",
      " in include_string at loading.jl:99\n",
      " in execute_request_0x535c5df2 at /Users/jukka/.julia/v0.4/IJulia/src/execute_request.jl:157\n",
      " in eventloop at /Users/jukka/.julia/v0.4/IJulia/src/IJulia.jl:123\n",
      " in anonymous at task.jl:365\n",
      "while loading In[10], in expression starting on line 3\n",
      "19-Aug 19:15:15:DEBUG:root:120 elements found\n",
      "19-Aug 19:15:16:INFO:root:Creating ELSET Body1\n",
      "19-Aug 19:15:16:DEBUG:root:Found NSET section\n",
      "19-Aug 19:15:16:DEBUG:root:Creating node set SUPPORT\n",
      "19-Aug 19:15:16:DEBUG:root:Found NSET section\n",
      "19-Aug 19:15:16:DEBUG:root:Creating node set LOAD\n",
      "19-Aug 19:15:16:DEBUG:root:Found NSET section\n",
      "19-Aug 19:15:16:DEBUG:root:Creating node set TOP\n"
     ]
    },
    {
     "data": {
      "text/plain": [
       "Dict{Any,Any} with 4 entries:\n",
       "  \"nodes\"    => Dict{Any,Any}(288=>[97.5,7.5,10.0],11=>[92.5,2.5,5.0],134=>[45.0,10.0,0.0],158=>[2.5,2.5,0.0],160=>[7.5,7.5,0.0],215=>[60.0,0.0,5.0],29=>[2.5,7…\n",
       "  \"elements\" => Dict{Any,Any}(68=>[71,144,149,198,51,150,57,43,50,214],2=>[204,199,175,130,207,208,209,3,4,176],89=>[95,78,104,52,127,126,106,60,68,67],11=>[15…\n",
       "  \"elsets\"   => Dict{Any,Any}(\"Body1\"=>[1,2,3,4,5,6,7,8,9,10  …  111,112,113,114,115,116,117,118,119,120])\n",
       "  \"nsets\"    => Dict{Any,Any}(\"LOAD\"=>[82,84,87,179,197,246,249,256,257],\"SUPPORT\"=>[108,109,111,155,162,216,225,281,298],\"TOP\"=>[70,75,76,84,88,90,95,96,98,10…"
      ]
     },
     "execution_count": 10,
     "metadata": {},
     "output_type": "execute_result"
    }
   ],
   "source": [
    "using JuliaFEM.abaqus_reader\n",
    "fid = open(\"../geometry/3d_beam/palkki.inp\")\n",
    "model = JuliaFEM.abaqus_reader.parse_abaqus(fid)\n",
    "close(fid)\n",
    "model"
   ]
  },
  {
   "cell_type": "code",
   "execution_count": 36,
   "metadata": {
    "collapsed": false
   },
   "outputs": [
    {
     "data": {
      "text/plain": [
       "dbasis (generic function with 1 method)"
      ]
     },
     "execution_count": 36,
     "metadata": {},
     "output_type": "execute_result"
    }
   ],
   "source": [
    "P(xi) = [\n",
    "    1\n",
    "    xi[1]\n",
    "    xi[2]\n",
    "    xi[3]\n",
    "    xi[1]^2\n",
    "    xi[2]^2\n",
    "    xi[3]^2\n",
    "    xi[1]*xi[2]\n",
    "    xi[2]*xi[3]\n",
    "    xi[3]*xi[1]]\n",
    "dP(xi) = [\n",
    "    0 0 0\n",
    "    1 0 0\n",
    "    0 1 0\n",
    "    0 0 1\n",
    "    2*xi[1] 0 0\n",
    "    0       2*xi[2] 0\n",
    "    0       0       2*xi[3]\n",
    "    xi[2]   xi[1]   0\n",
    "    0       xi[3]   xi[2]\n",
    "    xi[3]   0       xi[1]\n",
    "]\n",
    "X = [\n",
    "    0.0 0.0 0.0\n",
    "    1.0 0.0 0.0\n",
    "    0.0 1.0 0.0\n",
    "    0.0 0.0 1.0\n",
    "    0.5 0.0 0.0\n",
    "    0.5 0.5 0.0\n",
    "    0.0 0.5 0.0\n",
    "    0.0 0.0 0.5\n",
    "    0.5 0.0 0.5\n",
    "    0.0 0.5 0.5]\n",
    "A = zeros(10, 10)\n",
    "for i=1:10\n",
    "    A[i,:] = P(X[i,:])\n",
    "end\n",
    "invA = inv(A)\n",
    "basis(xi) = invA'*P(xi)\n",
    "dbasis(xi) = invA'*dP(xi)"
   ]
  },
  {
   "cell_type": "code",
   "execution_count": 39,
   "metadata": {
    "collapsed": false
   },
   "outputs": [
    {
     "data": {
      "text/plain": [
       "10x10 Array{Float64,2}:\n",
       " 1.0  0.0  0.0  0.0  0.0  0.0  0.0  0.0  0.0  0.0\n",
       " 0.0  1.0  0.0  0.0  0.0  0.0  0.0  0.0  0.0  0.0\n",
       " 0.0  0.0  1.0  0.0  0.0  0.0  0.0  0.0  0.0  0.0\n",
       " 0.0  0.0  0.0  1.0  0.0  0.0  0.0  0.0  0.0  0.0\n",
       " 0.0  0.0  0.0  0.0  1.0  0.0  0.0  0.0  0.0  0.0\n",
       " 0.0  0.0  0.0  0.0  0.0  1.0  0.0  0.0  0.0  0.0\n",
       " 0.0  0.0  0.0  0.0  0.0  0.0  1.0  0.0  0.0  0.0\n",
       " 0.0  0.0  0.0  0.0  0.0  0.0  0.0  1.0  0.0  0.0\n",
       " 0.0  0.0  0.0  0.0  0.0  0.0  0.0  0.0  1.0  0.0\n",
       " 0.0  0.0  0.0  0.0  0.0  0.0  0.0  0.0  0.0  1.0"
      ]
     },
     "execution_count": 39,
     "metadata": {},
     "output_type": "execute_result"
    }
   ],
   "source": [
    "for i=1:10\n",
    "    A[i,:] = basis(X[i,:])\n",
    "end\n",
    "A"
   ]
  },
  {
   "cell_type": "code",
   "execution_count": 54,
   "metadata": {
    "collapsed": false,
    "scrolled": false
   },
   "outputs": [
    {
     "name": "stderr",
     "output_type": "stream",
     "text": [
      "19-Aug 21:11:57:DEBUG:root:Creating elements\n",
      "19-Aug 21:11:57:INFO:root:solve!: dofs per node: 3\n",
      "19-Aug 21:11:57:DEBUG:root:Problem size = 894\n",
      "19-Aug 21:11:57:DEBUG:root:Starting iteration 1\n",
      "19-Aug 21:11:57:DEBUG:root:Assembling\n",
      "19-Aug 21:11:59:DEBUG:root:Adding Dirichlet boundary conditions using Lagrange multipliers\n",
      "19-Aug 21:11:59:DEBUG:root:Added 28 Lagrange multipliers to model\n",
      "19-Aug 21:11:59:DEBUG:root:Adding Neumann boundary conditions\n",
      "19-Aug 21:11:59:DEBUG:root:Solving system of equations. Total size = 921\n",
      "19-Aug 21:11:59:DEBUG:root:Solution norm du = 550.6462282478749\n",
      "19-Aug 21:11:59:DEBUG:root:Starting iteration 2\n",
      "19-Aug 21:11:59:DEBUG:root:Assembling\n",
      "19-Aug 21:12:02:DEBUG:root:Adding Dirichlet boundary conditions using Lagrange multipliers\n",
      "19-Aug 21:12:02:DEBUG:root:Added 28 Lagrange multipliers to model\n",
      "19-Aug 21:12:02:DEBUG:root:Adding Neumann boundary conditions\n",
      "19-Aug 21:12:02:DEBUG:root:Solving system of equations. Total size = 921\n",
      "19-Aug 21:12:02:DEBUG:root:Solution norm du = 126.1405473091362\n",
      "19-Aug 21:12:02:DEBUG:root:Starting iteration 3\n",
      "19-Aug 21:12:02:DEBUG:root:Assembling\n",
      "19-Aug 21:12:04:DEBUG:root:Adding Dirichlet boundary conditions using Lagrange multipliers\n",
      "19-Aug 21:12:04:DEBUG:root:Added 28 Lagrange multipliers to model\n",
      "19-Aug 21:12:04:DEBUG:root:Adding Neumann boundary conditions\n",
      "19-Aug 21:12:04:DEBUG:root:Solving system of equations. Total size = 921\n",
      "19-Aug 21:12:04:DEBUG:root:Solution norm du = 38.94984055412649\n",
      "19-Aug 21:12:04:DEBUG:root:Starting iteration 4\n",
      "19-Aug 21:12:04:DEBUG:root:Assembling\n",
      "19-Aug 21:12:07:DEBUG:root:Adding Dirichlet boundary conditions using Lagrange multipliers\n",
      "19-Aug 21:12:07:DEBUG:root:Added 28 Lagrange multipliers to model\n",
      "19-Aug 21:12:07:DEBUG:root:Adding Neumann boundary conditions\n",
      "19-Aug 21:12:07:DEBUG:root:Solving system of equations. Total size = 921\n",
      "19-Aug 21:12:07:DEBUG:root:Solution norm du = 15.167069064284211\n",
      "19-Aug 21:12:07:DEBUG:root:Starting iteration 5\n",
      "19-Aug 21:12:07:DEBUG:root:Assembling\n",
      "19-Aug 21:12:10:DEBUG:root:Adding Dirichlet boundary conditions using Lagrange multipliers\n",
      "19-Aug 21:12:10:DEBUG:root:Added 28 Lagrange multipliers to model\n",
      "19-Aug 21:12:10:DEBUG:root:Adding Neumann boundary conditions\n",
      "19-Aug 21:12:10:DEBUG:root:Solving system of equations. Total size = 921\n",
      "19-Aug 21:12:10:DEBUG:root:Solution norm du = 9.516311535827375\n",
      "19-Aug 21:12:10:DEBUG:root:Starting iteration 6\n",
      "19-Aug 21:12:10:DEBUG:root:Assembling\n",
      "19-Aug 21:12:12:DEBUG:root:Adding Dirichlet boundary conditions using Lagrange multipliers\n",
      "19-Aug 21:12:12:DEBUG:root:Added 28 Lagrange multipliers to model\n",
      "19-Aug 21:12:12:DEBUG:root:Adding Neumann boundary conditions\n",
      "19-Aug 21:12:12:DEBUG:root:Solving system of equations. Total size = 921\n",
      "19-Aug 21:12:12:DEBUG:root:Solution norm du = 1.622282204776609\n",
      "19-Aug 21:12:12:DEBUG:root:Starting iteration 7\n",
      "19-Aug 21:12:12:DEBUG:root:Assembling\n",
      "19-Aug 21:12:15:DEBUG:root:Adding Dirichlet boundary conditions using Lagrange multipliers\n",
      "19-Aug 21:12:15:DEBUG:root:Added 28 Lagrange multipliers to model\n",
      "19-Aug 21:12:15:DEBUG:root:Adding Neumann boundary conditions\n",
      "19-Aug 21:12:15:DEBUG:root:Solving system of equations. Total size = 921\n",
      "19-Aug 21:12:15:DEBUG:root:Solution norm du = 0.09626397759398042\n",
      "19-Aug 21:12:15:DEBUG:root:Starting iteration 8\n",
      "19-Aug 21:12:15:DEBUG:root:Assembling\n",
      "19-Aug 21:12:17:DEBUG:root:Adding Dirichlet boundary conditions using Lagrange multipliers\n",
      "19-Aug 21:12:17:DEBUG:root:Added 28 Lagrange multipliers to model\n",
      "19-Aug 21:12:17:DEBUG:root:Adding Neumann boundary conditions\n",
      "19-Aug 21:12:17:DEBUG:root:Solving system of equations. Total size = 921\n",
      "19-Aug 21:12:18:DEBUG:root:Solution norm du = 0.0002630453729490514\n",
      "19-Aug 21:12:18:DEBUG:root:Starting iteration 9\n",
      "19-Aug 21:12:18:DEBUG:root:Assembling\n",
      "19-Aug 21:12:20:DEBUG:root:Adding Dirichlet boundary conditions using Lagrange multipliers\n",
      "19-Aug 21:12:20:DEBUG:root:Added 28 Lagrange multipliers to model\n",
      "19-Aug 21:12:20:DEBUG:root:Adding Neumann boundary conditions\n",
      "19-Aug 21:12:20:DEBUG:root:Solving system of equations. Total size = 921\n",
      "19-Aug 21:12:20:DEBUG:root:Solution norm du = 2.7238292530443165e-9\n",
      "19-Aug 21:12:20:DEBUG:root:Starting iteration 10\n",
      "19-Aug 21:12:20:DEBUG:root:Assembling\n",
      "19-Aug 21:12:22:DEBUG:root:Adding Dirichlet boundary conditions using Lagrange multipliers\n",
      "19-Aug 21:12:22:DEBUG:root:Added 28 Lagrange multipliers to model\n",
      "19-Aug 21:12:22:DEBUG:root:Adding Neumann boundary conditions\n",
      "19-Aug 21:12:22:DEBUG:root:Solving system of equations. Total size = 921\n",
      "19-Aug 21:12:23:DEBUG:root:Solution norm du = 3.2746140168058266e-13\n",
      "19-Aug 21:12:23:DEBUG:root:Converged in 10 iterations.\n",
      "19-Aug 21:12:23:INFO:root:Maximum absolute displacement in y direction: 49.404599274553235\n"
     ]
    }
   ],
   "source": [
    "function solve_3d_model()\n",
    "    Logging.debug(\"Creating elements\")\n",
    "    elements = JuliaFEM.Element[]\n",
    "    coordinates = zeros(3, 10)\n",
    "    \n",
    "    a = .585410196624969\n",
    "    b = .138196601125011\n",
    "    w = .0416666666666666666666666666666666666666666667\n",
    "\n",
    "    integration_points = [\n",
    "        JuliaFEM.IntegrationPoint([a, b, b], w, Dict()),\n",
    "        JuliaFEM.IntegrationPoint([b, a, b], w, Dict()),\n",
    "        JuliaFEM.IntegrationPoint([b, b, a], w, Dict()),\n",
    "        JuliaFEM.IntegrationPoint([b, b, b], w, Dict())]\n",
    "\n",
    "    for (elid, node_ids) in model[\"elements\"]\n",
    "        coordinates[:,:] = 0.0\n",
    "        for (i, nid) in enumerate(node_ids)\n",
    "            coordinates[:,i] = model[\"nodes\"][nid]\n",
    "        end\n",
    "\n",
    "\n",
    "        E = 90.0e6\n",
    "        nu = 0.3\n",
    "        mu = E/(2*(1+nu))\n",
    "        la = E*nu/((1+nu)*(1-2*nu))\n",
    "        la = 2*la*mu/(la + 2*mu)\n",
    "        attributes = Dict()\n",
    "        el = JuliaFEM.Element(elid, node_ids, basis, dbasis, integration_points, attributes)\n",
    "        el.attributes[\"coordinates\"] = copy(coordinates)\n",
    "        el.attributes[\"lambda\"] = la\n",
    "        el.attributes[\"mu\"] = mu\n",
    "        el.attributes[\"displacement\"] = zeros(3, 10)\n",
    "        push!(elements, el)\n",
    "    end\n",
    "\n",
    "    # create \"dofmap\" so that we know how to assemble global stiffness matrix\n",
    "    dofmap = create_ldof2gdofmap(elements, \"displacement\")\n",
    "\n",
    "    # Boundary conditions\n",
    "\n",
    "    # dirichlet bc, set dx=dy=dz for all nodes in set SUPPORT\n",
    "    bc_support = BC(Int64[], Float64[])\n",
    "    for nid in model[\"nsets\"][\"SUPPORT\"]\n",
    "        for i=1:3\n",
    "            push!(bc_support.dofs, dofmap[nid][i])\n",
    "            push!(bc_support.values, 0.0)\n",
    "        end\n",
    "    end\n",
    "\n",
    "    # force boundary condition, put -1 to 2nd dof for each node in set LOAD\n",
    "    bc_load = BC(Int64[], Float64[])\n",
    "    for nid in model[\"nsets\"][\"LOAD\"]\n",
    "        push!(bc_load.dofs, dofmap[nid][2])\n",
    "        push!(bc_load.values, -1500000.0)\n",
    "    end\n",
    "\n",
    "    #solve!(elements, [bc1], [bc2]; max_iterations=7)\n",
    "    neumann_bcs = [bc_load]\n",
    "    dirichlet_bcs = [bc_support]\n",
    "    # ndofs = dimension of unknown field in nodes\n",
    "    solve!(elements, dofmap, neumann_bcs, dirichlet_bcs; ndofs=3, max_iterations=10)\n",
    "\n",
    "    # Let's pick maximum absolute displacement in y direction\n",
    "    maxdisp = 0.0\n",
    "    for el in elements\n",
    "        eldisp = el.attributes[\"displacement\"]\n",
    "        eldispy = eldisp[2,:]\n",
    "        maxeldisp = maximum(abs(eldispy))\n",
    "        if maxeldisp > maxdisp\n",
    "            maxdisp = maxeldisp\n",
    "        end\n",
    "    end\n",
    "    Logging.info(\"Maximum absolute displacement in y direction: $maxdisp\")\n",
    "    return model, elements, dofmap\n",
    "end\n",
    "\n",
    "model, elements, dofmap = solve_3d_model();"
   ]
  },
  {
   "cell_type": "markdown",
   "metadata": {},
   "source": [
    "## Saving results to file"
   ]
  },
  {
   "cell_type": "code",
   "execution_count": 55,
   "metadata": {
    "collapsed": false
   },
   "outputs": [
    {
     "data": {
      "text/plain": [
       "<Grid Name=\"Grid\">\n",
       "  <Time Value=\"0\"/>\n",
       "</Grid>\n"
      ]
     },
     "execution_count": 55,
     "metadata": {},
     "output_type": "execute_result"
    }
   ],
   "source": [
    "xdoc, xmodel = JuliaFEM.xdmf.xdmf_new_model()\n",
    "temporal_collection = JuliaFEM.xdmf.xdmf_new_temporal_collection(xmodel)\n",
    "grid = JuliaFEM.xdmf.xdmf_new_grid(temporal_collection; time=0)"
   ]
  },
  {
   "cell_type": "markdown",
   "metadata": {},
   "source": [
    "Save geometry to xdmf file"
   ]
  },
  {
   "cell_type": "code",
   "execution_count": 56,
   "metadata": {
    "collapsed": false
   },
   "outputs": [
    {
     "name": "stderr",
     "output_type": "stream",
     "text": [
      "19-Aug 21:12:27:INFO:root:Number of nodes in model: 298\n",
      "19-Aug 21:12:27:INFO:root:Number of elements in model: 120\n"
     ]
    }
   ],
   "source": [
    "nnodes = length(model[\"nodes\"])\n",
    "Logging.info(\"Number of nodes in model: $nnodes\")\n",
    "node_ids = Int64[]\n",
    "for nid in keys(model[\"nodes\"])\n",
    "    push!(node_ids, nid)\n",
    "end\n",
    "sort!(node_ids)\n",
    "X = zeros(3, nnodes)\n",
    "for (i, nid) in enumerate(node_ids)\n",
    "    X[:,i] = model[\"nodes\"][nid]\n",
    "end\n",
    "\n",
    "nelements = length(model[\"elements\"])\n",
    "Logging.info(\"Number of elements in model: $nelements\")\n",
    "elmap = zeros(Int64, 11, nelements)\n",
    "elmap[1,:] = 0x0026\n",
    "for elid in 1:nelements\n",
    "    elmap[2:end,elid] = model[\"elements\"][elid]\n",
    "end"
   ]
  },
  {
   "cell_type": "code",
   "execution_count": 57,
   "metadata": {
    "collapsed": false
   },
   "outputs": [
    {
     "data": {
      "text/plain": [
       "true"
      ]
     },
     "execution_count": 57,
     "metadata": {},
     "output_type": "execute_result"
    }
   ],
   "source": [
    "using LightXML\n",
    "\n",
    "function xdmf_new_mesh(grid, X, elmap)\n",
    "    dim, nnodes = size(X)\n",
    "    geometry = new_child(grid, \"Geometry\")\n",
    "    set_attribute(geometry, \"Type\", \"XYZ\")\n",
    "    dataitem = new_child(geometry, \"DataItem\")\n",
    "    set_attribute(dataitem, \"DataType\", \"Float\")\n",
    "    set_attribute(dataitem, \"Dimensions\", \"$nnodes $dim\")\n",
    "    set_attribute(dataitem, \"Format\", \"XML\")\n",
    "    set_attribute(dataitem, \"Precision\", 8)\n",
    "    #add_text(dataitem, join(X, \" \"))\n",
    "    s = \"\\n\"\n",
    "    \n",
    "    for i=1:nnodes\n",
    "        s *= \"\\t\\t\" * join(X[:,i], \" \") * \"\\n\"\n",
    "    end\n",
    "    s *= \"       \"\n",
    "    add_text(dataitem, s)\n",
    "\n",
    "    elmap2 = copy(elmap)\n",
    "    elmap2[2:end,:] -= 1\n",
    "    dim, nelements = size(elmap2)\n",
    "\n",
    "    topology = new_child(grid, \"Topology\")\n",
    "    #set_attribute(topology, \"Dimensions\", \"1\")\n",
    "    set_attribute(topology, \"TopologyType\", \"Mixed\")\n",
    "    set_attribute(topology, \"NumberOfElements\", nelements)\n",
    "    dataitem = new_child(topology, \"DataItem\")\n",
    "    set_attribute(dataitem, \"DataType\", \"Int\")\n",
    "    set_attribute(dataitem, \"Dimensions\", \"$nelements $dim\")\n",
    "    set_attribute(dataitem, \"Format\", \"XML\")\n",
    "    set_attribute(dataitem, \"Precision\", 8)\n",
    "    s = \"\\n\"\n",
    "    for i=1:nelements\n",
    "        s *= \"\\t\\t\" * join(elmap2[:,i], \" \") * \"\\n\"\n",
    "    end\n",
    "    add_text(dataitem, s)\n",
    "    #add_text(dataitem, join(elmap2, \" \"))\n",
    "    \n",
    "end\n",
    "\n",
    "xdmf_new_mesh(grid, X, elmap)"
   ]
  },
  {
   "cell_type": "code",
   "execution_count": 58,
   "metadata": {
    "collapsed": false
   },
   "outputs": [
    {
     "data": {
      "text/plain": [
       "10435"
      ]
     },
     "execution_count": 58,
     "metadata": {},
     "output_type": "execute_result"
    }
   ],
   "source": [
    "JuliaFEM.xdmf.xdmf_save_model(xdoc, \"/tmp/3d_solid_model.xmf\")"
   ]
  },
  {
   "cell_type": "markdown",
   "metadata": {},
   "source": [
    "Save nodal data to model"
   ]
  },
  {
   "cell_type": "code",
   "execution_count": 59,
   "metadata": {
    "collapsed": false
   },
   "outputs": [
    {
     "data": {
      "text/plain": [
       "Dict{Any,Any} with 298 entries:\n",
       "  288 => [-12.729409015111896,-46.984634561883446,0.00976161039328022]\n",
       "  11  => [-14.785829217208498,-42.20176974427378,0.008418234114234127]\n",
       "  158 => [-0.09613238427634223,-0.024925865661714005,-0.021152328599486677]\n",
       "  215 => [-8.204098997513393,-20.651834887555786,0.003675944651346407]\n",
       "  134 => [-0.04746289973768044,-13.917505665457258,0.05113049026250121]\n",
       "  160 => [0.24815357717678405,-0.4508776021022819,0.039128388104899554]\n",
       "  29  => [0.07844018461547288,-0.06270924383364974,0.004195891729593283]\n",
       "  131 => [-0.044388456389593725,-13.917981456773102,-0.04387988824443422]\n",
       "  249 => [-18.54080633960933,-46.66700218188128,0.008827411992911835]\n",
       "  207 => [-4.743777979250225,-11.296644899155684,0.027192280490125977]\n",
       "  173 => [-6.3308244019030075,-30.052183303569457,0.020872057672617197]\n",
       "  289 => [-11.378151639243184,-43.542394288187026,0.006659559839321434]\n",
       "  74  => [-1.0030212040100022,-18.135103544975525,0.026360938873555055]\n",
       "  201 => [-6.115145748129358,-15.075793071665531,0.002993263067287828]\n",
       "  176 => [-1.9275056779525068,-10.695874800497068,0.0020340066199601267]\n",
       "  57  => [-4.707634597909077,-20.1431525488877,0.005778013656623472]\n",
       "  31  => [-0.017918702135580025,-0.20429459029338676,-0.001244164592902111]\n",
       "  285 => [-13.758654101433569,-44.588532062281566,0.009242729767727817]\n",
       "  70  => [-0.6491658026068393,-16.68445815172476,-0.03677230855273996]\n",
       "  33  => [-0.2031954625282471,-0.197025455475311,0.02008451861888156]\n",
       "  252 => [-1.246103879230492,-1.6323762997299875,0.003005676402356407]\n",
       "  114 => [0.6751013334216771,-0.8524740368899799,-0.07430557127461986]\n",
       "  165 => [-10.550249918373456,-26.708598943475884,-0.018237563188812762]\n",
       "  96  => [-6.47735355387718,-35.67268031983278,-0.0045879264893393095]\n",
       "  133 => [0.4250714751403551,-11.347486228911386,0.003588217409561936]\n",
       "  ⋮   => ⋮"
      ]
     },
     "execution_count": 59,
     "metadata": {},
     "output_type": "execute_result"
    }
   ],
   "source": [
    "nodaldisp = Dict()\n",
    "for el in elements\n",
    "    for (i, nid) in enumerate(el.node_ids)\n",
    "        nodaldisp[nid] = el.attributes[\"displacement\"][:, i]\n",
    "    end\n",
    "end\n",
    "nodaldisp"
   ]
  },
  {
   "cell_type": "code",
   "execution_count": 60,
   "metadata": {
    "collapsed": false
   },
   "outputs": [
    {
     "data": {
      "text/plain": [
       "3x298 Array{Float64,2}:\n",
       " -0.328537     -0.581456     -1.94415      -2.25956      -1.65873      -1.02996     …  -0.151833   -0.572535    -0.320967    -1.37494     -0.922318    0.0\n",
       " -2.97468      -4.52837     -10.717       -11.9348      -14.9046      -12.2747         -1.683      -4.49601     -2.94077     -8.4008      -6.32738     0.0\n",
       " -0.000439894   0.00176042    0.00267874    0.00357279    0.00431665    0.00380978      0.0048871   0.00163786   0.00332861   0.00422365   0.00304404  0.0"
      ]
     },
     "execution_count": 60,
     "metadata": {},
     "output_type": "execute_result"
    }
   ],
   "source": [
    "u = zeros(3, nnodes)\n",
    "for (i, nid) in enumerate(node_ids)\n",
    "    u[:,i] = nodaldisp[nid]\n",
    "end\n",
    "u"
   ]
  },
  {
   "cell_type": "code",
   "execution_count": 61,
   "metadata": {
    "collapsed": false
   },
   "outputs": [
    {
     "data": {
      "text/plain": [
       "true"
      ]
     },
     "execution_count": 61,
     "metadata": {},
     "output_type": "execute_result"
    }
   ],
   "source": [
    "JuliaFEM.xdmf.xdmf_new_field(grid, \"Displacement\", \"nodes\", u)"
   ]
  },
  {
   "cell_type": "code",
   "execution_count": 62,
   "metadata": {
    "collapsed": false
   },
   "outputs": [
    {
     "data": {
      "text/plain": [
       "28126"
      ]
     },
     "execution_count": 62,
     "metadata": {},
     "output_type": "execute_result"
    }
   ],
   "source": [
    "JuliaFEM.xdmf.xdmf_save_model(xdoc, \"/tmp/3d_solid_model.xmf\")"
   ]
  },
  {
   "cell_type": "code",
   "execution_count": 63,
   "metadata": {
    "collapsed": false
   },
   "outputs": [
    {
     "data": {
      "image/png": "[encoded data removed]",
      "text/plain": [
       "PyObject <IPython.core.display.Image object>"
      ]
     },
     "execution_count": 63,
     "metadata": {},
     "output_type": "execute_result"
    }
   ],
   "source": [
    "using PyCall\n",
    "@pyimport IPython.display as d\n",
    "d.Image(\"/tmp/3d_solid_model.png\")"
   ]
  },
  {
   "cell_type": "code",
   "execution_count": null,
   "metadata": {
    "collapsed": true
   },
   "outputs": [],
   "source": []
  }
 ],
 "metadata": {
  "kernelspec": {
   "display_name": "Julia 0.4.0-dev",
   "language": "julia",
   "name": "julia-0.4"
  },
  "language_info": {
   "name": "julia",
   "version": "0.4.0"
  }
 },
 "nbformat": 4,
 "nbformat_minor": 0
}
