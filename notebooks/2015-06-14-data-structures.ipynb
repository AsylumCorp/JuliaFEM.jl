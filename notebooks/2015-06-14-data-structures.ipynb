{
 "cells": [
  {
   "cell_type": "markdown",
   "metadata": {},
   "source": [
    "# Data structures\n",
    "\n",
    "**Author(s)**: Jukka Aho\n",
    "\n",
    "**Abstract**: Description of data structures.\n",
    "\n",
    "## Revision history\n",
    "\n",
    "### 2015-06-14\n",
    "- Initial version.\n",
    "\n",
    "### 2015-09-25\n",
    "- Complete rewrite. The main ideas proposed in earlier version didn't work."
   ]
  },
  {
   "cell_type": "markdown",
   "metadata": {},
   "source": [
    "## Data fields on elements\n",
    "\n",
    "Typical element structure so far:\n",
    "\n",
    "    type MySuperElement <: Element\n",
    "        connectivity :: Array{Int, 1}  # describes how dofs of this element is connected to another elements\n",
    "        fields :: ???\n",
    "    end\n",
    "\n",
    "- Fields must be interpolable, in space $\\mathbb{C}^n \\times \\mathbb{R}$, i.e. $f(\\boldsymbol{\\xi}, t) = \\sum_i \\phi_i(\\boldsymbol{\\xi}) f_i(t) = \\sum_i \\phi_i(\\boldsymbol{\\xi}) \\sum_j \\varphi_j(t) f_{ij}$, where $f_{ij}$ is scalar, tensor or vector defined in element area $e$ by some basis functions $\\phi(\\boldsymbol{\\xi})$ and $\\varphi(t)$. Parameter $t$ is normally considered as \"time\" and $\\xi$ is dimensionless coordinate. Parameter $t$ has not necessarily to be time, it could be for example angle $\\alpha \\in [-2\\pi, 2\\pi]$ or similar.\n",
    "- We store mainly three fields, scalar field, vector field, tensor field. Field may or may not be dependent from parameters $\\xi$ or $t$.\n",
    "- $t$ is discretized to several steps $\\{t_0, t_1, \\ldots, t_n\\}$. Each discrete time $t_i$ may contain several iterations until convergence. We want to save and get access to all of this data if needed.\n",
    "- So in practice we have a set of fields $f(\\boldsymbol{\\xi})$ over time domain $t$. Typically some fields, like Geometry, is introduced only in time $t_0$. Some other fields, like boundary load, may be \"active\" only on some time $\\hat{t} \\subset t$. Some care must be taken about how to extrapolate field variables before definition and after them. Considering for example boundary conditions is feels quite natural to say that before boundary load $g$ is introduced the field variable equals to zero. And if field is not defined in some time $t$ we could use the last known value, for example if we ramp up some load $g(t) = t, t\\in[0,1]$ we could say that $g(t) = g(1)$ if $t > 1$.\n",
    "- In the simplest case (simple nonlinear quasistatic analysis), we have for instance $t \\in [0, 1]$ where boundary conditions are set in $t_0$ and load is set in $t_1$. We may use adaptive strategies to shorten time if convergence issues araises."
   ]
  },
  {
   "cell_type": "markdown",
   "metadata": {},
   "source": [
    "## Without time domain\n",
    "\n",
    "Without time we have something like this"
   ]
  },
  {
   "cell_type": "code",
   "execution_count": 1,
   "metadata": {
    "collapsed": true
   },
   "outputs": [],
   "source": [
    "using ForwardDiff"
   ]
  },
  {
   "cell_type": "code",
   "execution_count": 2,
   "metadata": {
    "collapsed": false
   },
   "outputs": [],
   "source": [
    "type Field{T}\n",
    "    name\n",
    "    values :: Array{T, 1}\n",
    "end\n",
    "\n",
    "type Basis\n",
    "    basis :: Function\n",
    "    dbasis :: Function\n",
    "end"
   ]
  },
  {
   "cell_type": "code",
   "execution_count": 3,
   "metadata": {
    "collapsed": false
   },
   "outputs": [
    {
     "data": {
      "text/plain": [
       "* (generic function with 158 methods)"
      ]
     },
     "execution_count": 3,
     "metadata": {},
     "output_type": "execute_result"
    }
   ],
   "source": [
    "function Basis(basis)\n",
    "    Basis(basis, ForwardDiff.jacobian(basis))\n",
    "end\n",
    "call(b::Basis, xi) = b.basis(xi)\n",
    "Base.(:*)(x::Array{Float64, 1}, f::Field) = sum(x .* f.values)\n",
    "Base.(:*)(b::Basis, f::Field) = (x) -> b(x)*f"
   ]
  },
  {
   "cell_type": "markdown",
   "metadata": {},
   "source": [
    "Then we can do something like this"
   ]
  },
  {
   "cell_type": "code",
   "execution_count": 4,
   "metadata": {
    "collapsed": false
   },
   "outputs": [
    {
     "data": {
      "text/plain": [
       "Field{Float64}(:displacement,[0.0,1.0])"
      ]
     },
     "execution_count": 4,
     "metadata": {},
     "output_type": "execute_result"
    }
   ],
   "source": [
    "N = Basis((ξ) -> [0.5*(1.0-ξ[1]), 0.5*(1.0+ξ[1])])\n",
    "u = Field(:displacement, [0.0, 1.0])"
   ]
  },
  {
   "cell_type": "code",
   "execution_count": 5,
   "metadata": {
    "collapsed": false
   },
   "outputs": [
    {
     "data": {
      "text/plain": [
       "0.5"
      ]
     },
     "execution_count": 5,
     "metadata": {},
     "output_type": "execute_result"
    }
   ],
   "source": [
    "N([0.0])*u"
   ]
  },
  {
   "cell_type": "markdown",
   "metadata": {},
   "source": [
    "or"
   ]
  },
  {
   "cell_type": "code",
   "execution_count": 6,
   "metadata": {
    "collapsed": false
   },
   "outputs": [
    {
     "data": {
      "text/plain": [
       "0.5"
      ]
     },
     "execution_count": 6,
     "metadata": {},
     "output_type": "execute_result"
    }
   ],
   "source": [
    "(N*u)([0.0])"
   ]
  },
  {
   "cell_type": "markdown",
   "metadata": {},
   "source": [
    "## Extending to time domain"
   ]
  },
  {
   "cell_type": "markdown",
   "metadata": {},
   "source": [
    "Next we want to interpolate over time domain. Maybe something like this would do the job:"
   ]
  },
  {
   "cell_type": "code",
   "execution_count": 7,
   "metadata": {
    "collapsed": false
   },
   "outputs": [
    {
     "data": {
      "text/plain": [
       "Field{Float64}(:displacement,[0.0,3.0])"
      ]
     },
     "execution_count": 7,
     "metadata": {},
     "output_type": "execute_result"
    }
   ],
   "source": [
    "Base.(:*)(k::Float64, f::Field) = Field(f.name, k*f.values)\n",
    "u1 = Field(:displacement, [0.0, 1.0])\n",
    "3.0*u1"
   ]
  },
  {
   "cell_type": "code",
   "execution_count": 8,
   "metadata": {
    "collapsed": false
   },
   "outputs": [
    {
     "data": {
      "text/plain": [
       "Field{Float64}(:displacement,[1.0,3.0])"
      ]
     },
     "execution_count": 8,
     "metadata": {},
     "output_type": "execute_result"
    }
   ],
   "source": [
    "function Base.(:+)(f1::Field, f2::Field)\n",
    "    @assert(f1.name == f2.name, \"Cannot add field $(f1.name) to $(f2.name): field name mismatch\")\n",
    "    Field(f1.name, f1.values + f2.values)\n",
    "end\n",
    "u1 = Field(:displacement, [0.0, 1.0])\n",
    "u2 = Field(:displacement, [1.0, 2.0])\n",
    "u1 + u2"
   ]
  },
  {
   "cell_type": "code",
   "execution_count": 9,
   "metadata": {
    "collapsed": false
   },
   "outputs": [
    {
     "data": {
      "text/plain": [
       "Field{Float64}(:displacement,[0.5,1.5])"
      ]
     },
     "execution_count": 9,
     "metadata": {},
     "output_type": "execute_result"
    }
   ],
   "source": [
    "u1 = Field(:displacement, [0.0, 1.0])\n",
    "u2 = Field(:displacement, [1.0, 2.0])\n",
    "\n",
    "t = Basis((t) -> [1-t, t])\n",
    "u = Field[u1, u2]\n",
    "Base.(:*)(x::Array{Float64, 1}, f::Array{Field}) = sum(x .* f)\n",
    "Base.(:*)(b::Basis, f::Array{Field}) = (t) -> b(t)*f\n",
    "(t*u)(0.5)"
   ]
  },
  {
   "cell_type": "markdown",
   "metadata": {},
   "source": [
    "## Summary\n",
    "\n",
    "Putting this together so far:"
   ]
  },
  {
   "cell_type": "code",
   "execution_count": 20,
   "metadata": {
    "collapsed": false
   },
   "outputs": [
    {
     "data": {
      "text/plain": [
       "1.0"
      ]
     },
     "execution_count": 20,
     "metadata": {},
     "output_type": "execute_result"
    }
   ],
   "source": [
    "ϕ = Basis((ξ) -> [0.5*(1.0-ξ[1]), 0.5*(1.0+ξ[1])])\n",
    "φ = Basis((t) -> [1-t, t])\n",
    "u1 = Field(:displacement, [0.0, 1.0])\n",
    "u2 = Field(:displacement, [1.0, 2.0])\n",
    "# interpolate displacement u1 in mid-point ξ=[0.0] on element\n",
    "(ϕ*u1)([0.0]) # => 0.5\n",
    "# interpolate displacement field [u1, u2] in time t=0.5\n",
    "(φ*Field[u1, u2])(0.5) # => Field{Float64}(:displacement,[0.5,1.5])\n",
    "# interpolate displacement in element area ξ and time t\n",
    "d(ξ, t) = (ϕ*(φ*Field[u1, u2])(t))(ξ)\n",
    "d([0.0], 0.5)"
   ]
  },
  {
   "cell_type": "markdown",
   "metadata": {},
   "source": [
    "Makes sense, since deformation from $u_1$ to $u_2$ at $t=0.5$ is $\\begin{bmatrix}0.5 & 1.5\\end{bmatrix}$ and taking the midpoint of this makes exactly $1.0$."
   ]
  },
  {
   "cell_type": "code",
   "execution_count": null,
   "metadata": {
    "collapsed": true
   },
   "outputs": [],
   "source": []
  },
  {
   "cell_type": "code",
   "execution_count": null,
   "metadata": {
    "collapsed": true
   },
   "outputs": [],
   "source": [
    "type Iteration{T}\n",
    "    converged :: Bool\n",
    "    values :: T\n",
    "end\n",
    "\n",
    "type Increment\n",
    "    time :: Float64\n",
    "    iterations :: Array{Iteration, 1}\n",
    "end\n",
    "\n",
    "type Step\n",
    "    f :: Function\n",
    "    t :: Array{Float64, 1}\n",
    "    increments :: Array{Increment, 1}\n",
    "end"
   ]
  },
  {
   "cell_type": "code",
   "execution_count": null,
   "metadata": {
    "collapsed": true
   },
   "outputs": [],
   "source": [
    "function Iteration()\n",
    "    Iteration(false, \n",
    "end\n",
    "f = Field(:temperature, "
   ]
  },
  {
   "cell_type": "code",
   "execution_count": 37,
   "metadata": {
    "collapsed": false
   },
   "outputs": [
    {
     "ename": "LoadError",
     "evalue": "LoadError: MethodError: `call` has no method matching call(::Field, ::Float64)\nClosest candidates are:\n  Union(!Matched::Any...)\n  BoundsError()\n  BoundsError(!Matched::Any...)\n  ...\nwhile loading In[37], in expression starting on line 1",
     "output_type": "error",
     "traceback": [
      "LoadError: MethodError: `call` has no method matching call(::Field, ::Float64)\nClosest candidates are:\n  Union(!Matched::Any...)\n  BoundsError()\n  BoundsError(!Matched::Any...)\n  ...\nwhile loading In[37], in expression starting on line 1",
      ""
     ]
    }
   ],
   "source": [
    "f(0.0)"
   ]
  },
  {
   "cell_type": "code",
   "execution_count": 39,
   "metadata": {
    "collapsed": false
   },
   "outputs": [
    {
     "data": {
      "text/plain": [
       "0.5"
      ]
     },
     "execution_count": 39,
     "metadata": {},
     "output_type": "execute_result"
    }
   ],
   "source": [
    "interpolate(f, ϕ, [0.0])"
   ]
  },
  {
   "cell_type": "code",
   "execution_count": 40,
   "metadata": {
    "collapsed": false
   },
   "outputs": [
    {
     "data": {
      "text/plain": [
       "0.5"
      ]
     },
     "execution_count": 40,
     "metadata": {},
     "output_type": "execute_result"
    }
   ],
   "source": [
    "(ϕ*f)([0.0])"
   ]
  },
  {
   "cell_type": "code",
   "execution_count": null,
   "metadata": {
    "collapsed": true
   },
   "outputs": [],
   "source": []
  }
 ],
 "metadata": {
  "kernelspec": {
   "display_name": "Julia 0.5.0-dev",
   "language": "julia",
   "name": "julia-0.5"
  },
  "language_info": {
   "name": "julia",
   "version": "0.5.0"
  }
 },
 "nbformat": 4,
 "nbformat_minor": 0
}
