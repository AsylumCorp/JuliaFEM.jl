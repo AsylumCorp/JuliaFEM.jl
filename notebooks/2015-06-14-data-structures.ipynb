{
 "cells": [
  {
   "cell_type": "markdown",
   "metadata": {},
   "source": [
    "# Data structures\n",
    "\n",
    "**Author(s)**: Jukka Aho\n",
    "\n",
    "**Abstract**: Description of data structures.\n",
    "\n",
    "## Revision history\n",
    "\n",
    "### 2015-06-14\n",
    "- Initial version.\n",
    "\n",
    "### 2015-09-25\n",
    "- Complete rewrite. The main ideas proposed in earlier version didn't work."
   ]
  },
  {
   "cell_type": "markdown",
   "metadata": {},
   "source": [
    "## Data fields on elements\n",
    "\n",
    "Typical element structure so far:\n",
    "\n",
    "    type MySuperElement <: Element\n",
    "        connectivity :: Array{Int, 1}  # describes how dofs of this element is connected to another elements\n",
    "        fields :: ???\n",
    "    end\n",
    "\n",
    "- Fields must be interpolable, in space $\\mathbb{C}^n \\times \\mathbb{R}$, i.e. $f(\\boldsymbol{\\xi}, t) = \\sum_i \\phi_i(\\boldsymbol{\\xi}) f_i(t) = \\sum_i \\phi_i(\\boldsymbol{\\xi}) \\sum_j \\varphi_j(t) f_{ij}$, where $f_{ij}$ is scalar, tensor or vector defined in element area $e$ by some basis functions $\\phi(\\boldsymbol{\\xi})$ and $\\varphi(t)$. Parameter $t$ is normally considered as \"time\" and $\\xi$ is dimensionless coordinate. Parameter $t$ has not necessarily to be time, it could be for example angle $\\alpha \\in [-2\\pi, 2\\pi]$ or similar.\n",
    "- We store mainly three fields, scalar field, vector field, tensor field. Field may or may not be dependent from parameters $\\xi$ or $t$.\n",
    "- $t$ is discretized to several steps $\\{t_0, t_1, \\ldots, t_n\\}$. Each discrete time $t_i$ may contain several iterations until convergence. We want to save and get access to all of this data if needed.\n",
    "- So in practice we have a set of fields $f(\\boldsymbol{\\xi})$ over time domain $t$. Typically some fields, like Geometry, is introduced only in time $t_0$. Some other fields, like boundary load, may be \"active\" only on some time $\\hat{t} \\subset t$. Some care must be taken of how to extrapolate field variables.\n",
    "- In the simplest case (simple nonlinear quasistatic analysis), we have for instance $t \\in [0, 1]$ where boundary conditions are set in $t_0$ and load is set in $t_1$. We may use adaptive strategies to shorten time if convergence issues araises."
   ]
  },
  {
   "cell_type": "markdown",
   "metadata": {},
   "source": [
    "## Without time domain\n",
    "\n",
    "Without time we have something like this"
   ]
  },
  {
   "cell_type": "code",
   "execution_count": 1,
   "metadata": {
    "collapsed": true
   },
   "outputs": [],
   "source": [
    "using ForwardDiff"
   ]
  },
  {
   "cell_type": "code",
   "execution_count": 2,
   "metadata": {
    "collapsed": false
   },
   "outputs": [],
   "source": [
    "type Field{T}\n",
    "    time :: Float64\n",
    "    increment :: Int64\n",
    "    values :: Array{T, 1}\n",
    "end\n",
    "\n",
    "type Basis\n",
    "    basis :: Function\n",
    "    dbasisdxi :: Function\n",
    "end"
   ]
  },
  {
   "cell_type": "code",
   "execution_count": 3,
   "metadata": {
    "collapsed": false
   },
   "outputs": [
    {
     "data": {
      "text/plain": [
       "* (generic function with 158 methods)"
      ]
     },
     "execution_count": 3,
     "metadata": {},
     "output_type": "execute_result"
    }
   ],
   "source": [
    "function Field(time, values)\n",
    "    Field(time, 1, values)\n",
    "end\n",
    "function Basis(basis)\n",
    "    Basis(basis, ForwardDiff.jacobian(basis))\n",
    "end\n",
    "call(b::Basis, xi) = b.basis(xi)\n",
    "Base.(:*)(x::Array{Float64, 1}, f::Field) = sum(x .* f.values)\n",
    "Base.(:*)(b::Basis, f::Field) = (x) -> b(x)*f"
   ]
  },
  {
   "cell_type": "markdown",
   "metadata": {},
   "source": [
    "Then we can do something like this"
   ]
  },
  {
   "cell_type": "code",
   "execution_count": 4,
   "metadata": {
    "collapsed": false
   },
   "outputs": [
    {
     "data": {
      "text/plain": [
       "Field{Float64}(0.0,1,[0.0,1.0])"
      ]
     },
     "execution_count": 4,
     "metadata": {},
     "output_type": "execute_result"
    }
   ],
   "source": [
    "N = Basis((ξ) -> [0.5*(1.0-ξ[1]), 0.5*(1.0+ξ[1])])\n",
    "u = Field(0.0, [0.0, 1.0])"
   ]
  },
  {
   "cell_type": "code",
   "execution_count": 5,
   "metadata": {
    "collapsed": false
   },
   "outputs": [
    {
     "data": {
      "text/plain": [
       "0.5"
      ]
     },
     "execution_count": 5,
     "metadata": {},
     "output_type": "execute_result"
    }
   ],
   "source": [
    "N([0.0])*u"
   ]
  },
  {
   "cell_type": "markdown",
   "metadata": {},
   "source": [
    "or"
   ]
  },
  {
   "cell_type": "code",
   "execution_count": 6,
   "metadata": {
    "collapsed": false
   },
   "outputs": [
    {
     "data": {
      "text/plain": [
       "0.5"
      ]
     },
     "execution_count": 6,
     "metadata": {},
     "output_type": "execute_result"
    }
   ],
   "source": [
    "(N*u)([0.0])"
   ]
  },
  {
   "cell_type": "markdown",
   "metadata": {},
   "source": [
    "## Extending to time domain"
   ]
  },
  {
   "cell_type": "markdown",
   "metadata": {},
   "source": [
    "Next we want to interpolate over time domain. Maybe something like this would do the job:"
   ]
  },
  {
   "cell_type": "code",
   "execution_count": 7,
   "metadata": {
    "collapsed": false
   },
   "outputs": [
    {
     "data": {
      "text/plain": [
       "Field{Float64}(0.0,1,[0.0,3.0])"
      ]
     },
     "execution_count": 7,
     "metadata": {},
     "output_type": "execute_result"
    }
   ],
   "source": [
    "Base.(:*)(k::Float64, f::Field) = Field(f.time, k*f.values)\n",
    "u1 = Field(0.0, [0.0, 1.0])\n",
    "3.0*u1"
   ]
  },
  {
   "cell_type": "code",
   "execution_count": 8,
   "metadata": {
    "collapsed": false
   },
   "outputs": [
    {
     "data": {
      "text/plain": [
       "Field{Float64}(0.0,1,[1.0,3.0])"
      ]
     },
     "execution_count": 8,
     "metadata": {},
     "output_type": "execute_result"
    }
   ],
   "source": [
    "function Base.(:+)(f1::Field, f2::Field)\n",
    "    @assert(f1.time == f2.time, \"Cannot add fields: time mismatch, $(f1.time) != $(f2.time)\")\n",
    "    Field(f1.time, f1.values + f2.values)\n",
    "end\n",
    "u1 = Field(0.0, [0.0, 1.0])\n",
    "u2 = Field(0.0, [1.0, 2.0])\n",
    "u1 + u2"
   ]
  },
  {
   "cell_type": "code",
   "execution_count": 9,
   "metadata": {
    "collapsed": false
   },
   "outputs": [
    {
     "data": {
      "text/plain": [
       "Field{Float64}(0.0,1,[0.5,1.5])"
      ]
     },
     "execution_count": 9,
     "metadata": {},
     "output_type": "execute_result"
    }
   ],
   "source": [
    "u1 = Field(0.0, [0.0, 1.0])\n",
    "u2 = Field(0.0, [1.0, 2.0])\n",
    "\n",
    "t = Basis((t) -> [1-t, t])\n",
    "u = Field[u1, u2]\n",
    "Base.(:*)(x::Array{Float64, 1}, f::Array{Field}) = sum(x .* f)\n",
    "Base.(:*)(b::Basis, f::Array{Field}) = (t) -> b(t)*f\n",
    "(t*u)(0.5)"
   ]
  },
  {
   "cell_type": "markdown",
   "metadata": {},
   "source": [
    "## Semisummary\n",
    "\n",
    "Putting this together so far:"
   ]
  },
  {
   "cell_type": "code",
   "execution_count": 10,
   "metadata": {
    "collapsed": false
   },
   "outputs": [
    {
     "data": {
      "text/plain": [
       "1.0"
      ]
     },
     "execution_count": 10,
     "metadata": {},
     "output_type": "execute_result"
    }
   ],
   "source": [
    "ϕ = Basis((ξ) -> [0.5*(1.0-ξ[1]), 0.5*(1.0+ξ[1])])\n",
    "φ = Basis((t) -> [1-t, t])\n",
    "u1 = Field(0.0, [0.0, 1.0])\n",
    "u2 = Field(0.0, [1.0, 2.0])\n",
    "# interpolate displacement u1 in mid-point ξ=[0.0] on element\n",
    "(ϕ*u1)([0.0]) # => 0.5\n",
    "# interpolate displacement field [u1, u2] in time t=0.5\n",
    "(φ*Field[u1, u2])(0.5) # => Field{Float64}(:displacement,[0.5,1.5])\n",
    "# interpolate displacement in element area ξ and time t\n",
    "d(ξ, t) = (ϕ*(φ*Field[u1, u2])(t))(ξ)\n",
    "d([0.0], 0.5)"
   ]
  },
  {
   "cell_type": "markdown",
   "metadata": {},
   "source": [
    "Makes sense, since deformation from $u_1$ to $u_2$ at $t=0.5$ is $\\begin{bmatrix}0.5 & 1.5\\end{bmatrix}$ and taking the midpoint of this makes exactly $1.0$."
   ]
  },
  {
   "cell_type": "markdown",
   "metadata": {},
   "source": [
    "## Towards generalization\n",
    "\n",
    "So at this point we are able to interpolate $u(\\xi)$ in time $t$. This is a set of discrete fields and needs to figure out which fields are needed to interpolate. So we have $u_0, u_1, \\ldots, u_i$ fields. Each time needs to be aware of it's time $t_i$."
   ]
  },
  {
   "cell_type": "code",
   "execution_count": 11,
   "metadata": {
    "collapsed": false
   },
   "outputs": [
    {
     "name": "stdout",
     "output_type": "stream",
     "text": [
      "Field{"
     ]
    }
   ],
   "source": [
    "\"\"\"\n",
    "Return a field in some time t.\n",
    "\"\"\"\n",
    "function call(fields::Array{Field, 1}, t::Float64)\n",
    "    if t <= fields[1].time\n",
    "        return fields[1]\n",
    "    end\n",
    "    if t >= fields[end].time\n",
    "        return fields[end]\n",
    "    end\n",
    "    i = length(fields)\n",
    "    while fields[i].time >= t\n",
    "        i -= 1\n",
    "    end\n",
    "    if fields[i].time == t\n",
    "        return fields[i]\n",
    "    end\n",
    "    #Logging.debug(\"doing linear interpolation between fields $i and $(i+1)\")\n",
    "    f1 = fields[i]\n",
    "    t1 = f1.time\n",
    "    f2 = fields[i+1]\n",
    "    t2 = f2.time\n",
    "    dt = t2 - t1\n",
    "    nw = (t2-t)/dt*f1.values + (t-t1)/dt*f2.values\n",
    "    f = Field(t, nw)\n",
    "    return f\n",
    "end\n",
    "function call(field::Field, t::Float64)\n",
    "    Field(t, field.increment, field.values)\n",
    "end\n",
    "\n",
    "u1 = Field(0.0, [0.0, 0.0])\n",
    "u2 = Field(1.0, [1.0, 2.0])\n",
    "u3 = Field(2.0, [0.5, 1.5])\n",
    "u = Field[u1, u2, u3]\n",
    "for f in [u(-Inf), u(0.0), u(0.5), u(1.0), u(1.5), u(2.0), u(Inf)]\n",
    "    println(f)\n",
    "end"
   ]
  },
  {
   "cell_type": "markdown",
   "metadata": {},
   "source": [
    "Handling of derivatives in multidimensional case"
   ]
  },
  {
   "cell_type": "code",
   "execution_count": 12,
   "metadata": {
    "collapsed": false
   },
   "outputs": [
    {
     "data": {
      "text/plain": [
       "* (generic function with 163 methods)"
      ]
     },
     "execution_count": 12,
     "metadata": {},
     "output_type": "execute_result"
    }
   ],
   "source": [
    "∂(h::Basis) = h.dbasisdxi\n",
    "diff(h::Basis) = h.dbasisdxi\n",
    "derivative(h::Basis) = h.dbasisdxi\n",
    "Base.(:*)(df::Function, fld::Field) = (ξ) -> df(ξ)*fld\n",
    "Base.length(f::Field) = length(f.values)\n",
    "Base.getindex(f::Field, i::Int64) = f.values[i]\n",
    "Base.(:*)(x::Array{Float64, 2}, fld::Field) = sum([fld[i]*x[i,:] for i in 1:length(fld)])"
   ]
  },
  {
   "cell_type": "markdown",
   "metadata": {},
   "source": [
    "## Summary"
   ]
  },
  {
   "cell_type": "code",
   "execution_count": 13,
   "metadata": {
    "collapsed": false
   },
   "outputs": [
    {
     "name": "stderr",
     "output_type": "stream",
     "text": [
      "WARNING: could not import Base.help into PyCall\n"
     ]
    },
    {
     "name": "stdout",
     "output_type": "stream",
     "text": [
      "Float64}(0.0,1,[0.0,0.0])\n",
      "Field{Float64}(0.0,1,[0.0,0.0])\n",
      "Field{Float64}(0.5,1,[0.5,1.0])\n",
      "Field{Float64}(1.0,1,[1.0,2.0])\n",
      "Field{Float64}(1.5,1,[0.75,1.75])\n",
      "Field{Float64}(2.0,1,[0.5,1.5])\n",
      "Field{Float64}(2.0,1,[0.5,1.5])\n"
     ]
    }
   ],
   "source": [
    "using PyPlot"
   ]
  },
  {
   "cell_type": "markdown",
   "metadata": {},
   "source": [
    "Interpolate midpoint of some field in function of time, i.e., construct $x(\\xi, t)$:"
   ]
  },
  {
   "cell_type": "code",
   "execution_count": 14,
   "metadata": {
    "collapsed": false
   },
   "outputs": [
    {
     "data": {
      "image/png": "[encoded data removed]",
      "text/plain": [
       "PyPlot.Figure(PyObject <matplotlib.figure.Figure object at 0x7f031d473250>)"
      ]
     },
     "metadata": {},
     "output_type": "display_data"
    }
   ],
   "source": [
    "ϕ = Basis((ξ) -> [0.5*(1.0-ξ[1]), 0.5*(1.0+ξ[1])])\n",
    "u1 = Field(0.0, [0.0, 0.0])\n",
    "u2 = Field(1.0, [1.0, 2.0])\n",
    "u3 = Field(2.0, [0.5, 1.5])\n",
    "u = Field[u1, u2, u3]\n",
    "x(ξ, t) = ϕ(ξ)*u(t)\n",
    "t = linspace(-1.0, 4.0, 200)\n",
    "midpnt = zeros(length(t))\n",
    "for i =1:length(t)\n",
    "    midpnt[i] = x([0.0], t[i])\n",
    "end\n",
    "plot(t, midpnt, \"-k\", label=\"midpoint of some field\")\n",
    "legend()\n",
    "grid()"
   ]
  },
  {
   "cell_type": "markdown",
   "metadata": {},
   "source": [
    "Multidimensional interpolation $x(\\boldsymbol\\xi, t)$:"
   ]
  },
  {
   "cell_type": "code",
   "execution_count": 15,
   "metadata": {
    "collapsed": false
   },
   "outputs": [
    {
     "data": {
      "image/png": "[encoded data removed]",
      "text/plain": [
       "PyPlot.Figure(PyObject <matplotlib.figure.Figure object at 0x7f0326c86e10>)"
      ]
     },
     "metadata": {},
     "output_type": "display_data"
    },
    {
     "data": {
      "text/plain": [
       "(-0.5,2.0,0.0,2.0)"
      ]
     },
     "execution_count": 15,
     "metadata": {},
     "output_type": "execute_result"
    }
   ],
   "source": [
    "h = Basis((xi) ->\n",
    "    [(1-xi[1])*(1-xi[2])/4\n",
    "     (1+xi[1])*(1-xi[2])/4\n",
    "     (1+xi[1])*(1+xi[2])/4\n",
    "     (1-xi[1])*(1+xi[2])/4])\n",
    "X = Field(0.0, Vector[[0.0, 0.0], [1.0, 0.0], [1.0, 1.0], [0.0, 1.0]])\n",
    "u1 = Field(0.0, Vector[[0.0, 0.0], [0.0, 0.0], [0.0, 0.0], [0.0, 0.0]])\n",
    "u2 = Field(1.0, Vector[[-0.3, 0.2], [0.2, 0.0], [1.0, 0.0], [0.0, 1.0]])\n",
    "u = Field[u1, u2]\n",
    "N = 5\n",
    "x(ξ, t) = h(ξ)*(X(t) + u(t))\n",
    "for t in linspace(0, 1, N)\n",
    "    m = [x([-1, -1], t) x([1, -1], t) x([1, 1], t) x([-1, 1], t) x([-1, -1], t)]\n",
    "    midpnt = x([0, 0], t)\n",
    "    plot(m[1,:][:], m[2,:][:], \"-o\", label=\"t=$t\")\n",
    "    #plot(midpnt[1], midpnt[2], \"ko\")\n",
    "end\n",
    "legend()\n",
    "axis(\"equal\")"
   ]
  },
  {
   "cell_type": "markdown",
   "metadata": {},
   "source": [
    "To interpolate field $X$ using basis $h$:"
   ]
  },
  {
   "cell_type": "code",
   "execution_count": 16,
   "metadata": {
    "collapsed": false
   },
   "outputs": [
    {
     "data": {
      "text/plain": [
       "2-element Array{Float64,1}:\n",
       " 0.5\n",
       " 0.5"
      ]
     },
     "execution_count": 16,
     "metadata": {},
     "output_type": "execute_result"
    }
   ],
   "source": [
    "(h*X)([0.0, 0.0])"
   ]
  },
  {
   "cell_type": "markdown",
   "metadata": {},
   "source": [
    "or"
   ]
  },
  {
   "cell_type": "code",
   "execution_count": 17,
   "metadata": {
    "collapsed": false
   },
   "outputs": [
    {
     "data": {
      "text/plain": [
       "2-element Array{Float64,1}:\n",
       " 0.5\n",
       " 0.5"
      ]
     },
     "execution_count": 17,
     "metadata": {},
     "output_type": "execute_result"
    }
   ],
   "source": [
    "h([0.0, 0.0])*X"
   ]
  },
  {
   "cell_type": "markdown",
   "metadata": {},
   "source": [
    "To interpolate derivatives of field $X$ using basis $h$:"
   ]
  },
  {
   "cell_type": "code",
   "execution_count": 18,
   "metadata": {
    "collapsed": false
   },
   "outputs": [
    {
     "data": {
      "text/plain": [
       "2x2 Array{Float64,2}:\n",
       " 0.5  0.0\n",
       " 0.0  0.5"
      ]
     },
     "execution_count": 18,
     "metadata": {},
     "output_type": "execute_result"
    }
   ],
   "source": [
    "(∂(h)*X)([0.0, 0.0])  # ∂(⋅) is equivalent to diff(⋅) and derivative(⋅)"
   ]
  },
  {
   "cell_type": "markdown",
   "metadata": {},
   "source": [
    "or"
   ]
  },
  {
   "cell_type": "code",
   "execution_count": 19,
   "metadata": {
    "collapsed": false
   },
   "outputs": [
    {
     "data": {
      "text/plain": [
       "2x2 Array{Float64,2}:\n",
       " 0.5  0.0\n",
       " 0.0  0.5"
      ]
     },
     "execution_count": 19,
     "metadata": {},
     "output_type": "execute_result"
    }
   ],
   "source": [
    "∂(h)([0.0, 0.0])*X"
   ]
  }
 ],
 "metadata": {
  "kernelspec": {
   "display_name": "Julia 0.5.0-dev",
   "language": "julia",
   "name": "julia-0.5"
  },
  "language_info": {
   "name": "julia",
   "version": "0.5.0"
  }
 },
 "nbformat": 4,
 "nbformat_minor": 0
}
