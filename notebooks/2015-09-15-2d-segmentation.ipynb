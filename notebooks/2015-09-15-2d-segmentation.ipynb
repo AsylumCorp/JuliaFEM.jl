{
 "cells": [
  {
   "cell_type": "markdown",
   "metadata": {},
   "source": [
    "# Contact segmentation in 2d\n",
    "\n",
    "Author(s): Jukka Aho\n",
    "\n",
    "**Abstract**: Contact segmentation in 2d"
   ]
  },
  {
   "cell_type": "code",
   "execution_count": 1,
   "metadata": {
    "collapsed": false
   },
   "outputs": [
    {
     "name": "stderr",
     "output_type": "stream",
     "text": [
      "WARNING: could not import Base.help into PyCall\n"
     ]
    }
   ],
   "source": [
    "using JuliaFEM: PSeg, get_field, set_field, interpolate, new_field!, push_field!\n",
    "using JuliaFEM: calculate_normals!, average_normals!, fit_derivative_field!\n",
    "using JuliaFEM: set_degree, get_number_of_basis_functions, dinterpolate\n",
    "using PyPlot"
   ]
  },
  {
   "cell_type": "markdown",
   "metadata": {},
   "source": [
    "Create some test boundaries"
   ]
  },
  {
   "cell_type": "code",
   "execution_count": 2,
   "metadata": {
    "collapsed": false
   },
   "outputs": [],
   "source": [
    "srand(42)\n",
    "\n",
    "nsl = 5\n",
    "nm = 5\n",
    "\n",
    "x1 = linspace(0, 3, nsl) + rand(nsl)*0.1\n",
    "y1 = 0.5*rand(nsl)\n",
    "x2 = linspace(0, 3, nm) + rand(nm)*0.1 + 0.4\n",
    "y2 = 0.5*rand(nm) + 0.5\n",
    "\n",
    "function create_elements(X, sid=0)\n",
    "    Γ = []\n",
    "    nnodes = size(X, 2)\n",
    "    nelements = nnodes-1\n",
    "    for i=1:nelements\n",
    "        con = sid+[i, i+1]\n",
    "        el = PSeg(con)\n",
    "        set_field(el, :Geometry, Vector[X[:, i], X[:, i+1]])\n",
    "        push!(Γ, el)\n",
    "    end\n",
    "    return Γ\n",
    "end\n",
    "Γ₁ = create_elements([x1 y1]', 0)\n",
    "Γ₂ = create_elements([x2 y2]', nsl);\n",
    "\n",
    "# calculate and average normals like se did in last notebook\n",
    "for el in [Γ₁; Γ₂]\n",
    "    calculate_normals!(el)\n",
    "end\n",
    "average_normals!(Γ₁)\n",
    "average_normals!(Γ₂)"
   ]
  },
  {
   "cell_type": "code",
   "execution_count": 3,
   "metadata": {
    "collapsed": false
   },
   "outputs": [
    {
     "data": {
      "text/plain": [
       "calc_projection (generic function with 1 method)"
      ]
     },
     "execution_count": 3,
     "metadata": {},
     "output_type": "execute_result"
    }
   ],
   "source": [
    "\"\"\" Find projection from slave nodes to master element. \"\"\"\n",
    "function calc_projection_slave_nodes_to_master_element(sel, mel)\n",
    "    X1 = get_field(sel, :Geometry)\n",
    "    N1 = get_field(sel, :Normals)\n",
    "    X2(xi) = interpolate(mel, :Geometry, xi)\n",
    "    dX2(xi) = dinterpolate(mel, :Geometry, xi)\n",
    "    R(xi, k) = det([X2(xi) - X1[k] N1[k]]')\n",
    "    dR(xi, k) = det([dX2(xi) N1[k]]')\n",
    "    xi2 = Vector[[0.0], [0.0]]\n",
    "    for k=1:2\n",
    "        xi = xi2[k]\n",
    "        for i=1:3\n",
    "            dxi = -R(xi, k)/dR(xi, k)\n",
    "            xi += dxi\n",
    "            if abs(dxi) < 1.0e-9\n",
    "                break\n",
    "            end\n",
    "        end\n",
    "        xi2[k] = xi\n",
    "    end\n",
    "    clamp!(xi2, -1, 1)\n",
    "    return xi2\n",
    "end\n",
    "\n",
    "\"\"\" Find projection from master nodes to slave element. \"\"\"\n",
    "function calc_projection_master_nodes_to_slave_element(sel, mel)\n",
    "    X1(xi) = interpolate(sel, :Geometry, xi)\n",
    "    dX1(xi) = dinterpolate(sel, :Geometry, xi)\n",
    "    N1(xi) = interpolate(sel, :Normals, xi)\n",
    "    dN1(xi) = dinterpolate(sel, :Normals, xi)\n",
    "    X2 = get_field(mel, :Geometry)\n",
    "    R(xi, k) = det([X1(xi) - X2[k] N1(xi)]')\n",
    "    dR(xi, k) = det([dX1(xi) N1(xi)]') + det([X1(xi) - X2[k] dN1(xi)]')\n",
    "    xi1 = Vector[[0.0], [0.0]]\n",
    "    for k=1:2\n",
    "        xi = xi1[k]\n",
    "        for i=1:3\n",
    "            dxi = -R(xi, k)/dR(xi, k)\n",
    "            xi += dxi\n",
    "            if abs(dxi) < 1.0e-9\n",
    "                break\n",
    "            end\n",
    "        end\n",
    "        xi1[k] = xi\n",
    "    end\n",
    "    clamp!(xi1, -1, 1)\n",
    "    return xi1\n",
    "end\n",
    "\n",
    "function has_projection(sel, mel)\n",
    "    xi1 = calc_projection_master_nodes_to_slave_element(sel, mel)\n",
    "    l = abs(xi1[2]-xi1[1])[1]\n",
    "    return l > 1.0e-9\n",
    "end\n",
    "\n",
    "function calc_projection(sel, mel)\n",
    "    xi1 = calc_projection_master_nodes_to_slave_element(sel, mel)\n",
    "    xi2 = calc_projection_slave_nodes_to_master_element(sel, mel)\n",
    "    return xi1, xi2\n",
    "end"
   ]
  },
  {
   "cell_type": "markdown",
   "metadata": {},
   "source": [
    "Visualize results"
   ]
  },
  {
   "cell_type": "code",
   "execution_count": 4,
   "metadata": {
    "collapsed": false
   },
   "outputs": [
    {
     "data": {
      "image/png": "[encoded data removed]",
      "text/plain": [
       "PyPlot.Figure(PyObject <matplotlib.figure.Figure object at 0x7ff990859e10>)"
      ]
     },
     "metadata": {},
     "output_type": "display_data"
    },
    {
     "data": {
      "text/plain": [
       "(-0.5,4.0)"
      ]
     },
     "execution_count": 4,
     "metadata": {},
     "output_type": "execute_result"
    }
   ],
   "source": [
    "function plot_element(el; plot_with_normal=false)\n",
    "    # create a array of vectors\n",
    "    xis = Vector[[xi] for xi in linspace(-1, 1)]\n",
    "    coords = interpolate(el, :Geometry, xis)\n",
    "    normals = interpolate(el, :Normals, Vector[[-1.0], [1.0]])\n",
    "    ncoords = interpolate(el, :Geometry, Vector[[-1.0], [1.0]])\n",
    "    xs = [X[1] for X in coords]\n",
    "    ys = [X[2] for X in coords]\n",
    "    plot(xs, ys, \"-\")\n",
    "    plot([xs[1], xs[end]], [ys[1], ys[end]], \"ko\")\n",
    "    plot([xs[1], xs[end]], [ys[1], ys[end]], \"ko\")\n",
    "    if plot_with_normal\n",
    "        for i=1:2\n",
    "            p0 = ncoords[i]\n",
    "            p1 = ncoords[i]+0.1*normals[i]\n",
    "            plot([p0[1], p1[1]], [p0[2], p1[2]], \"-k\")\n",
    "        end\n",
    "    end\n",
    "end\n",
    "\n",
    "function plot_all()\n",
    "    figure(figsize=(10, 3))\n",
    "    for el in Γ₁\n",
    "        plot_element(el; plot_with_normal=true)\n",
    "    end\n",
    "    for el in Γ₂\n",
    "        plot_element(el; plot_with_normal=false)\n",
    "    end\n",
    "    for sel in Γ₁\n",
    "        for mel in Γ₂\n",
    "            if has_projection(sel, mel)\n",
    "                xi1, xi2 = calc_projection(sel, mel)\n",
    "                X1 = interpolate(sel, :Geometry, xi1)\n",
    "                X2 = interpolate(mel, :Geometry, xi2)\n",
    "                #println(\"$X1\\n\\n$X2\")\n",
    "                for s=1:2\n",
    "                    plot([X1[s][1], X2[s][1]], [X1[s][2], X2[s][2]], \"-kx\")\n",
    "                end\n",
    "            end\n",
    "        end\n",
    "    end\n",
    "    axis(\"equal\")\n",
    "    axis(\"off\")\n",
    "    ylim(-0.0, 0.5)\n",
    "    xlim(-0.5, 4.0)\n",
    "end\n",
    "\n",
    "plot_all()"
   ]
  },
  {
   "cell_type": "markdown",
   "metadata": {},
   "source": [
    "A little experience, raise the degree of elements, smooth geometry, and test projection for 2nd order:"
   ]
  },
  {
   "cell_type": "code",
   "execution_count": 5,
   "metadata": {
    "collapsed": false
   },
   "outputs": [
    {
     "data": {
      "image/png": "[encoded data removed]",
      "text/plain": [
       "PyPlot.Figure(PyObject <matplotlib.figure.Figure object at 0x7ff978c90cd0>)"
      ]
     },
     "metadata": {},
     "output_type": "display_data"
    },
    {
     "data": {
      "text/plain": [
       "(-0.5,4.0)"
      ]
     },
     "execution_count": 5,
     "metadata": {},
     "output_type": "execute_result"
    }
   ],
   "source": [
    "# to raise degree of elements and smooth geometry\n",
    "function tangent(el, xi)\n",
    "    normal = interpolate(el, :Normals, xi)\n",
    "    [0 -1; 1 0]'*normal\n",
    "end\n",
    "for el in [Γ₁; Γ₂]\n",
    "    set_degree(el, 2)\n",
    "    for field in (:Geometry, :Normals)\n",
    "        push!(el.fields[field], [0.0, 0.0])\n",
    "        el.fields[field] = el.fields[field][1:get_number_of_basis_functions(el)]\n",
    "    end\n",
    "end\n",
    "for el in [Γ₁; Γ₂]\n",
    "    fit_derivative_field!(el, :Geometry, tangent, Int[1, 2])\n",
    "end\n",
    "plot_all()"
   ]
  }
 ],
 "metadata": {
  "kernelspec": {
   "display_name": "Julia 0.5.0-dev",
   "language": "julia",
   "name": "julia-0.5"
  },
  "language_info": {
   "name": "julia",
   "version": "0.5.0"
  }
 },
 "nbformat": 4,
 "nbformat_minor": 0
}
