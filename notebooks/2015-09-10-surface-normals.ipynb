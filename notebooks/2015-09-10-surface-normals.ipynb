{
 "cells": [
  {
   "cell_type": "markdown",
   "metadata": {},
   "source": [
    "# Surface normals\n",
    "\n",
    "Author(s): Jukka Aho\n",
    "\n",
    "**Abstract**: Testing different strategies to calculate surface normals. These are important when calculating mortar projections."
   ]
  },
  {
   "cell_type": "code",
   "execution_count": 1,
   "metadata": {
    "collapsed": false
   },
   "outputs": [],
   "source": [
    "using JuliaFEM"
   ]
  },
  {
   "cell_type": "code",
   "execution_count": 2,
   "metadata": {
    "collapsed": false
   },
   "outputs": [
    {
     "name": "stderr",
     "output_type": "stream",
     "text": [
      "WARNING: could not import Base.help into PyCall\n"
     ]
    }
   ],
   "source": [
    "using PyPlot"
   ]
  },
  {
   "cell_type": "code",
   "execution_count": 3,
   "metadata": {
    "collapsed": false
   },
   "outputs": [
    {
     "data": {
      "text/plain": [
       "3-element Array{Any,1}:\n",
       " JuliaFEM.PSeg([1,2],Dict{Any,Any}(:geometry=>Array{T,1}[[-10.0,1.2246467991473533e-15],[-4.999999999999998,8.660254037844387]]),1)       \n",
       " JuliaFEM.PSeg([2,3],Dict{Any,Any}(:geometry=>Array{T,1}[[-4.999999999999998,8.660254037844387],[5.000000000000001,8.660254037844386]]),1)\n",
       " JuliaFEM.PSeg([3,4],Dict{Any,Any}(:geometry=>Array{T,1}[[5.000000000000001,8.660254037844386],[10.0,0.0]]),1)                            "
      ]
     },
     "execution_count": 3,
     "metadata": {},
     "output_type": "execute_result"
    }
   ],
   "source": [
    "phi = linspace(pi, 0, 4)\n",
    "nelements = length(phi)-1\n",
    "nnodes = length(phi)\n",
    "elements = []\n",
    "R = 10.0\n",
    "for i=1:nelements\n",
    "    con = [i, mod(i, nnodes)+1]\n",
    "    seg = JuliaFEM.PSeg(con)\n",
    "    # create vector field :geometry for elements\n",
    "    pnts = Vector[]\n",
    "    for deg in phi[con]\n",
    "        X = R*[cos(deg), sin(deg)]\n",
    "        push!(pnts, X)\n",
    "    end\n",
    "    JuliaFEM.set_field(seg, :geometry, pnts)\n",
    "    push!(elements, seg)\n",
    "end\n",
    "elements"
   ]
  },
  {
   "cell_type": "code",
   "execution_count": 4,
   "metadata": {
    "collapsed": false
   },
   "outputs": [
    {
     "data": {
      "text/plain": [
       "3-element Array{Any,1}:\n",
       " JuliaFEM.PSeg([1,2],Dict{Any,Any}(:geometry=>Array{T,1}[[-10.0,1.2246467991473533e-15],[-4.999999999999998,8.660254037844387]],:normals=>Array{T,1}[[-0.8660254037844386,0.5000000000000002],[-0.8660254037844386,0.5000000000000002]]),1)\n",
       " JuliaFEM.PSeg([2,3],Dict{Any,Any}(:geometry=>Array{T,1}[[-4.999999999999998,8.660254037844387],[5.000000000000001,8.660254037844386]],:normals=>Array{T,1}[[1.7763568394002506e-16,1.0],[1.7763568394002506e-16,1.0]]),1)                 \n",
       " JuliaFEM.PSeg([3,4],Dict{Any,Any}(:geometry=>Array{T,1}[[5.000000000000001,8.660254037844386],[10.0,0.0]],:normals=>Array{T,1}[[0.8660254037844387,0.5],[0.8660254037844387,0.5]]),1)                                                     "
      ]
     },
     "execution_count": 4,
     "metadata": {},
     "output_type": "execute_result"
    }
   ],
   "source": [
    "# calculate \"local\" normals in elements, in a way that\n",
    "# n = Nᵢnᵢ gives some reasonable results for ξ ∈ [-1, 1]\n",
    "\n",
    "for el in elements\n",
    "    nfld = Vector[]\n",
    "    for xi in Vector[[-1.0], [1.0]]\n",
    "        t = JuliaFEM.dinterpolate(el, :geometry, xi)\n",
    "        n = [0 -1; 1 0]*t\n",
    "        n /= norm(n)\n",
    "        push!(nfld, n)\n",
    "    end\n",
    "    JuliaFEM.set_field(el, :normals, nfld)\n",
    "end\n",
    "elements"
   ]
  },
  {
   "cell_type": "code",
   "execution_count": 5,
   "metadata": {
    "collapsed": false
   },
   "outputs": [
    {
     "data": {
      "image/png": "[encoded data removed]",
      "text/plain": [
       "PyPlot.Figure(PyObject <matplotlib.figure.Figure object at 0x7f54f11dbe50>)"
      ]
     },
     "metadata": {},
     "output_type": "display_data"
    },
    {
     "data": {
      "text/plain": [
       "1-element Array{Any,1}:\n",
       " PyObject <matplotlib.lines.Line2D object at 0x7f54db468110>"
      ]
     },
     "execution_count": 5,
     "metadata": {},
     "output_type": "execute_result"
    }
   ],
   "source": [
    "function plot_stuff(elements)\n",
    "    phi2 = linspace(0, pi, 100)\n",
    "    phi3 = linspace(0, pi, 10)\n",
    "    phi4 = linspace(0, pi, 4)\n",
    "    figure(figsize=(4, 2))\n",
    "    plot(R*cos(phi2), R*sin(phi2))\n",
    "    for fi in phi3\n",
    "        p0 = R*[cos(fi), sin(fi)]\n",
    "        p1 = (R+3)*[cos(fi), sin(fi)]\n",
    "        plot([p0[1], p1[1]], [p0[2], p1[2]], \"-b\")\n",
    "    end\n",
    "    axis(\"equal\")\n",
    "    xlim(-1.5*R, 1.5*R)\n",
    "    ylim(-0.5*R, 1.5*R)\n",
    "\n",
    "    # create a array of vectors\n",
    "    xis = Vector[[xi] for xi in linspace(-1, 1)]\n",
    "    for el in elements\n",
    "        coords = JuliaFEM.interpolate(el, :geometry, xis)\n",
    "        # extract 1 and 2 components from array of coordinates\n",
    "        xs = [X[1] for X in coords]\n",
    "        ys = [X[2] for X in coords]\n",
    "        plot(xs, ys, \"-\")\n",
    "    end\n",
    "\n",
    "    xis = Vector[[xi] for xi in linspace(-1, 1, 4)]\n",
    "    for el in elements\n",
    "        coords = JuliaFEM.interpolate(el, :geometry, xis)\n",
    "        normals = JuliaFEM.interpolate(el, :normals, xis)\n",
    "        for i=1:length(normals)\n",
    "            p0 = coords[i]\n",
    "            p1 = coords[i] + normals[i]/norm(normals[i])*3\n",
    "            plot([p0[1], p1[1]], [p0[2], p1[2]], \"-k\")\n",
    "        end\n",
    "    end\n",
    "    plot(R*cos(phi4), R*sin(phi4), \"ko\")\n",
    "end\n",
    "\n",
    "plot_stuff(elements)"
   ]
  },
  {
   "cell_type": "markdown",
   "metadata": {},
   "source": [
    "Blue lines \"accurate\" normal direction, other lines are approximations."
   ]
  },
  {
   "cell_type": "markdown",
   "metadata": {},
   "source": [
    "**Strategy 1**: average normals of adjacent elements in common nodes, maybe by weighting it with areas / lenghts ..."
   ]
  },
  {
   "cell_type": "code",
   "execution_count": 6,
   "metadata": {
    "collapsed": false
   },
   "outputs": [],
   "source": [
    "using JuliaFEM: get_connectivity, get_field, set_field"
   ]
  },
  {
   "cell_type": "code",
   "execution_count": 7,
   "metadata": {
    "collapsed": false
   },
   "outputs": [],
   "source": [
    "\"\"\"\n",
    "Alter normal field such that normals of adjacent elements are averaged.\n",
    "\"\"\"\n",
    "function average_normals(elements, normal_field=:normals)\n",
    "    d = Dict()\n",
    "    for el in elements\n",
    "        c = get_connectivity(el)\n",
    "        n = get_field(el, normal_field)\n",
    "        for (ci, ni) in zip(c, n)\n",
    "            d[ci] = haskey(d, ci) ? d[ci] + ni : ni\n",
    "        end\n",
    "    end\n",
    "    for (ci, ni) in d\n",
    "        d[ci] /= norm(d[ci])\n",
    "    end\n",
    "    for el in elements\n",
    "        c = get_connectivity(el)\n",
    "        new_normals = [d[ci] for ci in c]\n",
    "        set_field(el, normal_field, new_normals)\n",
    "    end\n",
    "end\n",
    "average_normals(elements)"
   ]
  },
  {
   "cell_type": "code",
   "execution_count": 8,
   "metadata": {
    "collapsed": false
   },
   "outputs": [
    {
     "data": {
      "image/png": "[encoded data removed]",
      "text/plain": [
       "PyPlot.Figure(PyObject <matplotlib.figure.Figure object at 0x7f54db506bd0>)"
      ]
     },
     "metadata": {},
     "output_type": "display_data"
    },
    {
     "data": {
      "text/plain": [
       "1-element Array{Any,1}:\n",
       " PyObject <matplotlib.lines.Line2D object at 0x7f54db2c27d0>"
      ]
     },
     "execution_count": 8,
     "metadata": {},
     "output_type": "execute_result"
    }
   ],
   "source": [
    "plot_stuff(elements)"
   ]
  },
  {
   "cell_type": "markdown",
   "metadata": {},
   "source": [
    "**Strategy 2**: Fit field. Here we define normal function and fit field for that."
   ]
  },
  {
   "cell_type": "code",
   "execution_count": 9,
   "metadata": {
    "collapsed": false
   },
   "outputs": [
    {
     "data": {
      "text/plain": [
       "fit_field! (generic function with 2 methods)"
      ]
     },
     "execution_count": 9,
     "metadata": {},
     "output_type": "execute_result"
    }
   ],
   "source": [
    "using JuliaFEM: Element, get_number_of_basis_functions, get_detJ, get_basis\n",
    "\n",
    "\"\"\"\n",
    "Fit field s.t. || ∫ (Nᵢ(ξ)αᵢ - f(el, ξ)) dS || -> min!\n",
    "\"\"\"\n",
    "function fit_field!(el::Element, field, f, fixed_coeffs=Int[])\n",
    "    w = [\n",
    "        128/225,\n",
    "        (332+13*sqrt(70))/900,\n",
    "        (332+13*sqrt(70))/900,\n",
    "        (332-13*sqrt(70))/900,\n",
    "        (332-13*sqrt(70))/900]\n",
    "    xi = Vector[\n",
    "        [0.0],\n",
    "        [ 1/3*sqrt(5 - 2*sqrt(10/7))],\n",
    "        [-1/3*sqrt(5 - 2*sqrt(10/7))], \n",
    "        [ 1/3*sqrt(5 + 2*sqrt(10/7))],\n",
    "        [-1/3*sqrt(5 + 2*sqrt(10/7))]]\n",
    "    n = get_number_of_basis_functions(el)\n",
    "    fld = get_field(el, field)\n",
    "    nfld = length(fld[1])\n",
    "    #Logging.debug(\"dim of field $field: $nfld\")\n",
    "\n",
    "    M = zeros(n, n)\n",
    "    b = zeros(n, nfld)\n",
    "    for i=1:length(w)\n",
    "        detJ = get_detJ(el, xi[i])\n",
    "        N = get_basis(el, xi[i])\n",
    "        M += w[i]*N*N'*detJ\n",
    "        fi = f(el, xi[i])\n",
    "        for j=1:nfld\n",
    "            b[:, j] += w[i]*N*fi[j]*detJ\n",
    "        end\n",
    "    end\n",
    "\n",
    "    coeffs = zeros(n)\n",
    "    for j=1:nfld\n",
    "        for k=1:n\n",
    "            coeffs[k] = fld[k][j]\n",
    "        end\n",
    "        if length(fixed_coeffs) != 0\n",
    "            # constrained problem, some coefficients are fixed\n",
    "            N = Int[] # rest of coeffs\n",
    "            S = Int[] # fixed coeffs\n",
    "            for i = 1:n\n",
    "                if i in fixed_coeffs\n",
    "                    push!(S, i)\n",
    "                else\n",
    "                    push!(N, i)\n",
    "                end\n",
    "            end\n",
    "            lhs = M[N,N]\n",
    "            rhs = b[N,j] - M[N,S]*coeffs[S]\n",
    "            coeffs[N] = lhs \\ rhs\n",
    "        else\n",
    "            coeffs[:] = M \\ b[:,j]\n",
    "        end\n",
    "        for k=1:n\n",
    "            fld[k][j] = coeffs[k]\n",
    "        end\n",
    "    end\n",
    "    set_field(el, field, fld)\n",
    "    return\n",
    "end"
   ]
  },
  {
   "cell_type": "code",
   "execution_count": 10,
   "metadata": {
    "collapsed": false
   },
   "outputs": [
    {
     "data": {
      "text/plain": [
       "2-element Array{Float64,1}:\n",
       " -0.866025\n",
       "  0.5     "
      ]
     },
     "execution_count": 10,
     "metadata": {},
     "output_type": "execute_result"
    }
   ],
   "source": [
    "using JuliaFEM: interpolate\n",
    "using ForwardDiff\n",
    "\n",
    "\"\"\"\n",
    "Return accurate normal for element based on a geometry.\n",
    "\"\"\"\n",
    "function f(el, xi)\n",
    "    geom_info(X) = X[1]^2 + X[2]^2 - 10^2\n",
    "    X = interpolate(el, :geometry, xi)\n",
    "    n = ForwardDiff.gradient(geom_info, X)\n",
    "    n / norm(n)\n",
    "end\n",
    "\n",
    "#fit_field(elements[1], :normals, f)\n",
    "f(elements[1], [0.0])"
   ]
  },
  {
   "cell_type": "code",
   "execution_count": 11,
   "metadata": {
    "collapsed": false
   },
   "outputs": [],
   "source": [
    "for el in elements\n",
    "    fit_field!(el, :normals, f)\n",
    "end"
   ]
  },
  {
   "cell_type": "code",
   "execution_count": 12,
   "metadata": {
    "collapsed": false
   },
   "outputs": [
    {
     "data": {
      "image/png": "[encoded data removed]",
      "text/plain": [
       "PyPlot.Figure(PyObject <matplotlib.figure.Figure object at 0x7f54db5e6ed0>)"
      ]
     },
     "metadata": {},
     "output_type": "display_data"
    },
    {
     "data": {
      "text/plain": [
       "1-element Array{Any,1}:\n",
       " PyObject <matplotlib.lines.Line2D object at 0x7f54db2e7910>"
      ]
     },
     "execution_count": 12,
     "metadata": {},
     "output_type": "execute_result"
    }
   ],
   "source": [
    "plot_stuff(elements)"
   ]
  },
  {
   "cell_type": "markdown",
   "metadata": {},
   "source": [
    "Normal direction fitted in least squares sense. Why not also fit geometry based on normal direction information?"
   ]
  },
  {
   "cell_type": "code",
   "execution_count": 13,
   "metadata": {
    "collapsed": false
   },
   "outputs": [],
   "source": [
    "using JuliaFEM: set_degree, get_number_of_basis_functions, dinterpolate\n",
    "for el in elements\n",
    "    set_degree(el, 2)\n",
    "    for field in (:geometry, :normals)\n",
    "        push!(el.fields[field], [0.0, 0.0])\n",
    "        el.fields[field] = el.fields[field][1:get_number_of_basis_functions(el)]\n",
    "    end\n",
    "end"
   ]
  },
  {
   "cell_type": "code",
   "execution_count": 14,
   "metadata": {
    "collapsed": false
   },
   "outputs": [
    {
     "data": {
      "text/plain": [
       "fit_derivative_field! (generic function with 2 methods)"
      ]
     },
     "execution_count": 14,
     "metadata": {},
     "output_type": "execute_result"
    }
   ],
   "source": [
    "using JuliaFEM: get_dbasisdxi\n",
    "\n",
    "\"\"\"\n",
    "Fit field s.t. || ∫ d/dξ(∑ᵢNᵢ(ξ)αᵢ - f(el, ξ)) dS || -> min!\n",
    "\"\"\"\n",
    "function fit_derivative_field!(el::Element, field, f, fixed_coeffs=Int[])\n",
    "    w = [\n",
    "        128/225,\n",
    "        (332+13*sqrt(70))/900,\n",
    "        (332+13*sqrt(70))/900,\n",
    "        (332-13*sqrt(70))/900,\n",
    "        (332-13*sqrt(70))/900]\n",
    "    xi = Vector[\n",
    "        [0.0],\n",
    "        [ 1/3*sqrt(5 - 2*sqrt(10/7))],\n",
    "        [-1/3*sqrt(5 - 2*sqrt(10/7))], \n",
    "        [ 1/3*sqrt(5 + 2*sqrt(10/7))],\n",
    "        [-1/3*sqrt(5 + 2*sqrt(10/7))]]\n",
    "    n = get_number_of_basis_functions(el)\n",
    "    fld = get_field(el, field)\n",
    "    nfld = length(fld[1])\n",
    "    #Logging.debug(\"dim of field $field: $nfld\")\n",
    "\n",
    "    M = zeros(n, n)\n",
    "    b = zeros(n, nfld)\n",
    "    for i=1:length(w)\n",
    "        detJ = get_detJ(el, xi[i])\n",
    "        dN = get_dbasisdxi(el, xi[i])\n",
    "        N = get_basis(el, xi[i])\n",
    "        M += w[i]*dN*dN'*detJ\n",
    "        fi = f(el, xi[i])\n",
    "        for j=1:nfld\n",
    "            b[:, j] += w[i]*dN*fi[j]*detJ\n",
    "        end\n",
    "    end\n",
    "\n",
    "    coeffs = zeros(n)\n",
    "    for j=1:nfld\n",
    "        for k=1:n\n",
    "            coeffs[k] = fld[k][j]\n",
    "        end\n",
    "        if length(fixed_coeffs) != 0\n",
    "            println(\"constrained problem, some coefficients are fixed\")\n",
    "            N = Int[] # rest of coeffs\n",
    "            S = Int[] # fixed coeffs\n",
    "            for i = 1:n\n",
    "                if i in fixed_coeffs\n",
    "                    push!(S, i)\n",
    "                else\n",
    "                    push!(N, i)\n",
    "                end\n",
    "            end\n",
    "            lhs = M[N,N]\n",
    "            rhs = b[N,j] - M[N,S]*coeffs[S]\n",
    "            coeffs[N] = lhs \\ rhs\n",
    "        else\n",
    "            coeffs[:] = M \\ b[:,j]\n",
    "        end\n",
    "        for k=1:n\n",
    "            fld[k][j] = coeffs[k]\n",
    "        end\n",
    "    end\n",
    "    set_field(el, field, fld)\n",
    "    return\n",
    "end"
   ]
  },
  {
   "cell_type": "code",
   "execution_count": 15,
   "metadata": {
    "collapsed": false
   },
   "outputs": [
    {
     "name": "stdout",
     "output_type": "stream",
     "text": [
      "constrained problem, some coefficients are fixed\n",
      "constrained problem, some coefficients are fixed\n"
     ]
    }
   ],
   "source": [
    "\"\"\"\n",
    "Return tangent vector of elmeent in point ξ.\n",
    "\"\"\"\n",
    "function tangent(el, xi)\n",
    "    normal = JuliaFEM.interpolate(el, :normals, xi)\n",
    "    [0 -1; 1 0]'*normal*5\n",
    "end\n",
    "\n",
    "fit_derivative_field!(elements[1], :geometry, tangent, Int[1, 2])"
   ]
  },
  {
   "cell_type": "code",
   "execution_count": 16,
   "metadata": {
    "collapsed": false
   },
   "outputs": [
    {
     "data": {
      "image/png": "[encoded data removed]",
      "text/plain": [
       "PyPlot.Figure(PyObject <matplotlib.figure.Figure object at 0x7f54db42d250>)"
      ]
     },
     "metadata": {},
     "output_type": "display_data"
    },
    {
     "data": {
      "text/plain": [
       "1-element Array{Any,1}:\n",
       " PyObject <matplotlib.lines.Line2D object at 0x7f54db3cf210>"
      ]
     },
     "execution_count": 16,
     "metadata": {},
     "output_type": "execute_result"
    }
   ],
   "source": [
    "plot_stuff(elements)"
   ]
  }
 ],
 "metadata": {
  "kernelspec": {
   "display_name": "Julia 0.5.0-dev",
   "language": "julia",
   "name": "julia-0.5"
  },
  "language_info": {
   "name": "julia",
   "version": "0.5.0"
  }
 },
 "nbformat": 4,
 "nbformat_minor": 0
}
