{
 "cells": [
  {
   "cell_type": "markdown",
   "metadata": {},
   "source": [
    "#Automatic differentiation\n",
    "\n",
    "Author(s): [Jukka Aho](<jukka.aho@kapsi.fi>)\n",
    "\n",
    "https://github.com/ovainola/JuliaFEM/issues/14\n",
    "\n",
    "Some tests considering automatic differentiation. Basic question is: *how much do we lose on computation time using automatic differentiation compared to the analytical tangent stiffness matrix*?\n",
    "\n",
    "It is already known that evaluation of Jacobian takes $n$ function calls, where $n$ is number of unknown parameters. Analytical solution takes only one call, but the function is more cumbersome and needs more cpu time. In linear 2d quadrangle case I assume that we need 8 calls per element. We can expect that autodiffed stiffness matrix evaluation is a bit slower, but interesting question is that are these two strategies even in same decade. FENiCS uses automatic differentiation succesfully so in principle it should work.\n",
    "\n",
    "**TODO**\n",
    "\n",
    "- Evaluate 10000 tangent stiffness matrices analytically (nonlinear_stiffness) and 10000 stiffness matrices using automatic differentiation (Kt).\n",
    "- @time it.\n",
    "- Check that analytical and automatically differentiated matrices match, they should be 1:1.\n",
    "- Optimize tangent stiffness matrix code for both cases\n",
    "\n",
    "ForwardDiff is not behaving nicely (or at least I cannot debug it), so we need to try DualNumbers directly. "
   ]
  },
  {
   "cell_type": "code",
   "execution_count": 1,
   "metadata": {
    "collapsed": false
   },
   "outputs": [
    {
     "name": "stderr",
     "output_type": "stream",
     "text": [
      "INFO: Loading help data...\n"
     ]
    }
   ],
   "source": [
    "using DualNumbers\n",
    "using PyPlot"
   ]
  },
  {
   "cell_type": "markdown",
   "metadata": {},
   "source": [
    "## Example: solving scalar equation"
   ]
  },
  {
   "cell_type": "markdown",
   "metadata": {},
   "source": [
    "Find root for $f(x) = -2 + x + x^2$. Roots are $\\{-2, 1\\}$."
   ]
  },
  {
   "cell_type": "code",
   "execution_count": 2,
   "metadata": {
    "collapsed": false
   },
   "outputs": [
    {
     "data": {
      "image/png": "[encoded data removed]",
      "text/plain": [
       "Figure(PyObject <matplotlib.figure.Figure object at 0x7fc1bf3b3550>)"
      ]
     },
     "metadata": {},
     "output_type": "display_data"
    }
   ],
   "source": [
    "x = linspace(-5, 5)\n",
    "f(x) = -2 + x + x.^2\n",
    "plot(x, f(x), \"-k\")\n",
    "grid()"
   ]
  },
  {
   "cell_type": "code",
   "execution_count": 3,
   "metadata": {
    "collapsed": false
   },
   "outputs": [
    {
     "name": "stdout",
     "output_type": "stream",
     "text": [
      "2.0 -2.0\n",
      "1.2 0.8\n",
      "1.011764705882353 0.18823529411764703\n",
      "1.00004577706569 0.011718928816662783\n",
      "1.000000000698492 4.577636719815749e-5\n",
      "1.0 6.984919306363482e-10\n",
      "1.0 0.0\n",
      "1.0 0.0\n",
      "1.0 0.0\n",
      "1.0 0.0\n"
     ]
    }
   ],
   "source": [
    "x = 0\n",
    "for i = 1:10\n",
    "    e = f(dual(x, 1)) # here we evaluate function f using dual number\n",
    "    dx = real(e)/epsilon(e) # calculate dx and perform newton iteration\n",
    "    x -= dx\n",
    "    println(x, \" \", dx)\n",
    "end"
   ]
  },
  {
   "cell_type": "markdown",
   "metadata": {},
   "source": [
    "Works like a charm. We get derivative and function evaluated at same time. Beautiful solution."
   ]
  },
  {
   "cell_type": "markdown",
   "metadata": {},
   "source": [
    "## Multidimensional functions"
   ]
  },
  {
   "cell_type": "markdown",
   "metadata": {},
   "source": [
    "From ForwardDiff example:"
   ]
  },
  {
   "cell_type": "code",
   "execution_count": 4,
   "metadata": {
    "collapsed": false
   },
   "outputs": [
    {
     "name": "stdout",
     "output_type": "stream",
     "text": [
      "Evaluated\n",
      "Evaluated\n"
     ]
    },
    {
     "data": {
      "text/plain": [
       "3x2 Array{Float64,2}:\n",
       "  4.2     1.0   \n",
       "  3.0     0.0   \n",
       " 14.175  29.7675"
      ]
     },
     "execution_count": 4,
     "metadata": {},
     "output_type": "execute_result"
    }
   ],
   "source": [
    "using ForwardDiff\n",
    "\n",
    "function f!(x, y)\n",
    "    println(\"Evaluated\")\n",
    "    y[1] = x[1]^2+x[2]\n",
    "    y[2] = 3*x[1]\n",
    "    y[3] = x[1]^2*x[2]^3\n",
    "end\n",
    "\n",
    "# Using forwarddiff_jacobian\n",
    "j = forwarddiff_jacobian(f!, Float64, fadtype=:dual, n=2, m=3)\n",
    "\n",
    "j([2.1, 1.5])"
   ]
  },
  {
   "cell_type": "code",
   "execution_count": 5,
   "metadata": {
    "collapsed": false
   },
   "outputs": [
    {
     "name": "stdout",
     "output_type": "stream",
     "text": [
      "Evaluated\n",
      "Evaluated\n"
     ]
    },
    {
     "data": {
      "text/plain": [
       "3x2 Array{Float64,2}:\n",
       "   6.0    1.0\n",
       "   3.0    0.0\n",
       " 384.0  432.0"
      ]
     },
     "execution_count": 5,
     "metadata": {},
     "output_type": "execute_result"
    }
   ],
   "source": [
    "j([3.0, 4.0])"
   ]
  },
  {
   "cell_type": "markdown",
   "metadata": {},
   "source": [
    " That is, we need $n=2$ evaluations to get Jacobian. Each time."
   ]
  },
  {
   "cell_type": "markdown",
   "metadata": {
    "collapsed": true
   },
   "source": [
    "# Comparisons"
   ]
  },
  {
   "cell_type": "code",
   "execution_count": 6,
   "metadata": {
    "collapsed": false
   },
   "outputs": [
    {
     "data": {
      "text/plain": [
       "3x3 Array{Float64,2}:\n",
       " 96.0  24.0   0.0\n",
       " 24.0  96.0   0.0\n",
       "  0.0   0.0  36.0"
      ]
     },
     "execution_count": 6,
     "metadata": {},
     "output_type": "execute_result"
    }
   ],
   "source": [
    "# Partial derivatives of bilinear Lagrange polynomials\n",
    "dNdξ(ξ) = [[-(1-ξ[2])/4.0    -(1-ξ[1])/4.0],\n",
    "           [ (1-ξ[2])/4.0    -(1+ξ[1])/4.0],\n",
    "           [ (1+ξ[2])/4.0     (1+ξ[1])/4.0],\n",
    "           [-(1+ξ[2])/4.0     (1-ξ[1])/4.0]]    \n",
    "\n",
    "E = 90\n",
    "ν = 0.25\n",
    "\n",
    "μ = E/(2*(1+ν))\n",
    "λ = E*ν/((1+ν)*(1-2*ν))\n",
    "λ = 2*λ*μ/(λ + 2*μ)\n",
    "\n",
    "δ = eye(2)\n",
    "C = zeros(2, 2, 2, 2)\n",
    "C_sym = zeros(size(C))\n",
    "\n",
    "for i=1:2\n",
    "    for j=1:2\n",
    "        for k=1:2\n",
    "            for l=1:2\n",
    "                C[i,j,k,l] = λ*δ[i,j]*δ[k,l] + μ*(δ[i,k]*δ[j,l] + δ[i,l]*δ[j,k]) \n",
    "            end\n",
    "        end\n",
    "    end\n",
    "end\n",
    "\n",
    "for i=1:2\n",
    "    for j=1:2\n",
    "        for k=1:2\n",
    "            for l=1:2\n",
    "                C_sym[i,k,j,l] = 1/4*(C[i,k,j,l] + C[i,k,l,j] + C[k,i,j,l] + C[k,i,l,j])\n",
    "            end\n",
    "        end\n",
    "    end\n",
    "end\n",
    "\n",
    "D = E/(1-ν^2)*[[1 ν 0], [ν 1 0], [0 0 (1-ν)/2]]"
   ]
  },
  {
   "cell_type": "code",
   "execution_count": 7,
   "metadata": {
    "collapsed": false
   },
   "outputs": [
    {
     "data": {
      "text/plain": [
       "1x4 Array{Int64,2}:\n",
       " 1  1  1  1"
      ]
     },
     "execution_count": 7,
     "metadata": {},
     "output_type": "execute_result"
    }
   ],
   "source": [
    "a = 1/sqrt(3)\n",
    "ipoints = [[-a -a], [a -a], [a a], [-a a]]\n",
    "iweights = [1 1 1 1]"
   ]
  },
  {
   "cell_type": "code",
   "execution_count": 8,
   "metadata": {
    "collapsed": false
   },
   "outputs": [
    {
     "data": {
      "text/plain": [
       "nonlinear_stiffness (generic function with 1 method)"
      ]
     },
     "execution_count": 8,
     "metadata": {},
     "output_type": "execute_result"
    }
   ],
   "source": [
    "function nonlinear_stiffness(X, u)\n",
    "    n_integration_points = length(iweights)\n",
    "    n_problem_dimension = 2\n",
    "    n_solution_dimension = 2\n",
    "    n_shape_functions = 4\n",
    "    n_dofs = n_solution_dimension*n_shape_functions\n",
    "    K2_L = zeros((n_dofs, n_dofs))\n",
    "    K2_NL = zeros((n_dofs, n_dofs))\n",
    "    T = zeros((n_solution_dimension, n_shape_functions))\n",
    "    B_L = zeros(3, 8)\n",
    "    B_NL = zeros(4, 8)\n",
    "\n",
    "    for m = 1:n_integration_points\n",
    "        ξ = ipoints[m, :]\n",
    "        w = iweights[m]\n",
    "\n",
    "        Jᵀ = X*dNdξ(ξ)\n",
    "        ∇N = inv(Jᵀ)*dNdξ(ξ)'\n",
    "        ∇u = u*∇N'\n",
    "        F = I + ∇u  # Deformation gradient\n",
    "\n",
    "        detJ = det(Jᵀ)\n",
    "        #detF = det(F)\n",
    "        E = 1/2*(∇u + ∇u' + ∇u'*∇u) # Green-Lagrange strain tensor\n",
    "        P = λ*trace(E)*eye(2) + 2*μ*E # PK2 stress tensor\n",
    "        S = F*P\n",
    "\n",
    "        B_L[:,:] = 0\n",
    "        for i = 0:3\n",
    "            B_L[1, i*2+1] = F[1, 1]*∇N[1, i+1]\n",
    "            B_L[1, i*2+2] = F[2, 1]*∇N[1, i+1]\n",
    "            B_L[2, i*2+1] = F[1, 2]*∇N[2, i+1]\n",
    "            B_L[2, i*2+2] = F[2, 2]*∇N[2, i+1]\n",
    "            B_L[3, i*2+1] = F[1, 1]*∇N[2, i+1] + F[1, 2]*∇N[1, i+1]\n",
    "            B_L[3, i*2+2] = F[2, 1]*∇N[2, i+1] + F[2, 2]*∇N[1, i+1]\n",
    "        end\n",
    "        K2_L += w*B_L'*D*B_L*detJ\n",
    "\n",
    "        τ = zeros(4, 4)\n",
    "        τ[1:2,1:2] = S\n",
    "        τ[3:4,3:4] = S\n",
    "        B_NL[:,:] = 0.0\n",
    "        for i=0:3\n",
    "            B_NL[1, 2*i+1] = ∇N[1, i+1]\n",
    "            B_NL[2, 2*i+1] = ∇N[2, i+1]\n",
    "            B_NL[3, 2*i+2] = ∇N[1, i+1]\n",
    "            B_NL[4, 2*i+2] = ∇N[2, i+1]\n",
    "        end\n",
    "        K2_NL += w*B_NL'*τ*B_NL*detJ\n",
    "\n",
    "        # Nodal forces\n",
    "        T += w*S*∇N*detJ\n",
    "\n",
    "    end\n",
    "\n",
    "    return T', K2_L+K2_NL\n",
    "end"
   ]
  },
  {
   "cell_type": "code",
   "execution_count": 9,
   "metadata": {
    "collapsed": false
   },
   "outputs": [
    {
     "data": {
      "text/plain": [
       "2x4 Array{Int64,2}:\n",
       " 0  0  1  0\n",
       " 0  0  0  0"
      ]
     },
     "execution_count": 9,
     "metadata": {},
     "output_type": "execute_result"
    }
   ],
   "source": [
    "X = [0 0; 1 0; 1 1; 0 1]'\n",
    "u = [0 0; 0 0; 1 0; 0 0]'"
   ]
  },
  {
   "cell_type": "code",
   "execution_count": 10,
   "metadata": {
    "collapsed": false
   },
   "outputs": [
    {
     "name": "stdout",
     "output_type": "stream",
     "text": [
      "elapsed time: 1.159613267 seconds (79896004 bytes allocated, 4.41% gc time)\n"
     ]
    },
    {
     "data": {
      "text/plain": [
       "(\n",
       "4x2 Array{Float64,2}:\n",
       " -60.6667   -24.0\n",
       "  -1.33333   -8.0\n",
       " 133.333     35.0\n",
       " -71.3333    -3.0,\n",
       "\n",
       "8x8 Array{Float64,2}:\n",
       "  136.333    34.0      -29.3333   -2.0      …  -34.0       23.0      2.0   \n",
       "   34.0      81.6667     6.0       3.33333     -71.6667    -7.0    -13.3333\n",
       "  -42.3333    6.0       83.3333   10.0         -28.0      -45.0     12.0   \n",
       "   -2.0      -9.66667   10.0      52.6667      -11.3333    11.0    -31.6667\n",
       " -127.333   -33.0      -20.6667  -19.0          55.0     -153.333   -3.0   \n",
       "  -34.0     -69.0      -28.0     -36.0      …  162.667      7.0    -57.6667\n",
       "   33.3333   -7.0      -33.3333   11.0           7.0      175.333  -11.0   \n",
       "    2.0      -3.0       12.0     -20.0         -79.6667   -11.0    102.667 )"
      ]
     },
     "execution_count": 10,
     "metadata": {},
     "output_type": "execute_result"
    }
   ],
   "source": [
    "@time nonlinear_stiffness(X, u)"
   ]
  },
  {
   "cell_type": "code",
   "execution_count": 11,
   "metadata": {
    "collapsed": false
   },
   "outputs": [
    {
     "data": {
      "text/plain": [
       "calculate_internal_energy! (generic function with 2 methods)"
      ]
     },
     "execution_count": 11,
     "metadata": {},
     "output_type": "execute_result"
    }
   ],
   "source": [
    "function gauss2d(J, Wint)\n",
    "    a = 1/sqrt(3)\n",
    "    ipoints = [[-a -a], [a -a], [a a], [-a a]]\n",
    "    iweights = [1 1 1 1]\n",
    "    Wint[:,:] = 0\n",
    "\n",
    "    for m = 1:length(iweights)\n",
    "        w = iweights[m]\n",
    "        ξ = ipoints[m, :]\n",
    "        Wint[:,:] += w*J(ξ)\n",
    "    end\n",
    "end\n",
    "\n",
    "function calculate_internal_energy!(X, u, Wint, dNdξ, λ, μ, dim=2)\n",
    "    u = reshape(u, 2, 4)\n",
    "    X = reshape(X, 2, 4)\n",
    "    Wint = reshape(Wint, 2, 4)\n",
    "    I = eye(dim)\n",
    "    \n",
    "    function J(ξ)\n",
    "        Jᵀ = X*dNdξ(ξ)\n",
    "        ∇N = inv(Jᵀ)*dNdξ(ξ)'\n",
    "        ∇u = u*∇N'\n",
    "        F = I + ∇u  # Deformation gradient\n",
    "        E = 1/2*(∇u' + ∇u + ∇u'*∇u)  # Green-Lagrange strain tensor\n",
    "        P = λ*trace(E)*I + 2*μ*E  # PK1 stress tensor\n",
    "        S = F*P  # PK2 stress tensor\n",
    "        return S*∇N*det(Jᵀ)\n",
    "    end\n",
    "\n",
    "    gauss2d(J, Wint)\n",
    "    u = reshape(u, 8)\n",
    "    X = reshape(X, 8)\n",
    "    Wint = reshape(Wint, 8)\n",
    "\n",
    "end"
   ]
  },
  {
   "cell_type": "code",
   "execution_count": 12,
   "metadata": {
    "collapsed": false
   },
   "outputs": [
    {
     "data": {
      "text/plain": [
       "8-element Array{Float64,1}:\n",
       " -60.6667 \n",
       " -24.0    \n",
       "  -1.33333\n",
       "  -8.0    \n",
       " 133.333  \n",
       "  35.0    \n",
       " -71.3333 \n",
       "  -3.0    "
      ]
     },
     "execution_count": 12,
     "metadata": {},
     "output_type": "execute_result"
    }
   ],
   "source": [
    "function Winte!(u, Wint)\n",
    "    calculate_internal_energy!(X, u, Wint, dNdξ, λ, μ)\n",
    "end\n",
    "Wint = zeros(8)\n",
    "Winte!(reshape(u, 8), Wint)\n",
    "Wint"
   ]
  },
  {
   "cell_type": "code",
   "execution_count": 13,
   "metadata": {
    "collapsed": false
   },
   "outputs": [
    {
     "data": {
      "text/plain": [
       "g! (generic function with 1 method)"
      ]
     },
     "execution_count": 13,
     "metadata": {},
     "output_type": "execute_result"
    }
   ],
   "source": [
    "using ForwardDiff\n",
    "Kt = forwarddiff_jacobian!(Winte!, Float64, fadtype=:dual, n=8, m=8)"
   ]
  },
  {
   "cell_type": "code",
   "execution_count": 14,
   "metadata": {
    "collapsed": false
   },
   "outputs": [
    {
     "ename": "LoadError",
     "evalue": "`dual_fad` has no method matching dual_fad(::Function, ::Array{Int64,1}, ::Array{Float64,2}, ::Array{Dual{Float64},1}, ::Array{Dual{Float64},1})\nwhile loading In[14], in expression starting on line 2",
     "output_type": "error",
     "traceback": [
      "`dual_fad` has no method matching dual_fad(::Function, ::Array{Int64,1}, ::Array{Float64,2}, ::Array{Dual{Float64},1}, ::Array{Dual{Float64},1})\nwhile loading In[14], in expression starting on line 2",
      "",
      " in g! at /home/jukka/.julia/v0.3/ForwardDiff/src/dual_fad/multivariate_range.jl:18"
     ]
    }
   ],
   "source": [
    "J = zeros(8, 8)\n",
    "Kt(reshape(u, 8), J)\n",
    "Kt"
   ]
  },
  {
   "cell_type": "markdown",
   "metadata": {},
   "source": [
    "This ForwardDiff package is just not working as expected. We have well defined function but for some reason it's just not working. Bad code."
   ]
  },
  {
   "cell_type": "code",
   "execution_count": 15,
   "metadata": {
    "collapsed": false
   },
   "outputs": [
    {
     "name": "stdout",
     "output_type": "stream",
     "text": [
      "elapsed time: 1.198824455 seconds (532828332 bytes allocated, 27.60% gc time)\n"
     ]
    }
   ],
   "source": [
    "function calc_1()\n",
    "    for i=1:10000\n",
    "       K, T = nonlinear_stiffness(X, u)\n",
    "    end\n",
    "end\n",
    "@time calc_1()"
   ]
  }
 ],
 "metadata": {
  "kernelspec": {
   "display_name": "Julia 0.3.8",
   "language": "julia",
   "name": "julia-0.3"
  },
  "language_info": {
   "name": "julia",
   "version": "0.3.8"
  }
 },
 "nbformat": 4,
 "nbformat_minor": 0
}
