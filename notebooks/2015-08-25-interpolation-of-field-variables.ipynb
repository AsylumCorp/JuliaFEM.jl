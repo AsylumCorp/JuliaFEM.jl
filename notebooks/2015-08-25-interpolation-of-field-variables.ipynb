{
 "cells": [
  {
   "cell_type": "markdown",
   "metadata": {},
   "source": [
    "# Interpolation of field variables\n",
    "\n",
    "Author(s): Jukka Aho\n",
    "\n",
    "Abstract: Let's interpolate and visualize a scalar field from 4 element model."
   ]
  },
  {
   "cell_type": "code",
   "execution_count": 2,
   "metadata": {
    "collapsed": false
   },
   "outputs": [],
   "source": [
    "using JuliaFEM: Element, Quad4, get_basis, set_field, get_field, get_dbasisdxi"
   ]
  },
  {
   "cell_type": "code",
   "execution_count": 3,
   "metadata": {
    "collapsed": false
   },
   "outputs": [],
   "source": [
    "coordinates = [0.0 2.0; 1.0 2.0; 2.0 2.0; 0.0 1.0; 1.0 1.0; 2.0 1.0; 0.0 0.0; 1.0 0.0; 2.0 0.0]'\n",
    "temperature = [0.0  140.0  190.0  0.0  155.0  310.0  0.0  170.0  430.0]\n",
    "\n",
    "elements = Element[\n",
    "    Quad4([4, 5, 2, 1]),\n",
    "    Quad4([5, 6, 3, 2]),\n",
    "    Quad4([7, 8, 5, 4]),\n",
    "    Quad4([8, 9, 6, 5])]\n",
    "\n",
    "for el in elements\n",
    "    set_field(el, \"coordinates\", coordinates[:, el.node_ids])\n",
    "    set_field(el, \"temperature\", temperature[:, el.node_ids])\n",
    "end"
   ]
  },
  {
   "cell_type": "markdown",
   "metadata": {},
   "source": [
    "Basic interpolation wrt local coordinates $\\xi$:"
   ]
  },
  {
   "cell_type": "code",
   "execution_count": 4,
   "metadata": {
    "collapsed": false
   },
   "outputs": [
    {
     "data": {
      "text/plain": [
       "([430.0],[0.5,1.5])"
      ]
     },
     "execution_count": 4,
     "metadata": {},
     "output_type": "execute_result"
    }
   ],
   "source": [
    "\"\"\"\n",
    "Evaluate field in point xi using basis functions.\n",
    "\"\"\"\n",
    "function interpolate(el::Element, field::ASCIIString, xi::Array{Float64,1})\n",
    "    f = get_field(el, field)\n",
    "    basis = get_basis(el, xi)\n",
    "    dim, nnodes = size(f)\n",
    "    result = zeros(dim)\n",
    "    for i=1:nnodes\n",
    "        result += basis[i]*f[:,i]\n",
    "    end\n",
    "    return result\n",
    "end\n",
    "\n",
    "interpolate(elements[4], \"temperature\", [1.0, -1.0]), interpolate(elements[1], \"coordinates\", [0.0, 0.0])"
   ]
  },
  {
   "cell_type": "markdown",
   "metadata": {},
   "source": [
    "Find local coordinate $\\xi$ where field equals to some given value:"
   ]
  },
  {
   "cell_type": "code",
   "execution_count": 5,
   "metadata": {
    "collapsed": false
   },
   "outputs": [
    {
     "name": "stdout",
     "output_type": "stream",
     "text": [
      "[1.0,-1.0]\n"
     ]
    },
    {
     "data": {
      "text/plain": [
       "2-element Array{Float64,1}:\n",
       " 1.0\n",
       " 1.0"
      ]
     },
     "execution_count": 5,
     "metadata": {},
     "output_type": "execute_result"
    }
   ],
   "source": [
    "function get_xi(el::Element, field::ASCIIString, value::Vector)\n",
    "    fld = get_field(el, field)\n",
    "    dbasisdxi(xi) = get_dbasisdxi(el, xi)\n",
    "    rhs(xi) = interpolate(el, field, xi) - value\n",
    "    lhs(xi) = fld*dbasisdxi(xi)\n",
    "    xi = zeros(length(value))\n",
    "    for i=1:5\n",
    "        A = rhs(xi)\n",
    "        b = lhs(xi)\n",
    "        #println(\"$A, $b\")\n",
    "        dxi = lhs(xi) \\ rhs(xi)\n",
    "        xi -= dxi\n",
    "        if norm(dxi) < 1.0e-9\n",
    "            break\n",
    "        end\n",
    "    end\n",
    "    return xi[:]\n",
    "end\n",
    "\n",
    "xi0 = get_xi(elements[4], \"coordinates\", [2.0, 0.0])\n",
    "println(\"$xi0\")\n",
    "interpolate(elements[1], \"coordinates\", xi0)"
   ]
  },
  {
   "cell_type": "markdown",
   "metadata": {},
   "source": [
    "Test if point is inside element:"
   ]
  },
  {
   "cell_type": "code",
   "execution_count": 6,
   "metadata": {
    "collapsed": false
   },
   "outputs": [
    {
     "data": {
      "text/plain": [
       "point_inside_element (generic function with 1 method)"
      ]
     },
     "execution_count": 6,
     "metadata": {},
     "output_type": "execute_result"
    }
   ],
   "source": [
    "function point_inside_element(el::Quad4, pnt)\n",
    "    all(-1 .<= get_xi(el, \"coordinates\", pnt) .<= 1)\n",
    "end"
   ]
  },
  {
   "cell_type": "code",
   "execution_count": 7,
   "metadata": {
    "collapsed": false
   },
   "outputs": [
    {
     "data": {
      "text/plain": [
       "(false,true)"
      ]
     },
     "execution_count": 7,
     "metadata": {},
     "output_type": "execute_result"
    }
   ],
   "source": [
    "point_inside_element(elements[1], [0.8, 2.01]), point_inside_element(elements[4], [2.0, 0.0])"
   ]
  },
  {
   "cell_type": "markdown",
   "metadata": {},
   "source": [
    "Interpolate field variable from set of elements"
   ]
  },
  {
   "cell_type": "code",
   "execution_count": 8,
   "metadata": {
    "collapsed": false
   },
   "outputs": [
    {
     "data": {
      "text/plain": [
       "interpolate (generic function with 3 methods)"
      ]
     },
     "execution_count": 8,
     "metadata": {},
     "output_type": "execute_result"
    }
   ],
   "source": [
    "function interpolate(elements::Array{Element,1}, field::ASCIIString, pnt::Array{Float64,1}, nullval=0.0)\n",
    "    elements = filter((el) -> point_inside_element(el, pnt), elements)\n",
    "    if length(elements) == 0\n",
    "        # outside of region\n",
    "        return nullval\n",
    "    end\n",
    "    xi = get_xi(elements[1], \"coordinates\", pnt)\n",
    "    return interpolate(elements[1], field, xi)\n",
    "end"
   ]
  },
  {
   "cell_type": "code",
   "execution_count": 9,
   "metadata": {
    "collapsed": false
   },
   "outputs": [
    {
     "data": {
      "text/plain": [
       "1-element Array{Float64,1}:\n",
       " 430.0"
      ]
     },
     "execution_count": 9,
     "metadata": {},
     "output_type": "execute_result"
    }
   ],
   "source": [
    "interpolate(elements, \"temperature\", [2.0, 0.0])"
   ]
  },
  {
   "cell_type": "code",
   "execution_count": 10,
   "metadata": {
    "collapsed": false
   },
   "outputs": [],
   "source": [
    "y = linspace(0,2,100)\n",
    "x = y'\n",
    "T = zeros(length(x), length(y))\n",
    "for i=1:length(x)\n",
    "    for j=1:length(y)\n",
    "        T[i,j] = interpolate(elements, \"temperature\", [x[i], y[j]])[1]\n",
    "    end\n",
    "end\n",
    "T = T';"
   ]
  },
  {
   "cell_type": "code",
   "execution_count": 11,
   "metadata": {
    "collapsed": true
   },
   "outputs": [],
   "source": [
    "using PyPlot"
   ]
  },
  {
   "cell_type": "code",
   "execution_count": 17,
   "metadata": {
    "collapsed": false
   },
   "outputs": [
    {
     "data": {
      "image/png": "[encoded data removed]",
      "text/plain": [
       "PyPlot.Figure(PyObject <matplotlib.figure.Figure object at 0x31bd56490>)"
      ]
     },
     "metadata": {},
     "output_type": "display_data"
    },
    {
     "data": {
      "text/plain": [
       "(-0.1,2.1,-0.1,2.1)"
      ]
     },
     "execution_count": 17,
     "metadata": {},
     "output_type": "execute_result"
    }
   ],
   "source": [
    "figure(figsize=(6, 6))\n",
    "levels = [10, 50, 100, 140, 155, 170, 190, 250, 310, 350]\n",
    "cs = contour(x, y, T, levels, colors=\"k\")\n",
    "clabel(cs, fontsize=9, inline=1)\n",
    "for el in elements\n",
    "    p1 = interpolate(el, \"coordinates\", [-1.0, -1.0])\n",
    "    p2 = interpolate(el, \"coordinates\", [ 1.0, -1.0])\n",
    "    p3 = interpolate(el, \"coordinates\", [ 1.0,  1.0])\n",
    "    p4 = interpolate(el, \"coordinates\", [-1.0,  1.0])\n",
    "    pts = [p1 p2 p3 p4 p1]\n",
    "    plot(pts[1,:]', pts[2,:]', \"-ko\")\n",
    "end\n",
    "xlim(-0.1, 2.1)\n",
    "ylim(-0.1, 2.1)\n",
    "axis(\"off\")"
   ]
  },
  {
   "cell_type": "code",
   "execution_count": null,
   "metadata": {
    "collapsed": true
   },
   "outputs": [],
   "source": []
  }
 ],
 "metadata": {
  "kernelspec": {
   "display_name": "Julia 0.4.0-dev",
   "language": "julia",
   "name": "julia-0.4"
  },
  "language_info": {
   "name": "julia",
   "version": "0.4.0"
  }
 },
 "nbformat": 4,
 "nbformat_minor": 0
}
