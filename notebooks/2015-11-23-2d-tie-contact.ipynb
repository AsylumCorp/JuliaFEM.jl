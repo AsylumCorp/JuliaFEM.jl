{
 "cells": [
  {
   "cell_type": "markdown",
   "metadata": {},
   "source": [
    "# 2d contacts\n",
    "\n",
    "Author: Jukka Aho\n",
    "\n",
    "Abstract: 2d tie contact.\n",
    "\n",
    "## Model 1: three body tie contact\n",
    "\n",
    "\n",
    "![model](http://s4.postimg.org/u9yqeryul/Screenshot_from_2015_11_24_02_00_00.png)\n",
    "\n",
    "Each element is modelled as own \"body\" and they are connected using tie contacts. Segments 5-6 and 9-10 and 6-7 are slave surfaces, so node 6 or 9 is on at least two tie contacts as slave node. Moreover this model has dirichlet boundary $y=0$ at bottom of body 1 and $x=0$ on left. To get the accurate solution one needs to minimize \n",
    "\\begin{equation}\n",
    "\\frac{15}{2}u_1^4 + 60 u_1^3 + \\frac{15}{4}u_1^2 u_2^2 + 15 u_1^2 u_2 + 120 u_1^2 + 15 u_1 u_2^2 + 60 u_1 u_2 + \\frac{15}{2}u_2^4 + 60 u_2^3 + 120 u_2^2 + 50 u_2,\n",
    "\\end{equation}\n",
    "which gives approximate $u_1 = 0.0634862$ and $u_2 = -0.277183$ for the displacement of upper right corner.\n",
    "[Wolfram](http://www.wolframalpha.com/input/?i=local+minimum+15*x^4%2F2+%2B+60*x^3+%2B+15*x^2*y^2%2F4+%2B+15*x^2*y+%2B+120*x^2+%2B+15*x*y^2+%2B+60*x*y+%2B+15*y^4%2F2+%2B+60*y^3+%2B+120*y^2+%2B+50*y)."
   ]
  },
  {
   "cell_type": "code",
   "execution_count": 1,
   "metadata": {
    "collapsed": false
   },
   "outputs": [],
   "source": [
    "using JuliaFEM.Core: Element, Seg2, Quad4, PlaneStressElasticityProblem,\n",
    "                     DirichletProblem, MortarProblem, DirectSolver"
   ]
  },
  {
   "cell_type": "code",
   "execution_count": 10,
   "metadata": {
    "collapsed": false
   },
   "outputs": [],
   "source": [
    "nodes = Dict{Int64, Vector{Float64}}(\n",
    "    1 => [0.0, 0.0], 2 => [2.0, 0.0],\n",
    "    3 => [2.0, 1.0], 4 => [0.0, 1.0],\n",
    "    5 => [0.0, 1.0], 6 => [1.0, 1.0],\n",
    "    7 => [1.0, 2.0], 8 => [0.0, 2.0],\n",
    "    9 => [1.0, 1.0], 10 => [2.0, 1.0],\n",
    "    11 => [2.0, 2.0], 12 => [1.0, 2.0]);"
   ]
  },
  {
   "cell_type": "code",
   "execution_count": 11,
   "metadata": {
    "collapsed": true
   },
   "outputs": [],
   "source": [
    "connectivity = Dict{Int64, Vector{Int64}}(\n",
    "    1 => [1, 2, 3, 4],\n",
    "    2 => [5, 6, 7, 8],\n",
    "    3 => [9, 10, 11, 12]);"
   ]
  },
  {
   "cell_type": "code",
   "execution_count": 13,
   "metadata": {
    "collapsed": false
   },
   "outputs": [
    {
     "name": "stderr",
     "output_type": "stream",
     "text": [
      "INFO: number of elements: 3\n"
     ]
    }
   ],
   "source": [
    "elements = Element[]\n",
    "for c in values(connectivity)\n",
    "    element = Quad4(c)\n",
    "    element[\"geometry\"] = Vector{Float64}[nodes[i] for i in c]\n",
    "    element[\"youngs modulus\"] = 900.0\n",
    "    element[\"poissons ratio\"] = 0.25\n",
    "    push!(elements, element)\n",
    "end\n",
    "nelements = length(elements)\n",
    "info(\"number of elements: $nelements\")"
   ]
  },
  {
   "cell_type": "markdown",
   "metadata": {},
   "source": [
    "Create three bodies, each containing one element."
   ]
  },
  {
   "cell_type": "code",
   "execution_count": 14,
   "metadata": {
    "collapsed": false
   },
   "outputs": [],
   "source": [
    "body1 = PlaneStressElasticityProblem(\"body 1\")\n",
    "body2 = PlaneStressElasticityProblem(\"body 2\")\n",
    "body3 = PlaneStressElasticityProblem(\"body 3\")\n",
    "push!(body1, elements[1])\n",
    "push!(body2, elements[2])\n",
    "push!(body3, elements[3]);"
   ]
  },
  {
   "cell_type": "markdown",
   "metadata": {},
   "source": [
    "Surface traction to the top of bodies 2 and 3:"
   ]
  },
  {
   "cell_type": "code",
   "execution_count": 15,
   "metadata": {
    "collapsed": false
   },
   "outputs": [],
   "source": [
    "t2 = Seg2([8, 7])\n",
    "t2[\"geometry\"] = Vector{Float64}[nodes[8], nodes[7]]\n",
    "t2[\"displacement traction force\"] = Vector{Float64}[[0.0, -100.0], [0.0, -100.0]]\n",
    "t3 = Seg2([12, 11])\n",
    "t3[\"geometry\"] = Vector{Float64}[nodes[12], nodes[11]]\n",
    "t3[\"displacement traction force\"] = Vector{Float64}[[0.0, -100.0], [0.0, -100.0]]\n",
    "push!(body2, t2)\n",
    "push!(body3, t3);"
   ]
  },
  {
   "cell_type": "markdown",
   "metadata": {},
   "source": [
    "Boundary conditions: $x=0$ for left boundary."
   ]
  },
  {
   "cell_type": "code",
   "execution_count": 16,
   "metadata": {
    "collapsed": false
   },
   "outputs": [],
   "source": [
    "dx1 = Seg2([1, 4])\n",
    "dx1[\"geometry\"] = Vector[nodes[1], nodes[4]]\n",
    "dx1[\"displacement 1\"] = 0.0\n",
    "dx2 = Seg2([5, 8])\n",
    "dx2[\"geometry\"] = Vector[nodes[5], nodes[8]]\n",
    "dx2[\"displacement 1\"] = 0.0\n",
    "bc1 = DirichletProblem(\"displacement\", 2)\n",
    "push!(bc1, dx1)\n",
    "push!(bc1, dx2);"
   ]
  },
  {
   "cell_type": "markdown",
   "metadata": {},
   "source": [
    "$y=0$ for bottom of model"
   ]
  },
  {
   "cell_type": "code",
   "execution_count": 17,
   "metadata": {
    "collapsed": false
   },
   "outputs": [],
   "source": [
    "dy1 = Seg2([1, 2])\n",
    "dy1[\"geometry\"] = Vector[nodes[1], nodes[2]]\n",
    "dy1[\"displacement 2\"] = 0.0\n",
    "bc2 = DirichletProblem(\"displacement\", 2)\n",
    "push!(bc2, dy1);"
   ]
  },
  {
   "cell_type": "markdown",
   "metadata": {},
   "source": [
    "Mortar boundary conditions: tie contact between body 1 and body 2"
   ]
  },
  {
   "cell_type": "code",
   "execution_count": 19,
   "metadata": {
    "collapsed": false
   },
   "outputs": [],
   "source": [
    "#rotation_matrix(phi) = [cos(phi) -sin(phi); sin(phi) cos(phi)]\n",
    "using JuliaFEM.Core: calculate_normal_tangential_coordinates!\n",
    "\n",
    "master1 = Seg2([4, 3])\n",
    "master1[\"geometry\"] = Vector[nodes[4], nodes[3]]\n",
    "slave1 = Seg2([5, 6])\n",
    "slave1[\"geometry\"] = Vector[nodes[5], nodes[6]]\n",
    "slave1[\"master elements\"] = Element[master1]\n",
    "calculate_normal_tangential_coordinates!(slave1, 0.0)\n",
    "\n",
    "#slave1[\"nodal ntsys\"] = Matrix[rotation_matrix(-pi/2), rotation_matrix(-pi/2)]\n",
    "contact1 = MortarProblem(\"displacement\", 2)\n",
    "push!(contact1, slave1);"
   ]
  },
  {
   "cell_type": "markdown",
   "metadata": {},
   "source": [
    "Tie contact between body 1 and body 3"
   ]
  },
  {
   "cell_type": "code",
   "execution_count": 20,
   "metadata": {
    "collapsed": false
   },
   "outputs": [],
   "source": [
    "slave2 = Seg2([9, 10])\n",
    "slave2[\"geometry\"] = Vector[nodes[9], nodes[10]]\n",
    "#slave2[\"nodal ntsys\"] = Matrix[rotation_matrix(-pi/2), rotation_matrix(-pi/2)]\n",
    "slave2[\"master elements\"] = Element[master1]\n",
    "calculate_normal_tangential_coordinates!(slave2, 0.0)\n",
    "contact2 = MortarProblem(\"displacement\", 2)\n",
    "push!(contact2, slave2);"
   ]
  },
  {
   "cell_type": "markdown",
   "metadata": {},
   "source": [
    "Tie contact between body 2 and body 3"
   ]
  },
  {
   "cell_type": "code",
   "execution_count": 21,
   "metadata": {
    "collapsed": true
   },
   "outputs": [],
   "source": [
    "master2 = Seg2([6, 7])\n",
    "master2[\"geometry\"] = Vector[nodes[6], nodes[7]]\n",
    "slave3 = Seg2([9, 12])\n",
    "slave3[\"geometry\"] = Vector[nodes[9], nodes[12]]\n",
    "#slave3[\"nodal ntsys\"] = Matrix[rotation_matrix(0.0), rotation_matrix(0.0)]\n",
    "calculate_normal_tangential_coordinates!(slave3, 0.0)\n",
    "slave3[\"master elements\"] = Element[master2]\n",
    "contact3 = MortarProblem(\"displacement\", 2)\n",
    "push!(contact3, slave3);"
   ]
  },
  {
   "cell_type": "markdown",
   "metadata": {},
   "source": [
    "All defined. Solve it."
   ]
  },
  {
   "cell_type": "code",
   "execution_count": 22,
   "metadata": {
    "collapsed": false
   },
   "outputs": [],
   "source": [
    "solver = DirectSolver()\n",
    "push!(solver, body1)\n",
    "push!(solver, body2)\n",
    "push!(solver, body3)\n",
    "push!(solver, bc1)\n",
    "push!(solver, bc2)\n",
    "push!(solver, contact1)\n",
    "push!(solver, contact2)\n",
    "push!(solver, contact3);"
   ]
  },
  {
   "cell_type": "code",
   "execution_count": 23,
   "metadata": {
    "collapsed": false
   },
   "outputs": [
    {
     "name": "stderr",
     "output_type": "stream",
     "text": [
      "INFO: Starting solver DirectSolver\n",
      "INFO: # of field problems: 3\n",
      "INFO: # of boundary problems: 5\n",
      "INFO: Starting iteration 1\n",
      "INFO: Assembling field problems...\n",
      "INFO: Assembling body 1: body 1\n",
      "INFO: Assembling body 2: body 2\n",
      "INFO: Assembling body 3: body 3\n",
      "INFO: dim = 24\n",
      "INFO: Assembling boundary problems...\n",
      "INFO: Assembling boundary 1: dirichlet boundary\n",
      "INFO: Assembling boundary 2: dirichlet boundary\n",
      "INFO: Assembling boundary 3: mortar problem\n",
      "INFO: Assembling boundary 4: mortar problem\n",
      "INFO: Assembling boundary 5: mortar problem\n",
      "INFO: Solving system\n",
      "INFO: UMFPACK: solved in 0.3197059631347656 seconds. norm = 0.5357583756107197\n",
      "INFO: timing info for iteration:\n",
      "INFO: boundary assembly       : 0.3747282028198242\n",
      "INFO: field assembly          : 2.646785020828247\n",
      "INFO: dump matrices to disk   : 9.5367431640625e-7\n",
      "INFO: solve problem           : 0.4615659713745117\n",
      "INFO: update element data     : 0.02040410041809082\n",
      "INFO: non-linear iteration    : 3.5035040378570557\n",
      "INFO: Starting iteration 2\n",
      "INFO: Assembling field problems...\n",
      "INFO: Assembling body 1: body 1\n",
      "INFO: Assembling body 2: body 2\n",
      "INFO: Assembling body 3: body 3\n",
      "INFO: dim = 24\n",
      "INFO: Assembling boundary problems...\n",
      "INFO: Assembling boundary 1: dirichlet boundary\n",
      "INFO: Assembling boundary 2: dirichlet boundary\n",
      "INFO: Assembling boundary 3: mortar problem\n",
      "INFO: Assembling boundary 4: mortar problem\n",
      "INFO: Assembling boundary 5: mortar problem\n",
      "INFO: Solving system\n",
      "INFO: UMFPACK: solved in 0.0003139972686767578 seconds. norm = 0.12311066326855769\n",
      "INFO: timing info for iteration:\n",
      "INFO: boundary assembly       : 0.036119937896728516\n",
      "INFO: field assembly          : 0.0374150276184082\n",
      "INFO: dump matrices to disk   : 9.5367431640625e-7\n",
      "INFO: solve problem           : 0.06756091117858887\n",
      "INFO: update element data     : 0.00013899803161621094\n",
      "INFO: non-linear iteration    : 0.1412510871887207\n",
      "INFO: Starting iteration 3\n",
      "INFO: Assembling field problems...\n",
      "INFO: Assembling body 1: body 1\n",
      "INFO: Assembling body 2: body 2\n",
      "INFO: Assembling body 3: body 3\n",
      "INFO: dim = 24\n",
      "INFO: Assembling boundary problems...\n",
      "INFO: Assembling boundary 1: dirichlet boundary\n",
      "INFO: Assembling boundary 2: dirichlet boundary\n",
      "INFO: Assembling boundary 3: mortar problem\n",
      "INFO: Assembling boundary 4: mortar problem\n",
      "INFO: Assembling boundary 5: mortar problem\n",
      "INFO: Solving system\n",
      "INFO: UMFPACK: solved in 0.0003230571746826172 seconds. norm = 0.006976385449837204\n",
      "INFO: timing info for iteration:\n",
      "INFO: boundary assembly       : 0.03788185119628906\n",
      "INFO: field assembly          : 0.036910057067871094\n",
      "INFO: dump matrices to disk   : 0.0\n",
      "INFO: solve problem           : 0.07133316993713379\n",
      "INFO: update element data     : 0.0001468658447265625\n",
      "INFO: non-linear iteration    : 0.1462879180908203\n",
      "INFO: Starting iteration 4\n",
      "INFO: Assembling field problems...\n",
      "INFO: Assembling body 1: body 1\n",
      "INFO: Assembling body 2: body 2\n",
      "INFO: Assembling body 3: body 3\n",
      "INFO: dim = 24\n",
      "INFO: Assembling boundary problems...\n",
      "INFO: Assembling boundary 1: dirichlet boundary\n",
      "INFO: Assembling boundary 2: dirichlet boundary\n",
      "INFO: Assembling boundary 3: mortar problem\n",
      "INFO: Assembling boundary 4: mortar problem\n",
      "INFO: Assembling boundary 5: mortar problem\n",
      "INFO: Solving system\n",
      "INFO: UMFPACK: solved in 0.00030493736267089844 seconds. norm = 2.1945519744339283e-5\n",
      "INFO: timing info for iteration:\n",
      "INFO: boundary assembly       : 0.037918806076049805\n",
      "INFO: field assembly          : 0.036936044692993164\n",
      "INFO: dump matrices to disk   : 9.5367431640625e-7\n",
      "INFO: solve problem           : 0.07027888298034668\n",
      "INFO: update element data     : 0.00013899803161621094\n",
      "INFO: non-linear iteration    : 0.14528894424438477\n",
      "INFO: Starting iteration 5\n",
      "INFO: Assembling field problems...\n",
      "INFO: Assembling body 1: body 1\n",
      "INFO: Assembling body 2: body 2\n",
      "INFO: Assembling body 3: body 3\n",
      "INFO: dim = 24\n",
      "INFO: Assembling boundary problems...\n",
      "INFO: Assembling boundary 1: dirichlet boundary\n",
      "INFO: Assembling boundary 2: dirichlet boundary\n",
      "INFO: Assembling boundary 3: mortar problem\n",
      "INFO: Assembling boundary 4: mortar problem\n",
      "INFO: Assembling boundary 5: mortar problem\n",
      "INFO: Solving system\n",
      "INFO: UMFPACK: solved in 0.0003120899200439453 seconds. norm = 2.172141514107444e-10\n",
      "INFO: timing info for iteration:\n"
     ]
    },
    {
     "data": {
      "text/plain": [
       "(5,true)"
      ]
     },
     "execution_count": 23,
     "metadata": {},
     "output_type": "execute_result"
    },
    {
     "name": "stderr",
     "output_type": "stream",
     "text": [
      "INFO: boundary assembly       : 0.035440921783447266\n",
      "INFO: field assembly          : 0.0363919734954834\n",
      "INFO: dump matrices to disk   : 0.0\n",
      "INFO: solve problem           : 0.06740903854370117\n",
      "INFO: update element data     : 0.0001380443572998047\n",
      "INFO: non-linear iteration    : 0.13939404487609863\n",
      "INFO: solver finished in 4.193101167678833 seconds.\n"
     ]
    }
   ],
   "source": [
    "iterations, converged = call(solver, 0.0)"
   ]
  },
  {
   "cell_type": "code",
   "execution_count": 24,
   "metadata": {
    "collapsed": false
   },
   "outputs": [
    {
     "name": "stderr",
     "output_type": "stream",
     "text": [
      "INFO: displacement at [2.0,2.0] = [0.06348623177789363,-0.2771830378556528]\n"
     ]
    },
    {
     "data": {
      "text/plain": [
       "Test Passed\n",
       "  Expression: isapprox(u,[0.0634862,-0.277183],atol=1.0e-5)"
      ]
     },
     "execution_count": 24,
     "metadata": {},
     "output_type": "execute_result"
    }
   ],
   "source": [
    "using JuliaFEM.Test\n",
    "\n",
    "@test converged\n",
    "\n",
    "X = elements[2](\"geometry\", [1.0, 1.0], 0.0)\n",
    "u = elements[2](\"displacement\", [1.0, 1.0], 0.0)\n",
    "info(\"displacement at $X = $u\")\n",
    "@test isapprox(u, [0.0634862, -0.277183], atol=1.0e-5)"
   ]
  },
  {
   "cell_type": "markdown",
   "metadata": {},
   "source": [
    "## Model 2: splitted beam, tie contact\n",
    "\n",
    "<img src=\"http://results.juliafem.org/splitted-2d-beam/2015-12-22-splitted-beam-mesh.png\">\n",
    "\n",
    "Put some load to the top, dx=dy=0 on left boundary."
   ]
  },
  {
   "cell_type": "code",
   "execution_count": 1,
   "metadata": {
    "collapsed": true
   },
   "outputs": [],
   "source": [
    "using JuliaFEM.Preprocess: parse_aster_med_file\n",
    "using JuliaFEM.Core: PlaneStressLinearElasticityProblem, DirichletProblem,\n",
    "                     get_connectivity, Quad4, Tri3, Seg2, LinearSolver,\n",
    "                     update!, get_elements"
   ]
  },
  {
   "cell_type": "code",
   "execution_count": 2,
   "metadata": {
    "collapsed": false
   },
   "outputs": [
    {
     "name": "stderr",
     "output_type": "stream",
     "text": [
      "INFO: Found 5 element sets: LOWER_TO_UPPER, RIGHT, UPPER_TO_LOWER, LEFT, LOAD\n"
     ]
    },
    {
     "data": {
      "text/plain": [
       "Dict{ASCIIString,Any} with 2 entries:\n",
       "  \"nodes\"        => Dict(68=>[71.42857142857142,9.999999999999998],2=>[95.0,-4.…\n",
       "  \"connectivity\" => Dict(11=>(:SE2,:OTHER,[11,12]),134=>(:TR3,:OTHER,[75,96,76]…"
      ]
     },
     "execution_count": 2,
     "metadata": {},
     "output_type": "execute_result"
    }
   ],
   "source": [
    "mesh = parse_aster_med_file(Pkg.dir(\"JuliaFEM\")*\"/geometry/2d_beam/BEAM.med\")"
   ]
  },
  {
   "cell_type": "code",
   "execution_count": 8,
   "metadata": {
    "collapsed": false
   },
   "outputs": [
    {
     "name": "stderr",
     "output_type": "stream",
     "text": [
      "INFO: created 104 field elements.\n",
      "INFO: created 4 boundary elements.\n"
     ]
    }
   ],
   "source": [
    "field_problem = PlaneStressLinearElasticityProblem()\n",
    "\n",
    "# field problems\n",
    "joo = Dict(:QU4 => Quad4, :TR3 => Tri3)\n",
    "for (elid, (eltype, elset, elcon)) in mesh[\"connectivity\"]\n",
    "    eltype in keys(joo) || continue\n",
    "    element = joo[eltype](elcon)\n",
    "    update!(element, \"geometry\", mesh[\"nodes\"])\n",
    "    element[\"youngs modulus\"] = 900.0\n",
    "    element[\"poissons ratio\"] = 0.25\n",
    "    push!(field_problem, element)\n",
    "end\n",
    "\n",
    "# neumann boundary condition -1 on y direction\n",
    "for (elid, (eltype, elset, elcon)) in mesh[\"connectivity\"]\n",
    "    eltype == :SE2 || continue\n",
    "    elset == :LOAD || continue\n",
    "    element = Seg2(elcon)\n",
    "    update!(element, \"geometry\", mesh[\"nodes\"])\n",
    "    element[\"displacement traction force 2\"] = -1.0\n",
    "    push!(field_problem, element)\n",
    "end\n",
    "\n",
    "# boundary conditions\n",
    "boundary_problem = DirichletProblem(\"displacement\", 2)\n",
    "\n",
    "for (elid, (eltype, elset, elcon)) in mesh[\"connectivity\"]\n",
    "    eltype == :SE2 || continue\n",
    "    elset == :LEFT || continue\n",
    "    element = Seg2(elcon)\n",
    "    update!(element, \"geometry\", mesh[\"nodes\"])\n",
    "    element[\"displacement\"] = 0.0\n",
    "    push!(boundary_problem, element)\n",
    "end\n",
    "\n",
    "info(\"created $(length(get_elements(field_problem))) field elements.\")\n",
    "info(\"created $(length(get_elements(boundary_problem))) boundary elements.\")"
   ]
  },
  {
   "cell_type": "markdown",
   "metadata": {},
   "source": [
    "Contact definition: contact pair is `LOWER_TO_UPPER <--> UPPER_TO_LOWER`:"
   ]
  },
  {
   "cell_type": "code",
   "execution_count": 9,
   "metadata": {
    "collapsed": false
   },
   "outputs": [
    {
     "name": "stderr",
     "output_type": "stream",
     "text": [
      "INFO: # of master elements: 14\n",
      "INFO: # of slave elements: 20\n"
     ]
    }
   ],
   "source": [
    "using JuliaFEM.Core: Element, MortarProblem, calculate_normal_tangential_coordinates!\n",
    "\n",
    "mortar_surface = :UPPER_TO_LOWER\n",
    "slave_surface = :LOWER_TO_UPPER\n",
    "\n",
    "master_elements = JuliaFEM.Core.Element[]\n",
    "for (elid, (eltype, elset, elcon)) in mesh[\"connectivity\"]\n",
    "    eltype == :SE2 || continue\n",
    "    elset == mortar_surface || continue\n",
    "    element = Seg2(elcon)\n",
    "    update!(element, \"geometry\", mesh[\"nodes\"])\n",
    "    push!(master_elements, element)\n",
    "end\n",
    "\n",
    "contact_problem = MortarProblem(\"displacement\", 2)\n",
    "for (elid, (eltype, elset, elcon)) in mesh[\"connectivity\"]\n",
    "    eltype == :SE2 || continue\n",
    "    elset == slave_surface || continue\n",
    "    element = Seg2(elcon)\n",
    "    update!(element, \"geometry\", mesh[\"nodes\"])\n",
    "    element[\"master elements\"] = master_elements\n",
    "    calculate_normal_tangential_coordinates!(element, 0.0)\n",
    "    push!(contact_problem, element)\n",
    "end\n",
    "\n",
    "info(\"# of master elements: $(length(master_elements))\")\n",
    "info(\"# of slave elements: $(length(contact_problem.elements))\")"
   ]
  },
  {
   "cell_type": "code",
   "execution_count": 10,
   "metadata": {
    "collapsed": false
   },
   "outputs": [
    {
     "name": "stderr",
     "output_type": "stream",
     "text": [
      "INFO: Starting solver divided_beam\n",
      "INFO: # of field problems: 1\n",
      "INFO: # of boundary problems: 2\n",
      "INFO: Starting iteration 1\n",
      "INFO: Assembling field problems...\n",
      "INFO: Assembling body 1: plane stress linear elasticity\n",
      "INFO: Assembly: 10.0 % done. \n",
      "INFO: Assembly: 20.0 % done. \n",
      "INFO: Assembly: 30.0 % done. \n",
      "INFO: Assembly: 40.0 % done. \n",
      "INFO: Assembly: 50.0 % done. \n",
      "INFO: Assembly: 60.0 % done. \n",
      "INFO: Assembly: 70.0 % done. \n",
      "INFO: Assembly: 80.0 % done. \n",
      "INFO: Assembly: 90.0 % done. \n",
      "INFO: Assembly: 100.0 % done. \n",
      "INFO: dim = 210\n",
      "INFO: Assembling boundary problems...\n",
      "INFO: Assembling boundary 1: dirichlet boundary\n",
      "INFO: Assembling boundary 2: mortar problem\n",
      "INFO: Solving system\n",
      "INFO: UMFPACK: solved in 0.0015990734100341797 seconds. norm = 104.93886213441557\n"
     ]
    },
    {
     "data": {
      "text/plain": [
       "(1,true)"
      ]
     },
     "execution_count": 10,
     "metadata": {},
     "output_type": "execute_result"
    },
    {
     "name": "stderr",
     "output_type": "stream",
     "text": [
      "INFO: timing info for iteration:\n",
      "INFO: boundary assembly       : 0.09911894798278809\n",
      "INFO: field assembly          : 0.05243706703186035\n",
      "INFO: dump matrices to disk   : 9.5367431640625e-7\n",
      "INFO: solve problem           : 0.07156205177307129\n",
      "INFO: update element data     : 0.0012559890747070312\n",
      "INFO: non-linear iteration    : 0.2243940830230713\n",
      "INFO: solver finished in 0.22567105293273926 seconds.\n"
     ]
    }
   ],
   "source": [
    "using JuliaFEM.Core: DirectSolver\n",
    "solver = DirectSolver()\n",
    "solver.name = \"divided_beam\"\n",
    "solver.method = :UMFPACK\n",
    "solver.nonlinear_problem = false\n",
    "solver.max_iterations = 1\n",
    "solver.dump_matrices = false\n",
    "push!(solver, field_problem)\n",
    "push!(solver, boundary_problem)\n",
    "push!(solver, contact_problem)\n",
    "call(solver, 0.0)"
   ]
  },
  {
   "cell_type": "code",
   "execution_count": 11,
   "metadata": {
    "collapsed": false
   },
   "outputs": [
    {
     "name": "stderr",
     "output_type": "stream",
     "text": [
      "INFO: XDFM: ndim = 210\n"
     ]
    }
   ],
   "source": [
    "xdoc, xmodel = JuliaFEM.Postprocess.xdmf_new_model()\n",
    "coll = JuliaFEM.Postprocess.xdmf_new_temporal_collection(xmodel)\n",
    "grid = JuliaFEM.Postprocess.xdmf_new_grid(coll; time=0.0)\n",
    "\n",
    "Xg = Dict{Int64, Vector{Float64}}()\n",
    "ug = Dict{Int64, Vector{Float64}}()\n",
    "for element in field_problem.elements\n",
    "    conn = get_connectivity(element)\n",
    "    X = element(\"geometry\", 0.0)\n",
    "    u = element(\"displacement\", 0.0)\n",
    "    for (i, c) in enumerate(conn)\n",
    "        Xg[c] = X[i]\n",
    "        ug[c] = u[i]\n",
    "    end\n",
    "end\n",
    "perm = sort(collect(keys(Xg)))\n",
    "nodes = Vector{Float64}[Xg[i] for i in perm]\n",
    "disp = Vector{Float64}[ug[i] for i in perm]\n",
    "elements = []\n",
    "\n",
    "for el in field_problem.elements\n",
    "    isa(el, Element{Quad4}) || continue\n",
    "    push!(elements, (:Quad4, get_connectivity(el)))\n",
    "end\n",
    "for el in field_problem.elements\n",
    "    isa(el, Element{Tri3}) || continue\n",
    "    push!(elements, (:Tri3, get_connectivity(el)))\n",
    "end\n",
    "\n",
    "#elements\n",
    "JuliaFEM.Postprocess.xdmf_new_mesh!(grid, nodes, elements)\n",
    "JuliaFEM.Postprocess.xdmf_new_nodal_field!(grid, \"displacement\", disp)\n",
    "JuliaFEM.Postprocess.xdmf_save_model(xdoc, \"/tmp/beam_2d.xmf\");"
   ]
  },
  {
   "cell_type": "code",
   "execution_count": 13,
   "metadata": {
    "collapsed": false
   },
   "outputs": [
    {
     "name": "stderr",
     "output_type": "stream",
     "text": [
      "WARNING: using PyPlot.mesh in module Main conflicts with an existing identifier.\n",
      "WARNING: using PyPlot.grid in module Main conflicts with an existing identifier.\n"
     ]
    }
   ],
   "source": [
    "using PyPlot"
   ]
  },
  {
   "cell_type": "code",
   "execution_count": 23,
   "metadata": {
    "collapsed": false
   },
   "outputs": [
    {
     "data": {
      "image/png": "[encoded data removed]",
      "text/plain": [
       "PyPlot.Figure(PyObject <matplotlib.figure.Figure object at 0x7f0f3d57b090>)"
      ]
     },
     "metadata": {},
     "output_type": "display_data"
    },
    {
     "data": {
      "text/plain": [
       "(-20.0,120.0,-20.0,25.0)"
      ]
     },
     "execution_count": 23,
     "metadata": {},
     "output_type": "execute_result"
    }
   ],
   "source": [
    "fig = figure(figsize=(15, 4))\n",
    "for element in field_problem.elements\n",
    "    conn = get_connectivity(element)\n",
    "    X = element(\"geometry\", 0.0)\n",
    "    #info(X)\n",
    "    for i=1:length(X)\n",
    "        px1 = X[i][1]\n",
    "        py1 = X[i][2]\n",
    "        px2 = X[mod(i,length(X))+1][1]\n",
    "        py2 = X[mod(i,length(X))+1][2]\n",
    "        plot([px1, px2], [py1, py2], \"k-\")\n",
    "    end\n",
    "end\n",
    "for element in field_problem.elements\n",
    "    conn = get_connectivity(element)\n",
    "    X = element(\"geometry\", 0.0)\n",
    "    u = element(\"displacement\", 0.0)\n",
    "    x = X + u\n",
    "    #info(X)\n",
    "    for i=1:length(x)\n",
    "        px1 = x[i][1]\n",
    "        py1 = x[i][2]\n",
    "        px2 = x[mod(i,length(x))+1][1]\n",
    "        py2 = x[mod(i,length(x))+1][2]\n",
    "        plot([px1, px2], [py1, py2], \"r--\", alpha=0.5)\n",
    "    end\n",
    "end\n",
    "\n",
    "axis(\"equal\")\n",
    "axis(\"off\")"
   ]
  },
  {
   "cell_type": "markdown",
   "metadata": {},
   "source": [
    "## Model 3: splitted beam, frictionless contact, small sliding"
   ]
  },
  {
   "cell_type": "code",
   "execution_count": null,
   "metadata": {
    "collapsed": true
   },
   "outputs": [],
   "source": []
  }
 ],
 "metadata": {
  "kernelspec": {
   "display_name": "Julia 0.4.2",
   "language": "julia",
   "name": "julia-0.4"
  },
  "language_info": {
   "file_extension": ".jl",
   "mimetype": "application/julia",
   "name": "julia",
   "version": "0.4.2"
  }
 },
 "nbformat": 4,
 "nbformat_minor": 0
}
